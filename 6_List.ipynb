{
 "cells": [
  {
   "cell_type": "markdown",
   "id": "9fb166d7-c1ca-47e4-99ce-09c22a9281b4",
   "metadata": {},
   "source": [
    " Nested List"
   ]
  },
  {
   "cell_type": "code",
   "execution_count": 1,
   "id": "99dbee1d-bcc0-4e42-b4d1-8184d5ba5fe3",
   "metadata": {},
   "outputs": [],
   "source": [
    "a = [1,2,3,4,[10,20,30],5,6]"
   ]
  },
  {
   "cell_type": "code",
   "execution_count": 2,
   "id": "aeedfb56-017b-42ae-8fa0-f0e2a7e02370",
   "metadata": {},
   "outputs": [
    {
     "data": {
      "text/plain": [
       "[10, 20, 30]"
      ]
     },
     "execution_count": 2,
     "metadata": {},
     "output_type": "execute_result"
    }
   ],
   "source": [
    "a[4]"
   ]
  },
  {
   "cell_type": "code",
   "execution_count": 3,
   "id": "09a034d5-3aa0-4ea7-b5d6-898666562421",
   "metadata": {},
   "outputs": [
    {
     "data": {
      "text/plain": [
       "20"
      ]
     },
     "execution_count": 3,
     "metadata": {},
     "output_type": "execute_result"
    }
   ],
   "source": [
    "a[4][1]"
   ]
  },
  {
   "cell_type": "code",
   "execution_count": 4,
   "id": "4085836c-f282-463b-b8c5-4f938b9e6501",
   "metadata": {},
   "outputs": [],
   "source": [
    "l = [1,2,3,[10,20,30,[100,200,300],40,50],4,5]"
   ]
  },
  {
   "cell_type": "code",
   "execution_count": 5,
   "id": "d8371746-86c3-491e-9680-900063962f04",
   "metadata": {},
   "outputs": [
    {
     "data": {
      "text/plain": [
       "[10, 20, 30, [100, 200, 300], 40, 50]"
      ]
     },
     "execution_count": 5,
     "metadata": {},
     "output_type": "execute_result"
    }
   ],
   "source": [
    "l[3]"
   ]
  },
  {
   "cell_type": "code",
   "execution_count": 6,
   "id": "f3d1174e-1323-49d0-9725-94fa8207eebe",
   "metadata": {},
   "outputs": [
    {
     "data": {
      "text/plain": [
       "[100, 200, 300]"
      ]
     },
     "execution_count": 6,
     "metadata": {},
     "output_type": "execute_result"
    }
   ],
   "source": [
    "l[3][3]"
   ]
  },
  {
   "cell_type": "code",
   "execution_count": 7,
   "id": "a3768cc9-4f0a-4f6b-8c23-2912ecfd690c",
   "metadata": {},
   "outputs": [
    {
     "data": {
      "text/plain": [
       "200"
      ]
     },
     "execution_count": 7,
     "metadata": {},
     "output_type": "execute_result"
    }
   ],
   "source": [
    "l[3][3][1]"
   ]
  },
  {
   "cell_type": "code",
   "execution_count": 8,
   "id": "d6319fe3-5c74-4032-b21b-a471b5ab0fd1",
   "metadata": {},
   "outputs": [],
   "source": [
    "l = [1,2,3]"
   ]
  },
  {
   "cell_type": "code",
   "execution_count": 9,
   "id": "f4ee99a3-86db-4217-9e00-5815d1155802",
   "metadata": {},
   "outputs": [
    {
     "data": {
      "text/plain": [
       "[1, 2, 3]"
      ]
     },
     "execution_count": 9,
     "metadata": {},
     "output_type": "execute_result"
    }
   ],
   "source": [
    "l"
   ]
  },
  {
   "cell_type": "code",
   "execution_count": 10,
   "id": "5ce83e94-f382-4b42-96a7-b66df6122c33",
   "metadata": {},
   "outputs": [
    {
     "data": {
      "text/plain": [
       "1"
      ]
     },
     "execution_count": 10,
     "metadata": {},
     "output_type": "execute_result"
    }
   ],
   "source": [
    "l[0]"
   ]
  },
  {
   "cell_type": "code",
   "execution_count": 11,
   "id": "5a2f027d-ce66-4965-b42d-eb56119e182e",
   "metadata": {},
   "outputs": [],
   "source": [
    "l[0] = 100"
   ]
  },
  {
   "cell_type": "code",
   "execution_count": 12,
   "id": "17e5f9ee-d8bb-42f6-8078-3d0bd0ce2813",
   "metadata": {},
   "outputs": [
    {
     "data": {
      "text/plain": [
       "[100, 2, 3]"
      ]
     },
     "execution_count": 12,
     "metadata": {},
     "output_type": "execute_result"
    }
   ],
   "source": [
    "l"
   ]
  },
  {
   "cell_type": "code",
   "execution_count": 13,
   "id": "73584e49-cba4-43c2-a6fe-0d8ec5bd5794",
   "metadata": {},
   "outputs": [],
   "source": [
    "names = ['Vaibhav', 'Om', 'Ram', 'Sham', 'Rahul']"
   ]
  },
  {
   "cell_type": "code",
   "execution_count": 14,
   "id": "5ba0b5eb-e5bf-4ad6-b50c-9305cd8470e4",
   "metadata": {},
   "outputs": [],
   "source": [
    "names[1] = 'Onkar'"
   ]
  },
  {
   "cell_type": "code",
   "execution_count": 15,
   "id": "666c4ae6-3997-4e0e-96a4-8ef8bd7a7f9c",
   "metadata": {},
   "outputs": [
    {
     "data": {
      "text/plain": [
       "['Vaibhav', 'Onkar', 'Ram', 'Sham', 'Rahul']"
      ]
     },
     "execution_count": 15,
     "metadata": {},
     "output_type": "execute_result"
    }
   ],
   "source": [
    "names"
   ]
  },
  {
   "cell_type": "code",
   "execution_count": 16,
   "id": "8914257d-235a-4c6c-8af7-5225f4831eaf",
   "metadata": {},
   "outputs": [],
   "source": [
    "b = ['A', 'B', 'C',[12,10,16,19], 'D', 'E']"
   ]
  },
  {
   "cell_type": "code",
   "execution_count": 17,
   "id": "db68f5c9-ca65-4c96-a90d-78d80b70d0c5",
   "metadata": {},
   "outputs": [
    {
     "data": {
      "text/plain": [
       "[12, 10, 16, 19]"
      ]
     },
     "execution_count": 17,
     "metadata": {},
     "output_type": "execute_result"
    }
   ],
   "source": [
    "b[3]"
   ]
  },
  {
   "cell_type": "code",
   "execution_count": 18,
   "id": "53d6f9d8-3591-4c6e-8b2d-bb5c8e867ca3",
   "metadata": {},
   "outputs": [
    {
     "data": {
      "text/plain": [
       "16"
      ]
     },
     "execution_count": 18,
     "metadata": {},
     "output_type": "execute_result"
    }
   ],
   "source": [
    "b[3][2]"
   ]
  },
  {
   "cell_type": "code",
   "execution_count": 19,
   "id": "c8f54505-3861-4691-9c8d-97936b774d4e",
   "metadata": {},
   "outputs": [
    {
     "data": {
      "text/plain": [
       "'C'"
      ]
     },
     "execution_count": 19,
     "metadata": {},
     "output_type": "execute_result"
    }
   ],
   "source": [
    "b[2]"
   ]
  },
  {
   "cell_type": "code",
   "execution_count": 20,
   "id": "7bd13bb8-ceaa-4f58-80de-de72e88f2de8",
   "metadata": {},
   "outputs": [
    {
     "data": {
      "text/plain": [
       "'A'"
      ]
     },
     "execution_count": 20,
     "metadata": {},
     "output_type": "execute_result"
    }
   ],
   "source": [
    "b[0]"
   ]
  },
  {
   "cell_type": "code",
   "execution_count": 21,
   "id": "89e6802f-a48c-4f31-9214-8548eb8a0daa",
   "metadata": {},
   "outputs": [],
   "source": [
    "b[0] = 'F'"
   ]
  },
  {
   "cell_type": "code",
   "execution_count": 22,
   "id": "28eb1cfe-108a-499c-97ef-67fd560005f1",
   "metadata": {},
   "outputs": [
    {
     "data": {
      "text/plain": [
       "['F', 'B', 'C', [12, 10, 16, 19], 'D', 'E']"
      ]
     },
     "execution_count": 22,
     "metadata": {},
     "output_type": "execute_result"
    }
   ],
   "source": [
    "b"
   ]
  },
  {
   "cell_type": "code",
   "execution_count": 23,
   "id": "274f13f9-7e4e-4731-9d16-d1aeb2cbc18e",
   "metadata": {},
   "outputs": [],
   "source": [
    "c = [101,202,330,400,500,[1,2,3,4,5,['s','x','d','g']],900]"
   ]
  },
  {
   "cell_type": "code",
   "execution_count": 24,
   "id": "efb7d2b4-9e6d-4765-8e8d-310b812ae6a9",
   "metadata": {},
   "outputs": [
    {
     "data": {
      "text/plain": [
       "400"
      ]
     },
     "execution_count": 24,
     "metadata": {},
     "output_type": "execute_result"
    }
   ],
   "source": [
    "c[3]"
   ]
  },
  {
   "cell_type": "code",
   "execution_count": 25,
   "id": "6d61ea5f-469c-4fee-9b51-57f992a5a3b1",
   "metadata": {},
   "outputs": [
    {
     "data": {
      "text/plain": [
       "[1, 2, 3, 4, 5, ['s', 'x', 'd', 'g']]"
      ]
     },
     "execution_count": 25,
     "metadata": {},
     "output_type": "execute_result"
    }
   ],
   "source": [
    "c[5]"
   ]
  },
  {
   "cell_type": "code",
   "execution_count": 26,
   "id": "6293fb1d-7283-4b44-a27c-aa44352fef53",
   "metadata": {},
   "outputs": [
    {
     "data": {
      "text/plain": [
       "['s', 'x', 'd', 'g']"
      ]
     },
     "execution_count": 26,
     "metadata": {},
     "output_type": "execute_result"
    }
   ],
   "source": [
    "c[5][5]"
   ]
  },
  {
   "cell_type": "code",
   "execution_count": 27,
   "id": "be586c0f-de9e-4110-81e1-d832f59a8d9a",
   "metadata": {},
   "outputs": [
    {
     "data": {
      "text/plain": [
       "900"
      ]
     },
     "execution_count": 27,
     "metadata": {},
     "output_type": "execute_result"
    }
   ],
   "source": [
    "c[6]"
   ]
  },
  {
   "cell_type": "markdown",
   "id": "a4a60541-3d65-4902-b2de-977de3cc89dd",
   "metadata": {},
   "source": [
    "Functions in List"
   ]
  },
  {
   "cell_type": "code",
   "execution_count": 28,
   "id": "66a60190-d9ee-4ea9-bbd2-551c2fb5a4d0",
   "metadata": {},
   "outputs": [
    {
     "data": {
      "text/plain": [
       "[100, 2, 3]"
      ]
     },
     "execution_count": 28,
     "metadata": {},
     "output_type": "execute_result"
    }
   ],
   "source": [
    "l"
   ]
  },
  {
   "cell_type": "code",
   "execution_count": 29,
   "id": "39622939-aa84-465b-afab-57b6a16cd3a5",
   "metadata": {},
   "outputs": [],
   "source": [
    "l.append(200)"
   ]
  },
  {
   "cell_type": "code",
   "execution_count": 30,
   "id": "650c9975-5efa-4b62-88b5-89af2bea4ad1",
   "metadata": {},
   "outputs": [
    {
     "data": {
      "text/plain": [
       "[100, 2, 3, 200]"
      ]
     },
     "execution_count": 30,
     "metadata": {},
     "output_type": "execute_result"
    }
   ],
   "source": [
    "l"
   ]
  },
  {
   "cell_type": "code",
   "execution_count": 31,
   "id": "11f102c8-ff6a-4e47-8103-19df36af06c4",
   "metadata": {},
   "outputs": [],
   "source": [
    "l.append(500)"
   ]
  },
  {
   "cell_type": "code",
   "execution_count": 32,
   "id": "d9f16080-2bf1-44d0-a32c-83677674b6bc",
   "metadata": {},
   "outputs": [
    {
     "data": {
      "text/plain": [
       "[100, 2, 3, 200, 500]"
      ]
     },
     "execution_count": 32,
     "metadata": {},
     "output_type": "execute_result"
    }
   ],
   "source": [
    "l"
   ]
  },
  {
   "cell_type": "code",
   "execution_count": 33,
   "id": "155ec6fd-317d-475c-8aeb-e81a87855ddd",
   "metadata": {},
   "outputs": [],
   "source": [
    "l.append([1.5,2.5,3.5])"
   ]
  },
  {
   "cell_type": "code",
   "execution_count": 34,
   "id": "696c446c-3459-45c4-aff7-727899568332",
   "metadata": {},
   "outputs": [
    {
     "data": {
      "text/plain": [
       "[100, 2, 3, 200, 500, [1.5, 2.5, 3.5]]"
      ]
     },
     "execution_count": 34,
     "metadata": {},
     "output_type": "execute_result"
    }
   ],
   "source": [
    "l"
   ]
  },
  {
   "cell_type": "code",
   "execution_count": 35,
   "id": "427f15e7-778d-47fe-9eab-7f3bbe13847a",
   "metadata": {},
   "outputs": [
    {
     "data": {
      "text/plain": [
       "[1, 2, 3, 4, [10, 20, 30], 5, 6]"
      ]
     },
     "execution_count": 35,
     "metadata": {},
     "output_type": "execute_result"
    }
   ],
   "source": [
    "a"
   ]
  },
  {
   "cell_type": "code",
   "execution_count": 36,
   "id": "25296d92-6619-4f11-9083-299f32c7e1d4",
   "metadata": {},
   "outputs": [],
   "source": [
    "a.append(7)"
   ]
  },
  {
   "cell_type": "code",
   "execution_count": 37,
   "id": "02116ea5-7220-4370-aa12-bc2942a38315",
   "metadata": {},
   "outputs": [
    {
     "data": {
      "text/plain": [
       "[1, 2, 3, 4, [10, 20, 30], 5, 6, 7]"
      ]
     },
     "execution_count": 37,
     "metadata": {},
     "output_type": "execute_result"
    }
   ],
   "source": [
    "a"
   ]
  },
  {
   "cell_type": "code",
   "execution_count": 38,
   "id": "4744395e-4af6-4e3c-a7bd-92189630a8c1",
   "metadata": {},
   "outputs": [
    {
     "data": {
      "text/plain": [
       "['F', 'B', 'C', [12, 10, 16, 19], 'D', 'E']"
      ]
     },
     "execution_count": 38,
     "metadata": {},
     "output_type": "execute_result"
    }
   ],
   "source": [
    "b"
   ]
  },
  {
   "cell_type": "code",
   "execution_count": 39,
   "id": "cd8936bd-fd5d-4de1-9e4e-82b4b76fb434",
   "metadata": {},
   "outputs": [],
   "source": [
    "b.append('s')"
   ]
  },
  {
   "cell_type": "code",
   "execution_count": 40,
   "id": "83d53695-b645-4c59-b473-42bef8c5d8f1",
   "metadata": {},
   "outputs": [
    {
     "data": {
      "text/plain": [
       "['F', 'B', 'C', [12, 10, 16, 19], 'D', 'E', 's']"
      ]
     },
     "execution_count": 40,
     "metadata": {},
     "output_type": "execute_result"
    }
   ],
   "source": [
    "b"
   ]
  },
  {
   "cell_type": "code",
   "execution_count": 41,
   "id": "2629acfb-b3ce-4fe1-88d2-2af28674a6cf",
   "metadata": {},
   "outputs": [],
   "source": [
    "b[3].append(21)"
   ]
  },
  {
   "cell_type": "code",
   "execution_count": 42,
   "id": "cec64e8b-5ad8-445f-9a37-f45b2cf5afdc",
   "metadata": {},
   "outputs": [
    {
     "data": {
      "text/plain": [
       "['F', 'B', 'C', [12, 10, 16, 19, 21], 'D', 'E', 's']"
      ]
     },
     "execution_count": 42,
     "metadata": {},
     "output_type": "execute_result"
    }
   ],
   "source": [
    "b"
   ]
  },
  {
   "cell_type": "code",
   "execution_count": 43,
   "id": "13e49318-e35f-49e0-a100-e5881f1fd75b",
   "metadata": {},
   "outputs": [
    {
     "data": {
      "text/plain": [
       "[101, 202, 330, 400, 500, [1, 2, 3, 4, 5, ['s', 'x', 'd', 'g']], 900]"
      ]
     },
     "execution_count": 43,
     "metadata": {},
     "output_type": "execute_result"
    }
   ],
   "source": [
    "c"
   ]
  },
  {
   "cell_type": "code",
   "execution_count": 44,
   "id": "003db4ef-187d-47f7-b3fa-c6ab41329eac",
   "metadata": {},
   "outputs": [],
   "source": [
    "c[5][5].append('z')"
   ]
  },
  {
   "cell_type": "code",
   "execution_count": 45,
   "id": "96668b3b-06de-45ae-89b7-b9b65c92dbde",
   "metadata": {},
   "outputs": [
    {
     "data": {
      "text/plain": [
       "[101, 202, 330, 400, 500, [1, 2, 3, 4, 5, ['s', 'x', 'd', 'g', 'z']], 900]"
      ]
     },
     "execution_count": 45,
     "metadata": {},
     "output_type": "execute_result"
    }
   ],
   "source": [
    "c"
   ]
  },
  {
   "cell_type": "code",
   "execution_count": 46,
   "id": "225c45bd-7bd9-47b3-8d3a-37b4bd992f48",
   "metadata": {},
   "outputs": [],
   "source": [
    "l.extend([1.5,2.5,3.5])"
   ]
  },
  {
   "cell_type": "code",
   "execution_count": 47,
   "id": "55d4a338-1ca3-42ac-aebc-67e54f70a94f",
   "metadata": {},
   "outputs": [
    {
     "data": {
      "text/plain": [
       "[100, 2, 3, 200, 500, [1.5, 2.5, 3.5], 1.5, 2.5, 3.5]"
      ]
     },
     "execution_count": 47,
     "metadata": {},
     "output_type": "execute_result"
    }
   ],
   "source": [
    "l"
   ]
  },
  {
   "cell_type": "code",
   "execution_count": 48,
   "id": "ffc963a6-50dc-45fd-a805-6eed7d492593",
   "metadata": {},
   "outputs": [],
   "source": [
    "l.extend('Hello')"
   ]
  },
  {
   "cell_type": "code",
   "execution_count": 49,
   "id": "4f799d4d-574f-425a-b8af-a20118670cd8",
   "metadata": {},
   "outputs": [
    {
     "data": {
      "text/plain": [
       "[100, 2, 3, 200, 500, [1.5, 2.5, 3.5], 1.5, 2.5, 3.5, 'H', 'e', 'l', 'l', 'o']"
      ]
     },
     "execution_count": 49,
     "metadata": {},
     "output_type": "execute_result"
    }
   ],
   "source": [
    "l"
   ]
  },
  {
   "cell_type": "code",
   "execution_count": 50,
   "id": "b0f23291-586c-4b51-ab90-11026e91bee6",
   "metadata": {},
   "outputs": [
    {
     "data": {
      "text/plain": [
       "[1, 2, 3, 4, [10, 20, 30], 5, 6, 7]"
      ]
     },
     "execution_count": 50,
     "metadata": {},
     "output_type": "execute_result"
    }
   ],
   "source": [
    "a"
   ]
  },
  {
   "cell_type": "code",
   "execution_count": 51,
   "id": "0a22a06e-1c98-4fbb-b059-589c4d0eb646",
   "metadata": {},
   "outputs": [],
   "source": [
    "a.extend('List')"
   ]
  },
  {
   "cell_type": "code",
   "execution_count": 52,
   "id": "d29c91b6-cc38-43bf-bde2-210323b5cda5",
   "metadata": {},
   "outputs": [
    {
     "data": {
      "text/plain": [
       "[1, 2, 3, 4, [10, 20, 30], 5, 6, 7, 'L', 'i', 's', 't']"
      ]
     },
     "execution_count": 52,
     "metadata": {},
     "output_type": "execute_result"
    }
   ],
   "source": [
    "a"
   ]
  },
  {
   "cell_type": "code",
   "execution_count": 53,
   "id": "7d358f42-47ce-4cdf-b998-b2427f230290",
   "metadata": {},
   "outputs": [
    {
     "data": {
      "text/plain": [
       "[101, 202, 330, 400, 500, [1, 2, 3, 4, 5, ['s', 'x', 'd', 'g', 'z']], 900]"
      ]
     },
     "execution_count": 53,
     "metadata": {},
     "output_type": "execute_result"
    }
   ],
   "source": [
    "c"
   ]
  },
  {
   "cell_type": "code",
   "execution_count": 54,
   "id": "3433dd8a-4c7b-40c5-a478-6f48d2578ca9",
   "metadata": {},
   "outputs": [],
   "source": [
    "c.extend('Study')"
   ]
  },
  {
   "cell_type": "code",
   "execution_count": 86,
   "id": "0b311540-9277-44e0-9b45-188a09757d98",
   "metadata": {},
   "outputs": [
    {
     "data": {
      "text/plain": [
       "[101,\n",
       " 202,\n",
       " 330,\n",
       " 400,\n",
       " 500,\n",
       " [1, 2, 3, 4, 5, ['s', 'x', 'd', 'g', 'z']],\n",
       " 900,\n",
       " 'S',\n",
       " 't',\n",
       " 'u',\n",
       " 'd',\n",
       " 'y']"
      ]
     },
     "execution_count": 86,
     "metadata": {},
     "output_type": "execute_result"
    }
   ],
   "source": [
    "c"
   ]
  },
  {
   "cell_type": "code",
   "execution_count": 55,
   "id": "199a031d-d143-4b93-beab-c93ad1639b2b",
   "metadata": {},
   "outputs": [],
   "source": [
    "n = 'Hello'"
   ]
  },
  {
   "cell_type": "code",
   "execution_count": 56,
   "id": "82bdea6d-4e08-4527-ad29-a431d4b0ae7a",
   "metadata": {},
   "outputs": [
    {
     "data": {
      "text/plain": [
       "'H'"
      ]
     },
     "execution_count": 56,
     "metadata": {},
     "output_type": "execute_result"
    }
   ],
   "source": [
    "n[0]"
   ]
  },
  {
   "cell_type": "code",
   "execution_count": 57,
   "id": "48b705c1-9519-4a0f-914e-0e167438b8d5",
   "metadata": {},
   "outputs": [
    {
     "data": {
      "text/plain": [
       "'e'"
      ]
     },
     "execution_count": 57,
     "metadata": {},
     "output_type": "execute_result"
    }
   ],
   "source": [
    "n[1]"
   ]
  },
  {
   "cell_type": "code",
   "execution_count": 58,
   "id": "03aa1227-f4f5-4940-9517-7dc9c2eea8d2",
   "metadata": {},
   "outputs": [],
   "source": [
    "# Number --> 72252"
   ]
  },
  {
   "cell_type": "code",
   "execution_count": 59,
   "id": "7d48f50f-568e-40af-b41c-d39ea2c0a306",
   "metadata": {},
   "outputs": [],
   "source": [
    "m = 72252"
   ]
  },
  {
   "cell_type": "code",
   "execution_count": 60,
   "id": "a047799d-d68e-4052-8dc9-8aa2c8ec7743",
   "metadata": {},
   "outputs": [
    {
     "data": {
      "text/plain": [
       "72252"
      ]
     },
     "execution_count": 60,
     "metadata": {},
     "output_type": "execute_result"
    }
   ],
   "source": [
    "m"
   ]
  },
  {
   "cell_type": "code",
   "execution_count": 61,
   "id": "bb489edc-e305-4193-a4d6-6e70ebb9381a",
   "metadata": {},
   "outputs": [],
   "source": [
    "num = str(m)"
   ]
  },
  {
   "cell_type": "code",
   "execution_count": 62,
   "id": "7a7ab8fd-f845-4c3a-8ac3-7698a1d08c1c",
   "metadata": {},
   "outputs": [
    {
     "data": {
      "text/plain": [
       "'72252'"
      ]
     },
     "execution_count": 62,
     "metadata": {},
     "output_type": "execute_result"
    }
   ],
   "source": [
    "num"
   ]
  },
  {
   "cell_type": "code",
   "execution_count": 63,
   "id": "da04e1d4-ba8d-4205-8a05-51fe77bbdada",
   "metadata": {},
   "outputs": [
    {
     "data": {
      "text/plain": [
       "['7', '2', '2', '5', '2']"
      ]
     },
     "execution_count": 63,
     "metadata": {},
     "output_type": "execute_result"
    }
   ],
   "source": [
    "list(num)"
   ]
  },
  {
   "cell_type": "code",
   "execution_count": 64,
   "id": "e2f8dd79-977f-46cc-bd22-72daca5ef3bf",
   "metadata": {},
   "outputs": [],
   "source": [
    "l.insert(1,True)"
   ]
  },
  {
   "cell_type": "code",
   "execution_count": 65,
   "id": "332e2e49-d8ce-452c-929d-63416b7ba30a",
   "metadata": {},
   "outputs": [
    {
     "data": {
      "text/plain": [
       "[100,\n",
       " True,\n",
       " 2,\n",
       " 3,\n",
       " 200,\n",
       " 500,\n",
       " [1.5, 2.5, 3.5],\n",
       " 1.5,\n",
       " 2.5,\n",
       " 3.5,\n",
       " 'H',\n",
       " 'e',\n",
       " 'l',\n",
       " 'l',\n",
       " 'o']"
      ]
     },
     "execution_count": 65,
     "metadata": {},
     "output_type": "execute_result"
    }
   ],
   "source": [
    "l"
   ]
  },
  {
   "cell_type": "code",
   "execution_count": 66,
   "id": "b8771ebe-831d-48bc-90d7-0ff4d8c2fee5",
   "metadata": {},
   "outputs": [
    {
     "data": {
      "text/plain": [
       "['Vaibhav', 'Onkar', 'Ram', 'Sham', 'Rahul']"
      ]
     },
     "execution_count": 66,
     "metadata": {},
     "output_type": "execute_result"
    }
   ],
   "source": [
    "names"
   ]
  },
  {
   "cell_type": "code",
   "execution_count": 67,
   "id": "18fab57f-7f1a-497b-b7ad-54935f57f125",
   "metadata": {},
   "outputs": [],
   "source": [
    "names.insert(2,'John')"
   ]
  },
  {
   "cell_type": "code",
   "execution_count": 68,
   "id": "5befc1c6-1709-42da-bf73-c00fc330d0f8",
   "metadata": {},
   "outputs": [
    {
     "data": {
      "text/plain": [
       "['Vaibhav', 'Onkar', 'John', 'Ram', 'Sham', 'Rahul']"
      ]
     },
     "execution_count": 68,
     "metadata": {},
     "output_type": "execute_result"
    }
   ],
   "source": [
    "names"
   ]
  },
  {
   "cell_type": "code",
   "execution_count": 69,
   "id": "991f4758-57d9-402d-8514-ce4abe7bf706",
   "metadata": {},
   "outputs": [
    {
     "data": {
      "text/plain": [
       "3"
      ]
     },
     "execution_count": 69,
     "metadata": {},
     "output_type": "execute_result"
    }
   ],
   "source": [
    "names.index('Ram')"
   ]
  },
  {
   "cell_type": "code",
   "execution_count": 70,
   "id": "e67a0122-b9b2-49bc-934c-deb21e10e23f",
   "metadata": {},
   "outputs": [
    {
     "data": {
      "text/plain": [
       "[100,\n",
       " True,\n",
       " 2,\n",
       " 3,\n",
       " 200,\n",
       " 500,\n",
       " [1.5, 2.5, 3.5],\n",
       " 1.5,\n",
       " 2.5,\n",
       " 3.5,\n",
       " 'H',\n",
       " 'e',\n",
       " 'l',\n",
       " 'l',\n",
       " 'o']"
      ]
     },
     "execution_count": 70,
     "metadata": {},
     "output_type": "execute_result"
    }
   ],
   "source": [
    "l"
   ]
  },
  {
   "cell_type": "code",
   "execution_count": 71,
   "id": "2eb629bf-642d-4466-bf76-fbe6659a12c9",
   "metadata": {},
   "outputs": [
    {
     "data": {
      "text/plain": [
       "5"
      ]
     },
     "execution_count": 71,
     "metadata": {},
     "output_type": "execute_result"
    }
   ],
   "source": [
    "l.index(500)"
   ]
  },
  {
   "cell_type": "code",
   "execution_count": 72,
   "id": "cb6ab0e6-6159-41ba-a10e-d095be544fc0",
   "metadata": {},
   "outputs": [],
   "source": [
    "o = [1,2,3,1,2,5,2,6]"
   ]
  },
  {
   "cell_type": "code",
   "execution_count": 73,
   "id": "0311face-6c65-4e03-afad-e0500abf3a39",
   "metadata": {},
   "outputs": [
    {
     "data": {
      "text/plain": [
       "0"
      ]
     },
     "execution_count": 73,
     "metadata": {},
     "output_type": "execute_result"
    }
   ],
   "source": [
    "o.index(1)"
   ]
  },
  {
   "cell_type": "code",
   "execution_count": 74,
   "id": "6c941cd6-e63d-4909-a42c-6531f78afdde",
   "metadata": {},
   "outputs": [
    {
     "data": {
      "text/plain": [
       "1"
      ]
     },
     "execution_count": 74,
     "metadata": {},
     "output_type": "execute_result"
    }
   ],
   "source": [
    "o.index(2)"
   ]
  },
  {
   "cell_type": "code",
   "execution_count": 75,
   "id": "be3039e2-7e71-4d6e-91e6-63538159169b",
   "metadata": {},
   "outputs": [
    {
     "data": {
      "text/plain": [
       "[1, 2, 3, 1, 2, 5, 2, 6]"
      ]
     },
     "execution_count": 75,
     "metadata": {},
     "output_type": "execute_result"
    }
   ],
   "source": [
    "o"
   ]
  },
  {
   "cell_type": "code",
   "execution_count": 76,
   "id": "ed5658ad-7cbb-49b6-a292-190f69ffbbac",
   "metadata": {},
   "outputs": [],
   "source": [
    "o.sort()"
   ]
  },
  {
   "cell_type": "code",
   "execution_count": 77,
   "id": "a00ce64b-c426-4c26-9e7b-736364763fe9",
   "metadata": {},
   "outputs": [
    {
     "data": {
      "text/plain": [
       "[1, 1, 2, 2, 2, 3, 5, 6]"
      ]
     },
     "execution_count": 77,
     "metadata": {},
     "output_type": "execute_result"
    }
   ],
   "source": [
    "o"
   ]
  },
  {
   "cell_type": "code",
   "execution_count": 78,
   "id": "642c5134-1196-4056-9878-45496af4611d",
   "metadata": {},
   "outputs": [
    {
     "data": {
      "text/plain": [
       "3"
      ]
     },
     "execution_count": 78,
     "metadata": {},
     "output_type": "execute_result"
    }
   ],
   "source": [
    "o.count(2)"
   ]
  },
  {
   "cell_type": "code",
   "execution_count": 79,
   "id": "cceff81d-8c66-488f-bdfb-38af6022aecf",
   "metadata": {},
   "outputs": [
    {
     "data": {
      "text/plain": [
       "2"
      ]
     },
     "execution_count": 79,
     "metadata": {},
     "output_type": "execute_result"
    }
   ],
   "source": [
    "o.count(1)"
   ]
  },
  {
   "cell_type": "code",
   "execution_count": 80,
   "id": "151db055-8333-4ad7-b003-564a8a356701",
   "metadata": {},
   "outputs": [],
   "source": [
    "o.remove(5)"
   ]
  },
  {
   "cell_type": "code",
   "execution_count": 81,
   "id": "c38feadc-d1cc-4b2e-8182-b6a615d0841f",
   "metadata": {},
   "outputs": [
    {
     "data": {
      "text/plain": [
       "[1, 1, 2, 2, 2, 3, 6]"
      ]
     },
     "execution_count": 81,
     "metadata": {},
     "output_type": "execute_result"
    }
   ],
   "source": [
    "o"
   ]
  },
  {
   "cell_type": "code",
   "execution_count": 82,
   "id": "268aaede-8b2a-491b-8fa2-b2ae63cde3b3",
   "metadata": {},
   "outputs": [],
   "source": [
    "o.remove(2)"
   ]
  },
  {
   "cell_type": "code",
   "execution_count": 83,
   "id": "0f3358a1-5ffd-4e6f-84e1-08f121d24d0d",
   "metadata": {},
   "outputs": [
    {
     "data": {
      "text/plain": [
       "[1, 1, 2, 2, 3, 6]"
      ]
     },
     "execution_count": 83,
     "metadata": {},
     "output_type": "execute_result"
    }
   ],
   "source": [
    "o"
   ]
  },
  {
   "cell_type": "code",
   "execution_count": 84,
   "id": "7e844a84-9be7-4c6f-ab1d-f81de7bcf042",
   "metadata": {},
   "outputs": [
    {
     "data": {
      "text/plain": [
       "6"
      ]
     },
     "execution_count": 84,
     "metadata": {},
     "output_type": "execute_result"
    }
   ],
   "source": [
    "o.pop()"
   ]
  },
  {
   "cell_type": "code",
   "execution_count": 85,
   "id": "5f69df8e-c24e-43c0-bd13-563d26ef8fd3",
   "metadata": {},
   "outputs": [
    {
     "data": {
      "text/plain": [
       "[1, 1, 2, 2, 3]"
      ]
     },
     "execution_count": 85,
     "metadata": {},
     "output_type": "execute_result"
    }
   ],
   "source": [
    "o"
   ]
  },
  {
   "cell_type": "code",
   "execution_count": 87,
   "id": "bc47bd9e-2d23-4c64-9f33-e6557773a8ca",
   "metadata": {},
   "outputs": [
    {
     "data": {
      "text/plain": [
       "[101,\n",
       " 202,\n",
       " 330,\n",
       " 400,\n",
       " 500,\n",
       " [1, 2, 3, 4, 5, ['s', 'x', 'd', 'g', 'z']],\n",
       " 900,\n",
       " 'S',\n",
       " 't',\n",
       " 'u',\n",
       " 'd',\n",
       " 'y']"
      ]
     },
     "execution_count": 87,
     "metadata": {},
     "output_type": "execute_result"
    }
   ],
   "source": [
    "c"
   ]
  },
  {
   "cell_type": "code",
   "execution_count": 89,
   "id": "1b9a1f2c-b585-4fae-94b2-6afe12f11aa7",
   "metadata": {},
   "outputs": [
    {
     "data": {
      "text/plain": [
       "1"
      ]
     },
     "execution_count": 89,
     "metadata": {},
     "output_type": "execute_result"
    }
   ],
   "source": [
    "c.index(202)"
   ]
  },
  {
   "cell_type": "code",
   "execution_count": 92,
   "id": "d2047ff1-69e8-418c-9eab-29e8052d831d",
   "metadata": {},
   "outputs": [
    {
     "data": {
      "text/plain": [
       "6"
      ]
     },
     "execution_count": 92,
     "metadata": {},
     "output_type": "execute_result"
    }
   ],
   "source": [
    "c.index(900)"
   ]
  },
  {
   "cell_type": "code",
   "execution_count": 93,
   "id": "92b6cd92-3a41-4253-beda-7d00e972a00f",
   "metadata": {},
   "outputs": [
    {
     "data": {
      "text/plain": [
       "11"
      ]
     },
     "execution_count": 93,
     "metadata": {},
     "output_type": "execute_result"
    }
   ],
   "source": [
    "c.index('y')"
   ]
  },
  {
   "cell_type": "code",
   "execution_count": 94,
   "id": "fbe320e9-72fa-4d03-b47e-859ebdca6bd4",
   "metadata": {},
   "outputs": [
    {
     "data": {
      "text/plain": [
       "['Vaibhav', 'Onkar', 'John', 'Ram', 'Sham', 'Rahul']"
      ]
     },
     "execution_count": 94,
     "metadata": {},
     "output_type": "execute_result"
    }
   ],
   "source": [
    "names"
   ]
  },
  {
   "cell_type": "code",
   "execution_count": 96,
   "id": "8d6e333b-e94e-4bd3-a469-d0a2f18df2bb",
   "metadata": {},
   "outputs": [],
   "source": [
    "names.sort()"
   ]
  },
  {
   "cell_type": "code",
   "execution_count": 98,
   "id": "4c6ec884-d021-42b1-840f-3277fd21324a",
   "metadata": {},
   "outputs": [
    {
     "data": {
      "text/plain": [
       "['John', 'Onkar', 'Rahul', 'Ram', 'Sham', 'Vaibhav']"
      ]
     },
     "execution_count": 98,
     "metadata": {},
     "output_type": "execute_result"
    }
   ],
   "source": [
    "names"
   ]
  },
  {
   "cell_type": "code",
   "execution_count": 102,
   "id": "e27a8bb7-8cba-43db-bb80-ef2f4929f270",
   "metadata": {},
   "outputs": [],
   "source": [
    "v = [2,34,35,1,0,4,2,8,34]"
   ]
  },
  {
   "cell_type": "code",
   "execution_count": 103,
   "id": "a4128326-6c02-415b-8309-818ec5e26a5d",
   "metadata": {},
   "outputs": [],
   "source": [
    "v.sort()"
   ]
  },
  {
   "cell_type": "code",
   "execution_count": 104,
   "id": "1031f0a1-9224-4595-997f-6b3931e85ba4",
   "metadata": {},
   "outputs": [
    {
     "data": {
      "text/plain": [
       "[0, 1, 2, 2, 4, 8, 34, 34, 35]"
      ]
     },
     "execution_count": 104,
     "metadata": {},
     "output_type": "execute_result"
    }
   ],
   "source": [
    "v"
   ]
  },
  {
   "cell_type": "code",
   "execution_count": 106,
   "id": "5470df92-81e0-4606-990a-6b738d2486ea",
   "metadata": {},
   "outputs": [
    {
     "data": {
      "text/plain": [
       "2"
      ]
     },
     "execution_count": 106,
     "metadata": {},
     "output_type": "execute_result"
    }
   ],
   "source": [
    "v.count(34)"
   ]
  },
  {
   "cell_type": "code",
   "execution_count": 107,
   "id": "b20481de-4fb3-47e1-badc-58f1dd8207cb",
   "metadata": {},
   "outputs": [
    {
     "data": {
      "text/plain": [
       "0"
      ]
     },
     "execution_count": 107,
     "metadata": {},
     "output_type": "execute_result"
    }
   ],
   "source": [
    "v.count(3)"
   ]
  },
  {
   "cell_type": "code",
   "execution_count": 108,
   "id": "b594b8d9-b7e3-426f-a78a-f7c65317bd7c",
   "metadata": {},
   "outputs": [
    {
     "data": {
      "text/plain": [
       "1"
      ]
     },
     "execution_count": 108,
     "metadata": {},
     "output_type": "execute_result"
    }
   ],
   "source": [
    "v.count(0)"
   ]
  },
  {
   "cell_type": "code",
   "execution_count": 109,
   "id": "6f51a38f-5866-4c7e-9b8b-bf2c09055653",
   "metadata": {},
   "outputs": [],
   "source": [
    "v.remove(2)"
   ]
  },
  {
   "cell_type": "code",
   "execution_count": 110,
   "id": "0b8502ba-17bb-48bf-aa79-24d823557ae1",
   "metadata": {},
   "outputs": [
    {
     "data": {
      "text/plain": [
       "[0, 1, 2, 4, 8, 34, 34, 35]"
      ]
     },
     "execution_count": 110,
     "metadata": {},
     "output_type": "execute_result"
    }
   ],
   "source": [
    "v"
   ]
  },
  {
   "cell_type": "code",
   "execution_count": 112,
   "id": "7817c551-91a6-44d5-b14a-e943166db989",
   "metadata": {},
   "outputs": [],
   "source": [
    "v.remove(34)"
   ]
  },
  {
   "cell_type": "code",
   "execution_count": 113,
   "id": "14489231-9868-463c-9a3c-cafc47fe3945",
   "metadata": {},
   "outputs": [
    {
     "data": {
      "text/plain": [
       "[0, 1, 2, 4, 8, 34, 35]"
      ]
     },
     "execution_count": 113,
     "metadata": {},
     "output_type": "execute_result"
    }
   ],
   "source": [
    "v"
   ]
  },
  {
   "cell_type": "code",
   "execution_count": 115,
   "id": "e6d3226f-6ab3-4d11-bbb3-7ec6cc884d9f",
   "metadata": {},
   "outputs": [
    {
     "data": {
      "text/plain": [
       "2"
      ]
     },
     "execution_count": 115,
     "metadata": {},
     "output_type": "execute_result"
    }
   ],
   "source": [
    "v.pop(2)"
   ]
  },
  {
   "cell_type": "code",
   "execution_count": 116,
   "id": "589bc3df-04a8-41b9-9f0f-9c9793fab119",
   "metadata": {},
   "outputs": [
    {
     "data": {
      "text/plain": [
       "[0, 1, 4, 8, 34, 35]"
      ]
     },
     "execution_count": 116,
     "metadata": {},
     "output_type": "execute_result"
    }
   ],
   "source": [
    "v"
   ]
  },
  {
   "cell_type": "code",
   "execution_count": 117,
   "id": "ce1e2dcb-8e9f-41f9-93c7-8903d0cbb49a",
   "metadata": {},
   "outputs": [
    {
     "data": {
      "text/plain": [
       "35"
      ]
     },
     "execution_count": 117,
     "metadata": {},
     "output_type": "execute_result"
    }
   ],
   "source": [
    "v.pop()"
   ]
  },
  {
   "cell_type": "code",
   "execution_count": 118,
   "id": "cf7b0a60-ad6e-429e-a898-9babdd37a13a",
   "metadata": {},
   "outputs": [
    {
     "data": {
      "text/plain": [
       "[0, 1, 4, 8, 34]"
      ]
     },
     "execution_count": 118,
     "metadata": {},
     "output_type": "execute_result"
    }
   ],
   "source": [
    "v"
   ]
  },
  {
   "cell_type": "raw",
   "id": "dda5872f-c240-42a4-bbf9-bf279b82d11b",
   "metadata": {},
   "source": [
    " Pop is going to remove last index of list"
   ]
  },
  {
   "cell_type": "code",
   "execution_count": 119,
   "id": "9dcaf981-672b-4a9c-99c3-99e38179de5e",
   "metadata": {},
   "outputs": [
    {
     "data": {
      "text/plain": [
       "[34, 8, 4, 1, 0]"
      ]
     },
     "execution_count": 119,
     "metadata": {},
     "output_type": "execute_result"
    }
   ],
   "source": [
    "v[::-1]"
   ]
  },
  {
   "cell_type": "code",
   "execution_count": 120,
   "id": "94eb5349-9ad8-4744-9b10-a9864d3d23dc",
   "metadata": {},
   "outputs": [
    {
     "data": {
      "text/plain": [
       "[3, 2, 2, 1, 1]"
      ]
     },
     "execution_count": 120,
     "metadata": {},
     "output_type": "execute_result"
    }
   ],
   "source": [
    "o[::-1]"
   ]
  },
  {
   "cell_type": "code",
   "execution_count": 121,
   "id": "f14a6ec5-38eb-4a85-8ba3-49ba38beab76",
   "metadata": {},
   "outputs": [
    {
     "data": {
      "text/plain": [
       "[1, 1, 2, 2, 3]"
      ]
     },
     "execution_count": 121,
     "metadata": {},
     "output_type": "execute_result"
    }
   ],
   "source": [
    "o"
   ]
  },
  {
   "cell_type": "code",
   "execution_count": 123,
   "id": "f03f1c58-8680-4822-8be2-f93bf8a9e33b",
   "metadata": {},
   "outputs": [],
   "source": [
    "o.reverse()"
   ]
  },
  {
   "cell_type": "code",
   "execution_count": 124,
   "id": "d9e8c3f8-fac5-481f-9dce-d524a55e0583",
   "metadata": {},
   "outputs": [
    {
     "data": {
      "text/plain": [
       "[3, 2, 2, 1, 1]"
      ]
     },
     "execution_count": 124,
     "metadata": {},
     "output_type": "execute_result"
    }
   ],
   "source": [
    "o"
   ]
  },
  {
   "cell_type": "code",
   "execution_count": 125,
   "id": "4816e897-d0f0-4235-8876-acfd08b933f3",
   "metadata": {},
   "outputs": [],
   "source": [
    "v.reverse()"
   ]
  },
  {
   "cell_type": "code",
   "execution_count": 126,
   "id": "f15334c6-01c6-43fa-9c5e-cb408761e9b4",
   "metadata": {},
   "outputs": [
    {
     "data": {
      "text/plain": [
       "[34, 8, 4, 1, 0]"
      ]
     },
     "execution_count": 126,
     "metadata": {},
     "output_type": "execute_result"
    }
   ],
   "source": [
    "v"
   ]
  },
  {
   "cell_type": "raw",
   "id": "653a3eb6-aeab-4e30-a7c6-5e13881fabe8",
   "metadata": {},
   "source": [
    "Copy of dataset"
   ]
  },
  {
   "cell_type": "code",
   "execution_count": 127,
   "id": "8d04caa2-0c48-4bac-b6e2-b85698dbef6b",
   "metadata": {},
   "outputs": [],
   "source": [
    "k = [1,2,3,4,5,6]"
   ]
  },
  {
   "cell_type": "code",
   "execution_count": 128,
   "id": "cc4f6901-3fc6-4b55-bf4e-af84c7ea3f59",
   "metadata": {},
   "outputs": [
    {
     "data": {
      "text/plain": [
       "[1, 2, 3, 4, 5, 6]"
      ]
     },
     "execution_count": 128,
     "metadata": {},
     "output_type": "execute_result"
    }
   ],
   "source": [
    "k"
   ]
  },
  {
   "cell_type": "code",
   "execution_count": 129,
   "id": "9bb96345-401a-461f-a6ff-74b39515291b",
   "metadata": {},
   "outputs": [],
   "source": [
    "k1 = k"
   ]
  },
  {
   "cell_type": "code",
   "execution_count": 130,
   "id": "5b08e0c9-230b-4e00-b417-da900ca4b40d",
   "metadata": {},
   "outputs": [
    {
     "data": {
      "text/plain": [
       "[1, 2, 3, 4, 5, 6]"
      ]
     },
     "execution_count": 130,
     "metadata": {},
     "output_type": "execute_result"
    }
   ],
   "source": [
    "k1"
   ]
  },
  {
   "cell_type": "code",
   "execution_count": 131,
   "id": "cf657fda-6c90-443f-9582-d50363700b8e",
   "metadata": {},
   "outputs": [
    {
     "data": {
      "text/plain": [
       "6"
      ]
     },
     "execution_count": 131,
     "metadata": {},
     "output_type": "execute_result"
    }
   ],
   "source": [
    "k.pop()"
   ]
  },
  {
   "cell_type": "code",
   "execution_count": 132,
   "id": "9ac3fe44-3d9e-4f9f-be45-b738f5ef8a41",
   "metadata": {},
   "outputs": [
    {
     "data": {
      "text/plain": [
       "[1, 2, 3, 4, 5]"
      ]
     },
     "execution_count": 132,
     "metadata": {},
     "output_type": "execute_result"
    }
   ],
   "source": [
    "k"
   ]
  },
  {
   "cell_type": "code",
   "execution_count": 133,
   "id": "092402e8-aa92-4858-a02f-575b584161d8",
   "metadata": {},
   "outputs": [
    {
     "data": {
      "text/plain": [
       "[1, 2, 3, 4, 5]"
      ]
     },
     "execution_count": 133,
     "metadata": {},
     "output_type": "execute_result"
    }
   ],
   "source": [
    "k1"
   ]
  },
  {
   "cell_type": "code",
   "execution_count": 134,
   "id": "6597c94e-7e45-4ef1-b2ac-5dad31f09fc5",
   "metadata": {},
   "outputs": [],
   "source": [
    "k_copy = k.copy()"
   ]
  },
  {
   "cell_type": "code",
   "execution_count": 135,
   "id": "8fd4c4b6-a6a9-4240-bef8-97d94bc79611",
   "metadata": {},
   "outputs": [
    {
     "data": {
      "text/plain": [
       "[1, 2, 3, 4, 5]"
      ]
     },
     "execution_count": 135,
     "metadata": {},
     "output_type": "execute_result"
    }
   ],
   "source": [
    "k_copy"
   ]
  },
  {
   "cell_type": "code",
   "execution_count": 136,
   "id": "e7855086-9e96-4f02-ba54-59cd3b79dc07",
   "metadata": {},
   "outputs": [
    {
     "data": {
      "text/plain": [
       "[1, 2, 3, 4, 5]"
      ]
     },
     "execution_count": 136,
     "metadata": {},
     "output_type": "execute_result"
    }
   ],
   "source": [
    "k"
   ]
  },
  {
   "cell_type": "code",
   "execution_count": 137,
   "id": "3b56b4be-b235-487d-9ffb-267a7ced99c4",
   "metadata": {},
   "outputs": [
    {
     "data": {
      "text/plain": [
       "5"
      ]
     },
     "execution_count": 137,
     "metadata": {},
     "output_type": "execute_result"
    }
   ],
   "source": [
    "k.pop()"
   ]
  },
  {
   "cell_type": "code",
   "execution_count": 138,
   "id": "e1605f44-9d3a-43c3-bc6e-53a305d3cf2b",
   "metadata": {},
   "outputs": [
    {
     "data": {
      "text/plain": [
       "[1, 2, 3, 4]"
      ]
     },
     "execution_count": 138,
     "metadata": {},
     "output_type": "execute_result"
    }
   ],
   "source": [
    "k"
   ]
  },
  {
   "cell_type": "code",
   "execution_count": 139,
   "id": "9db16266-1951-4012-a0cf-f5adcba2d724",
   "metadata": {},
   "outputs": [
    {
     "data": {
      "text/plain": [
       "[1, 2, 3, 4, 5]"
      ]
     },
     "execution_count": 139,
     "metadata": {},
     "output_type": "execute_result"
    }
   ],
   "source": [
    "k_copy"
   ]
  },
  {
   "cell_type": "code",
   "execution_count": 140,
   "id": "5ad13b95-a026-4b0f-a8ef-a4e5e74adafc",
   "metadata": {},
   "outputs": [
    {
     "data": {
      "text/plain": [
       "[34, 8, 4, 1, 0]"
      ]
     },
     "execution_count": 140,
     "metadata": {},
     "output_type": "execute_result"
    }
   ],
   "source": [
    "v"
   ]
  },
  {
   "cell_type": "code",
   "execution_count": 142,
   "id": "cd20af56-a05a-4b11-8209-964c2aab2a02",
   "metadata": {},
   "outputs": [],
   "source": [
    "x=v"
   ]
  },
  {
   "cell_type": "code",
   "execution_count": 143,
   "id": "50ee2e61-59ef-4aab-8365-e11e3b722e0d",
   "metadata": {},
   "outputs": [
    {
     "data": {
      "text/plain": [
       "[34, 8, 4, 1, 0]"
      ]
     },
     "execution_count": 143,
     "metadata": {},
     "output_type": "execute_result"
    }
   ],
   "source": [
    "x"
   ]
  },
  {
   "cell_type": "code",
   "execution_count": 144,
   "id": "b6e7be2f-efc8-428e-8d99-20c1754ca984",
   "metadata": {},
   "outputs": [
    {
     "data": {
      "text/plain": [
       "[34, 8, 4, 1, 0]"
      ]
     },
     "execution_count": 144,
     "metadata": {},
     "output_type": "execute_result"
    }
   ],
   "source": [
    "v"
   ]
  },
  {
   "cell_type": "code",
   "execution_count": 146,
   "id": "98844b19-7934-4e36-a00b-9243106be8aa",
   "metadata": {},
   "outputs": [],
   "source": [
    "v.reverse()"
   ]
  },
  {
   "cell_type": "code",
   "execution_count": 147,
   "id": "d240ad58-59e2-485c-912b-c974fda0766c",
   "metadata": {},
   "outputs": [
    {
     "data": {
      "text/plain": [
       "[0, 1, 4, 8, 34]"
      ]
     },
     "execution_count": 147,
     "metadata": {},
     "output_type": "execute_result"
    }
   ],
   "source": [
    "v"
   ]
  },
  {
   "cell_type": "code",
   "execution_count": 148,
   "id": "e1ba2ec9-ed76-44bb-a3b2-9dd2f8797c54",
   "metadata": {},
   "outputs": [
    {
     "data": {
      "text/plain": [
       "[0, 1, 4, 8, 34]"
      ]
     },
     "execution_count": 148,
     "metadata": {},
     "output_type": "execute_result"
    }
   ],
   "source": [
    "x"
   ]
  },
  {
   "cell_type": "code",
   "execution_count": 149,
   "id": "2602212c-82e2-4426-bb11-c1dd7dfbcdef",
   "metadata": {},
   "outputs": [
    {
     "data": {
      "text/plain": [
       "34"
      ]
     },
     "execution_count": 149,
     "metadata": {},
     "output_type": "execute_result"
    }
   ],
   "source": [
    "v.pop()"
   ]
  },
  {
   "cell_type": "code",
   "execution_count": 150,
   "id": "586b5665-a212-4c4d-9522-6f4964e06fd0",
   "metadata": {},
   "outputs": [
    {
     "data": {
      "text/plain": [
       "[0, 1, 4, 8]"
      ]
     },
     "execution_count": 150,
     "metadata": {},
     "output_type": "execute_result"
    }
   ],
   "source": [
    "v"
   ]
  },
  {
   "cell_type": "code",
   "execution_count": 151,
   "id": "d570e8d7-15b5-49e3-88af-07d5df2f9c6b",
   "metadata": {},
   "outputs": [
    {
     "data": {
      "text/plain": [
       "[0, 1, 4, 8]"
      ]
     },
     "execution_count": 151,
     "metadata": {},
     "output_type": "execute_result"
    }
   ],
   "source": [
    "x"
   ]
  },
  {
   "cell_type": "code",
   "execution_count": null,
   "id": "d7fc8ce3-b73d-424b-9ff9-1613839f3422",
   "metadata": {},
   "outputs": [],
   "source": []
  }
 ],
 "metadata": {
  "kernelspec": {
   "display_name": "Python 3 (ipykernel)",
   "language": "python",
   "name": "python3"
  },
  "language_info": {
   "codemirror_mode": {
    "name": "ipython",
    "version": 3
   },
   "file_extension": ".py",
   "mimetype": "text/x-python",
   "name": "python",
   "nbconvert_exporter": "python",
   "pygments_lexer": "ipython3",
   "version": "3.12.7"
  }
 },
 "nbformat": 4,
 "nbformat_minor": 5
}
