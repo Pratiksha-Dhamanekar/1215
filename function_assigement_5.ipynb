{
 "cells": [
  {
   "cell_type": "markdown",
   "id": "a8adf8bc-ba8b-4d97-8eac-9f3183472838",
   "metadata": {},
   "source": [
    "# 1.Difference  Between print and return:"
   ]
  },
  {
   "cell_type": "markdown",
   "id": "934b08ab-3b04-41d4-b547-d5dcbec7f0c9",
   "metadata": {},
   "source": [
    "1.write a function sum_numbers(a,b) that takes two numbers as input and does the following:"
   ]
  },
  {
   "cell_type": "markdown",
   "id": "44df6b6b-2f0b-46f9-b2aa-8613e4759c8f",
   "metadata": {},
   "source": [
    "* Prints the sum of the numbers.\n",
    "* Returns the sum of the nubers.\n",
    "* call the fuction and explain the difference between the print and return values."
   ]
  },
  {
   "cell_type": "code",
   "execution_count": 3,
   "id": "30444274-1e31-4192-acb4-32980d8b8af1",
   "metadata": {},
   "outputs": [
    {
     "name": "stdout",
     "output_type": "stream",
     "text": [
      "Printed Sum: 20\n",
      "Returned Sum: 20\n"
     ]
    }
   ],
   "source": [
    "def sum_numbers(a, b):\n",
    "    total = a + b\n",
    "    print(\"Printed Sum:\", total)\n",
    "    return total\n",
    "result = sum_numbers(8, 12)\n",
    "print(\"Returned Sum:\", result)"
   ]
  },
  {
   "cell_type": "markdown",
   "id": "0e38abaa-35bd-4186-ab22-d7d73c9bab90",
   "metadata": {},
   "source": [
    "# 2.Local and Global Variables"
   ]
  },
  {
   "cell_type": "markdown",
   "id": "bd1de3ef-8026-42a0-86a7-dcd9ee391291",
   "metadata": {},
   "source": [
    "2.Write a program where:\n",
    "* You difine a global variable counter with initial value of 0.\n",
    "* Create a function increment() that increments counter by 1 each time it is called and prints its value.\n",
    "* Call the function three time  and observe the output."
   ]
  },
  {
   "cell_type": "code",
   "execution_count": 5,
   "id": "3c10182d-2c9e-4b9c-9ba8-f7d1bea0c0a7",
   "metadata": {},
   "outputs": [
    {
     "name": "stdout",
     "output_type": "stream",
     "text": [
      "Counter: 1\n",
      "Counter: 2\n",
      "Counter: 3\n"
     ]
    }
   ],
   "source": [
    "counter = 0\n",
    "def increment():\n",
    "    global counter  \n",
    "    counter += 1\n",
    "    print(\"Counter:\", counter)\n",
    "increment()\n",
    "increment()\n",
    "increment()\n"
   ]
  },
  {
   "cell_type": "markdown",
   "id": "97606ac1-9251-4c1b-8bda-b91ac44116df",
   "metadata": {},
   "source": [
    "3.Write a function demo local() that declares a local variable message = \"Hello,Local\" and prints it.\n",
    "  * Outside the function,try to print the same message variable and note the error."
   ]
  },
  {
   "cell_type": "code",
   "execution_count": 7,
   "id": "ddad9889-590b-4f2a-8e3a-d21793e7339b",
   "metadata": {},
   "outputs": [
    {
     "name": "stdout",
     "output_type": "stream",
     "text": [
      "Inside function: Hello, Local\n"
     ]
    },
    {
     "ename": "NameError",
     "evalue": "name 'message' is not defined",
     "output_type": "error",
     "traceback": [
      "\u001b[1;31m---------------------------------------------------------------------------\u001b[0m",
      "\u001b[1;31mNameError\u001b[0m                                 Traceback (most recent call last)",
      "Cell \u001b[1;32mIn[7], line 5\u001b[0m\n\u001b[0;32m      3\u001b[0m     \u001b[38;5;28mprint\u001b[39m(\u001b[38;5;124m\"\u001b[39m\u001b[38;5;124mInside function:\u001b[39m\u001b[38;5;124m\"\u001b[39m, message)\n\u001b[0;32m      4\u001b[0m demo_local()\n\u001b[1;32m----> 5\u001b[0m \u001b[38;5;28mprint\u001b[39m(\u001b[38;5;124m\"\u001b[39m\u001b[38;5;124mOutside function:\u001b[39m\u001b[38;5;124m\"\u001b[39m, message)\n",
      "\u001b[1;31mNameError\u001b[0m: name 'message' is not defined"
     ]
    }
   ],
   "source": [
    "def demo_local():\n",
    "    message = \"Hello, Local\"\n",
    "    print(\"Inside function:\", message)\n",
    "demo_local()\n",
    "print(\"Outside function:\", message)  # This will cause an error\n"
   ]
  },
  {
   "cell_type": "markdown",
   "id": "9fe54ca6-9086-43b7-adb1-e590ef64c159",
   "metadata": {},
   "source": [
    "4.Modify demo_local() from the previous question to access a gobal variable message = \"Hello, Global\" from within the function. "
   ]
  },
  {
   "cell_type": "code",
   "execution_count": 8,
   "id": "884c548c-71e4-4edc-8b7b-a857ee3935b1",
   "metadata": {},
   "outputs": [
    {
     "name": "stdout",
     "output_type": "stream",
     "text": [
      "Inside function: Hello, Global\n",
      "Outside function: Hello, Global\n"
     ]
    }
   ],
   "source": [
    "message = \"Hello, Global\"\n",
    "def demo_local():\n",
    "    print(\"Inside function:\", message)\n",
    "demo_local()\n",
    "print(\"Outside function:\", message)\n"
   ]
  },
  {
   "cell_type": "markdown",
   "id": "3a29fdaa-ab55-49bf-805f-30d80080ea8c",
   "metadata": {},
   "source": [
    "5.Write a function greet(name) that takes a name as input and returns a greeting message like \"Hello, John!\".\n",
    "* Add a proper docstring describing the purpose of the function, its input parameter, and its return value.\n",
    "* Use help() to display the docstring."
   ]
  },
  {
   "cell_type": "code",
   "execution_count": 18,
   "id": "19085dc0-1076-4e28-a8c7-8cc9f515c689",
   "metadata": {},
   "outputs": [
    {
     "name": "stdout",
     "output_type": "stream",
     "text": [
      "Hello, John!\n",
      "Help on function greet in module __main__:\n",
      "\n",
      "greet(name)\n",
      "\n"
     ]
    }
   ],
   "source": [
    "def greet(name):\n",
    "    return f\"Hello, {name}!\"\n",
    "print(greet(\"John\"))\n",
    "help(greet)\n"
   ]
  },
  {
   "cell_type": "markdown",
   "id": "f80c2c00-11ae-4633-86af-2a9209bd2972",
   "metadata": {},
   "source": [
    "6.Write a function calculate_area(radius) to compute the area of a circle given its redius.\n",
    "* Add a docstring explaining the formula used for calculation and purpose of the function."
   ]
  },
  {
   "cell_type": "code",
   "execution_count": 17,
   "id": "0dcf5356-8083-40e9-89e8-057d5af0936c",
   "metadata": {},
   "outputs": [
    {
     "name": "stdout",
     "output_type": "stream",
     "text": [
      "Area of the circle with radius 5: 78.53981633974483\n",
      "Help on function calculate_area in module __main__:\n",
      "\n",
      "calculate_area(radius)\n",
      "\n"
     ]
    }
   ],
   "source": [
    "import math\n",
    "\n",
    "def calculate_area(radius):\n",
    "    return math.pi * radius ** 2\n",
    "    area = calculate_area(5)\n",
    "print(\"Area of the circle with radius 5:\", area)\n",
    "help(calculate_area)\n"
   ]
  },
  {
   "cell_type": "markdown",
   "id": "0f4cc965-968f-4349-a700-ce34da324170",
   "metadata": {},
   "source": [
    "7.Write a function is_even(n) that return True if a number is even, otherwise return False.Test the function with multiple inputs."
   ]
  },
  {
   "cell_type": "code",
   "execution_count": 16,
   "id": "29c86595-ca4f-4d74-a2e3-77cb09e360e6",
   "metadata": {},
   "outputs": [
    {
     "name": "stdout",
     "output_type": "stream",
     "text": [
      "True\n",
      "False\n",
      "True\n",
      "False\n"
     ]
    }
   ],
   "source": [
    "def is_even(n):\n",
    "    return n % 2 == 0\n",
    "print(is_even(4))  \n",
    "print(is_even(7)) \n",
    "print(is_even(10)) \n",
    "print(is_even(15)) \n"
   ]
  },
  {
   "cell_type": "code",
   "execution_count": null,
   "id": "d050599a-b5d6-4768-b5f0-784ad6626d13",
   "metadata": {},
   "outputs": [],
   "source": []
  }
 ],
 "metadata": {
  "kernelspec": {
   "display_name": "Python 3 (ipykernel)",
   "language": "python",
   "name": "python3"
  },
  "language_info": {
   "codemirror_mode": {
    "name": "ipython",
    "version": 3
   },
   "file_extension": ".py",
   "mimetype": "text/x-python",
   "name": "python",
   "nbconvert_exporter": "python",
   "pygments_lexer": "ipython3",
   "version": "3.12.7"
  }
 },
 "nbformat": 4,
 "nbformat_minor": 5
}
