{
 "cells": [
  {
   "cell_type": "code",
   "execution_count": 1,
   "id": "e9b25f2d-aabf-42ad-8409-da9d3bccaef6",
   "metadata": {},
   "outputs": [],
   "source": [
    "name = 'Pratiksha'"
   ]
  },
  {
   "cell_type": "code",
   "execution_count": 2,
   "id": "190087e5-6494-4c72-9320-dee96e54f748",
   "metadata": {},
   "outputs": [
    {
     "data": {
      "text/plain": [
       "'PratikshaPratikshaPratiksha'"
      ]
     },
     "execution_count": 2,
     "metadata": {},
     "output_type": "execute_result"
    }
   ],
   "source": [
    "name * 3"
   ]
  },
  {
   "cell_type": "markdown",
   "id": "c5efea37-3726-4d82-8467-293e03e66157",
   "metadata": {},
   "source": [
    "# How to take user input"
   ]
  },
  {
   "cell_type": "code",
   "execution_count": 3,
   "id": "7bef5fd7-15ac-4736-a521-045f2c08e009",
   "metadata": {},
   "outputs": [
    {
     "name": "stdin",
     "output_type": "stream",
     "text": [
      "Write your name: Pratiksha\n"
     ]
    }
   ],
   "source": [
    "name = input('Write your name:')"
   ]
  },
  {
   "cell_type": "code",
   "execution_count": 2,
   "id": "d4889550-b356-4f60-975c-9f083f60f4a3",
   "metadata": {},
   "outputs": [
    {
     "data": {
      "text/plain": [
       "'Pratiksha'"
      ]
     },
     "execution_count": 2,
     "metadata": {},
     "output_type": "execute_result"
    }
   ],
   "source": [
    "name"
   ]
  },
  {
   "cell_type": "code",
   "execution_count": 4,
   "id": "c40f3602-786d-4d14-a3e9-9fbb69d7b156",
   "metadata": {},
   "outputs": [
    {
     "name": "stdin",
     "output_type": "stream",
     "text": [
      "Write your city name: Belgaum\n"
     ]
    }
   ],
   "source": [
    "city = input('Write your city name:')"
   ]
  },
  {
   "cell_type": "code",
   "execution_count": 5,
   "id": "92c97c5f-86b6-49f3-9983-b04348378575",
   "metadata": {},
   "outputs": [
    {
     "data": {
      "text/plain": [
       "'Belgaum'"
      ]
     },
     "execution_count": 5,
     "metadata": {},
     "output_type": "execute_result"
    }
   ],
   "source": [
    "city"
   ]
  },
  {
   "cell_type": "code",
   "execution_count": 6,
   "id": "11a7aac0-39ce-4a3c-b0a2-7ac2494643be",
   "metadata": {},
   "outputs": [
    {
     "data": {
      "text/plain": [
       "'Your city name is Belgaum'"
      ]
     },
     "execution_count": 6,
     "metadata": {},
     "output_type": "execute_result"
    }
   ],
   "source": [
    "'Your city name is ' + city"
   ]
  },
  {
   "cell_type": "code",
   "execution_count": 7,
   "id": "8031c7ab-bb92-4a7f-86d4-0ccd029afd3f",
   "metadata": {},
   "outputs": [
    {
     "name": "stdout",
     "output_type": "stream",
     "text": [
      "Your city name is Belgaum\n"
     ]
    }
   ],
   "source": [
    "print(f'Your city name is {city}')"
   ]
  },
  {
   "cell_type": "code",
   "execution_count": 8,
   "id": "0db7cf10-8ef8-4748-8526-7ec70fb4ff6e",
   "metadata": {},
   "outputs": [
    {
     "data": {
      "text/plain": [
       "('Your city name is', 'Belgaum')"
      ]
     },
     "execution_count": 8,
     "metadata": {},
     "output_type": "execute_result"
    }
   ],
   "source": [
    "'Your city name is', city"
   ]
  },
  {
   "cell_type": "code",
   "execution_count": 9,
   "id": "64f34446-5c61-49fb-83b0-339879f4a472",
   "metadata": {},
   "outputs": [
    {
     "name": "stdin",
     "output_type": "stream",
     "text": [
      "Write your fev color name Red\n"
     ]
    }
   ],
   "source": [
    "color = input('Write your fev color name')"
   ]
  },
  {
   "cell_type": "code",
   "execution_count": 10,
   "id": "e25af6b5-bd16-400f-827d-d44ecd404867",
   "metadata": {},
   "outputs": [
    {
     "data": {
      "text/plain": [
       "'Red'"
      ]
     },
     "execution_count": 10,
     "metadata": {},
     "output_type": "execute_result"
    }
   ],
   "source": [
    "color"
   ]
  },
  {
   "cell_type": "code",
   "execution_count": 11,
   "id": "56ee4f9d-c3f0-4676-aff8-e5ae5f6cc08c",
   "metadata": {},
   "outputs": [
    {
     "name": "stdout",
     "output_type": "stream",
     "text": [
      "Your fev color is Red and your city name is Belgaum\n"
     ]
    }
   ],
   "source": [
    "print(f'Your fev color is {color} and your city name is {city}')"
   ]
  },
  {
   "cell_type": "code",
   "execution_count": 12,
   "id": "f1edc7dd-38ea-4bf0-a01a-cfbf6b78f6c4",
   "metadata": {},
   "outputs": [
    {
     "name": "stdin",
     "output_type": "stream",
     "text": [
      "Write your first name Pratiksha\n",
      "Write your last name Dhamanekar\n"
     ]
    },
    {
     "name": "stdout",
     "output_type": "stream",
     "text": [
      "Your first name is Pratiksha and your last name is Dhamanekar\n"
     ]
    }
   ],
   "source": [
    "first_name = input('Write your first name')\n",
    "last_name = input('Write your last name')\n",
    "print(f'Your first name is {first_name} and your last name is {last_name}')"
   ]
  },
  {
   "cell_type": "code",
   "execution_count": 13,
   "id": "7bdfecc9-74bb-4e1a-aa79-5b402cd7846e",
   "metadata": {},
   "outputs": [
    {
     "data": {
      "text/plain": [
       "str"
      ]
     },
     "execution_count": 13,
     "metadata": {},
     "output_type": "execute_result"
    }
   ],
   "source": [
    "type(first_name)"
   ]
  },
  {
   "cell_type": "code",
   "execution_count": 14,
   "id": "31b00845-6864-4393-8d70-1ea5a060892f",
   "metadata": {},
   "outputs": [
    {
     "name": "stdin",
     "output_type": "stream",
     "text": [
      "Write your age 23\n"
     ]
    }
   ],
   "source": [
    "age = input('Write your age')"
   ]
  },
  {
   "cell_type": "code",
   "execution_count": 15,
   "id": "8df00362-819d-4435-b591-33f319ab4cb8",
   "metadata": {},
   "outputs": [
    {
     "data": {
      "text/plain": [
       "'23'"
      ]
     },
     "execution_count": 15,
     "metadata": {},
     "output_type": "execute_result"
    }
   ],
   "source": [
    "age"
   ]
  },
  {
   "cell_type": "code",
   "execution_count": 16,
   "id": "f40271ec-03c4-4c77-b7af-2f396c077edb",
   "metadata": {},
   "outputs": [
    {
     "data": {
      "text/plain": [
       "str"
      ]
     },
     "execution_count": 16,
     "metadata": {},
     "output_type": "execute_result"
    }
   ],
   "source": [
    "type(age)"
   ]
  },
  {
   "cell_type": "code",
   "execution_count": 17,
   "id": "827f5391-ec5b-4d15-b18d-09b0fb3af149",
   "metadata": {},
   "outputs": [
    {
     "name": "stdin",
     "output_type": "stream",
     "text": [
      "Write your age 50\n"
     ]
    }
   ],
   "source": [
    "age = int(input('Write your age'))"
   ]
  },
  {
   "cell_type": "code",
   "execution_count": 18,
   "id": "db7f02a9-fd47-4692-ba3c-edc0741497a3",
   "metadata": {},
   "outputs": [
    {
     "data": {
      "text/plain": [
       "int"
      ]
     },
     "execution_count": 18,
     "metadata": {},
     "output_type": "execute_result"
    }
   ],
   "source": [
    "type(age)"
   ]
  },
  {
   "cell_type": "code",
   "execution_count": 19,
   "id": "8b26b738-bfbe-4f42-94ac-52f57304b078",
   "metadata": {},
   "outputs": [
    {
     "name": "stdin",
     "output_type": "stream",
     "text": [
      "Write your age 70\n"
     ]
    },
    {
     "name": "stdout",
     "output_type": "stream",
     "text": [
      "Your age is 70\n"
     ]
    }
   ],
   "source": [
    "age = int(input('Write your age'))\n",
    "print(f'Your age is {age}')"
   ]
  },
  {
   "cell_type": "code",
   "execution_count": 20,
   "id": "8d3f87da-e6f1-4c10-bc7f-2b31546c3a5a",
   "metadata": {},
   "outputs": [
    {
     "data": {
      "text/plain": [
       "('Your age is', 70)"
      ]
     },
     "execution_count": 20,
     "metadata": {},
     "output_type": "execute_result"
    }
   ],
   "source": [
    "'Your age is', age"
   ]
  },
  {
   "cell_type": "code",
   "execution_count": 21,
   "id": "cfb582da-fee4-4aa6-9df2-f05434a4d40f",
   "metadata": {},
   "outputs": [
    {
     "name": "stdin",
     "output_type": "stream",
     "text": [
      "Write your height in feet 5.3\n"
     ]
    }
   ],
   "source": [
    "height = float(input('Write your height in feet'))"
   ]
  },
  {
   "cell_type": "code",
   "execution_count": 22,
   "id": "76303fc2-1e59-419a-9b09-5b77f994a2a5",
   "metadata": {},
   "outputs": [
    {
     "data": {
      "text/plain": [
       "5.3"
      ]
     },
     "execution_count": 22,
     "metadata": {},
     "output_type": "execute_result"
    }
   ],
   "source": [
    "height"
   ]
  },
  {
   "cell_type": "code",
   "execution_count": 23,
   "id": "69366c7f-f4c1-4a2a-8ce7-015bca760050",
   "metadata": {},
   "outputs": [
    {
     "data": {
      "text/plain": [
       "float"
      ]
     },
     "execution_count": 23,
     "metadata": {},
     "output_type": "execute_result"
    }
   ],
   "source": [
    "type(height)"
   ]
  },
  {
   "cell_type": "code",
   "execution_count": 24,
   "id": "0afccb65-e5d2-4808-a973-d491be1c8acd",
   "metadata": {},
   "outputs": [
    {
     "name": "stdin",
     "output_type": "stream",
     "text": [
      "Write value for a 10\n",
      "Write value for b 23\n"
     ]
    }
   ],
   "source": [
    "a = int(input('Write value for a'))\n",
    "b = int(input('Write value for b'))\n",
    "c = a + b"
   ]
  },
  {
   "cell_type": "code",
   "execution_count": 25,
   "id": "3990d896-aae3-453a-8f0a-5e196615a903",
   "metadata": {},
   "outputs": [
    {
     "data": {
      "text/plain": [
       "33"
      ]
     },
     "execution_count": 25,
     "metadata": {},
     "output_type": "execute_result"
    }
   ],
   "source": [
    "c"
   ]
  },
  {
   "cell_type": "code",
   "execution_count": 26,
   "id": "75b0ed99-1d1a-4f40-8c2b-be0f117a25a2",
   "metadata": {},
   "outputs": [
    {
     "name": "stdin",
     "output_type": "stream",
     "text": [
      " Nexon\n"
     ]
    }
   ],
   "source": [
    "car = input()"
   ]
  },
  {
   "cell_type": "code",
   "execution_count": 27,
   "id": "2553d66f-edcb-436c-b6dc-879bc70eb7e6",
   "metadata": {},
   "outputs": [
    {
     "data": {
      "text/plain": [
       "'Nexon'"
      ]
     },
     "execution_count": 27,
     "metadata": {},
     "output_type": "execute_result"
    }
   ],
   "source": [
    "car"
   ]
  },
  {
   "cell_type": "code",
   "execution_count": 28,
   "id": "8fe86ad3-6f69-4984-8566-6ed344344bb0",
   "metadata": {},
   "outputs": [
    {
     "data": {
      "text/plain": [
       "str"
      ]
     },
     "execution_count": 28,
     "metadata": {},
     "output_type": "execute_result"
    }
   ],
   "source": [
    "type(car)"
   ]
  },
  {
   "cell_type": "code",
   "execution_count": 29,
   "id": "52ae0632-69e1-4dd4-b01f-dff02374bce9",
   "metadata": {},
   "outputs": [
    {
     "name": "stdin",
     "output_type": "stream",
     "text": [
      " 48\n"
     ]
    }
   ],
   "source": [
    "weight = float(input())"
   ]
  },
  {
   "cell_type": "code",
   "execution_count": 30,
   "id": "2c9544ea-6602-4e6a-9d5c-9f70813f4bf9",
   "metadata": {},
   "outputs": [
    {
     "data": {
      "text/plain": [
       "48.0"
      ]
     },
     "execution_count": 30,
     "metadata": {},
     "output_type": "execute_result"
    }
   ],
   "source": [
    "weight"
   ]
  },
  {
   "cell_type": "code",
   "execution_count": 31,
   "id": "145a6164-e2da-4e69-9944-cf925bbbb5b1",
   "metadata": {},
   "outputs": [
    {
     "data": {
      "text/plain": [
       "float"
      ]
     },
     "execution_count": 31,
     "metadata": {},
     "output_type": "execute_result"
    }
   ],
   "source": [
    "type(weight)"
   ]
  },
  {
   "cell_type": "code",
   "execution_count": null,
   "id": "8790a509-9b50-4821-bedc-ab7a0a96ea28",
   "metadata": {},
   "outputs": [],
   "source": []
  }
 ],
 "metadata": {
  "kernelspec": {
   "display_name": "Python 3 (ipykernel)",
   "language": "python",
   "name": "python3"
  },
  "language_info": {
   "codemirror_mode": {
    "name": "ipython",
    "version": 3
   },
   "file_extension": ".py",
   "mimetype": "text/x-python",
   "name": "python",
   "nbconvert_exporter": "python",
   "pygments_lexer": "ipython3",
   "version": "3.12.7"
  }
 },
 "nbformat": 4,
 "nbformat_minor": 5
}
