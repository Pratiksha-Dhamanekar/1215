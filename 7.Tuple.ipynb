{
 "cells": [
  {
   "cell_type": "markdown",
   "id": "11e99171-6987-434e-94db-feea962b8023",
   "metadata": {},
   "source": [
    "# Tuple"
   ]
  },
  {
   "cell_type": "code",
   "execution_count": 1,
   "id": "bac2a527-4eae-4462-bae6-8861218e3c39",
   "metadata": {},
   "outputs": [],
   "source": [
    "t = (1,2,3,4)"
   ]
  },
  {
   "cell_type": "code",
   "execution_count": 2,
   "id": "c4a68ab4-1f94-41af-9e1d-c97877c5a8fe",
   "metadata": {},
   "outputs": [
    {
     "data": {
      "text/plain": [
       "tuple"
      ]
     },
     "execution_count": 2,
     "metadata": {},
     "output_type": "execute_result"
    }
   ],
   "source": [
    "type(t)"
   ]
  },
  {
   "cell_type": "code",
   "execution_count": 3,
   "id": "971224f1-86f7-48fe-a436-c9db5a6a3bac",
   "metadata": {},
   "outputs": [
    {
     "data": {
      "text/plain": [
       "3"
      ]
     },
     "execution_count": 3,
     "metadata": {},
     "output_type": "execute_result"
    }
   ],
   "source": [
    "t[2]"
   ]
  },
  {
   "cell_type": "code",
   "execution_count": 4,
   "id": "137d9f73-e3df-4a5c-b0c2-dcb2444a6cac",
   "metadata": {},
   "outputs": [],
   "source": [
    "a = (10,20,'Hello', True)"
   ]
  },
  {
   "cell_type": "code",
   "execution_count": 5,
   "id": "ad4798ee-f535-4ba7-b91f-dc29bf3cad32",
   "metadata": {},
   "outputs": [
    {
     "data": {
      "text/plain": [
       "(10, 20, 'Hello', True)"
      ]
     },
     "execution_count": 5,
     "metadata": {},
     "output_type": "execute_result"
    }
   ],
   "source": [
    "a"
   ]
  },
  {
   "cell_type": "code",
   "execution_count": 6,
   "id": "a4dc9b31-4f5b-4636-974c-030267f7251d",
   "metadata": {},
   "outputs": [
    {
     "data": {
      "text/plain": [
       "'Hello'"
      ]
     },
     "execution_count": 6,
     "metadata": {},
     "output_type": "execute_result"
    }
   ],
   "source": [
    "a[2]"
   ]
  },
  {
   "cell_type": "code",
   "execution_count": 7,
   "id": "1087d66b-e055-463b-a8d1-42e45982205c",
   "metadata": {},
   "outputs": [],
   "source": [
    "s = (1,4,7,3,7)"
   ]
  },
  {
   "cell_type": "code",
   "execution_count": 8,
   "id": "f237ae14-933d-4acd-ab87-7f29a93035b5",
   "metadata": {},
   "outputs": [
    {
     "data": {
      "text/plain": [
       "(1, 4, 7, 3, 7)"
      ]
     },
     "execution_count": 8,
     "metadata": {},
     "output_type": "execute_result"
    }
   ],
   "source": [
    "s"
   ]
  },
  {
   "cell_type": "code",
   "execution_count": 9,
   "id": "8efccd3d-5356-44da-9313-a84d6435c0c5",
   "metadata": {},
   "outputs": [
    {
     "data": {
      "text/plain": [
       "1"
      ]
     },
     "execution_count": 9,
     "metadata": {},
     "output_type": "execute_result"
    }
   ],
   "source": [
    "s.count(4)"
   ]
  },
  {
   "cell_type": "code",
   "execution_count": 10,
   "id": "3bf565b2-7374-469e-b7ae-63e8c8896ac0",
   "metadata": {},
   "outputs": [
    {
     "data": {
      "text/plain": [
       "3"
      ]
     },
     "execution_count": 10,
     "metadata": {},
     "output_type": "execute_result"
    }
   ],
   "source": [
    "s.index(3)"
   ]
  },
  {
   "cell_type": "code",
   "execution_count": 11,
   "id": "89acbbbb-94bc-497d-b02f-2d8d522efe66",
   "metadata": {},
   "outputs": [
    {
     "data": {
      "text/plain": [
       "(1, 4, 7, 3, 7)"
      ]
     },
     "execution_count": 11,
     "metadata": {},
     "output_type": "execute_result"
    }
   ],
   "source": [
    "s"
   ]
  },
  {
   "cell_type": "code",
   "execution_count": 13,
   "id": "a5b4dd9f-5cbb-4fae-9e11-441254309e42",
   "metadata": {},
   "outputs": [],
   "source": [
    "s = list(s)"
   ]
  },
  {
   "cell_type": "code",
   "execution_count": 14,
   "id": "4d5b2d6d-87c8-4647-a5b6-003c3fa2b1dc",
   "metadata": {},
   "outputs": [
    {
     "data": {
      "text/plain": [
       "[1, 4, 7, 3, 7]"
      ]
     },
     "execution_count": 14,
     "metadata": {},
     "output_type": "execute_result"
    }
   ],
   "source": [
    "s"
   ]
  },
  {
   "cell_type": "code",
   "execution_count": 15,
   "id": "e3f244b2-af96-43ec-9985-599b5e7c61af",
   "metadata": {},
   "outputs": [
    {
     "data": {
      "text/plain": [
       "list"
      ]
     },
     "execution_count": 15,
     "metadata": {},
     "output_type": "execute_result"
    }
   ],
   "source": [
    "type(s)"
   ]
  },
  {
   "cell_type": "code",
   "execution_count": 16,
   "id": "c5ff9aa3-c0dc-4658-9f23-263817018fe3",
   "metadata": {},
   "outputs": [],
   "source": [
    "s[0] = 1000"
   ]
  },
  {
   "cell_type": "code",
   "execution_count": 17,
   "id": "3a559009-c499-4351-87d3-ee53c2d6ea8f",
   "metadata": {},
   "outputs": [
    {
     "data": {
      "text/plain": [
       "[1000, 4, 7, 3, 7]"
      ]
     },
     "execution_count": 17,
     "metadata": {},
     "output_type": "execute_result"
    }
   ],
   "source": [
    "s"
   ]
  },
  {
   "cell_type": "code",
   "execution_count": 18,
   "id": "82f104ab-2f5d-4a4f-bebf-9517c3aa8e3e",
   "metadata": {},
   "outputs": [],
   "source": [
    "s = tuple(s)"
   ]
  },
  {
   "cell_type": "code",
   "execution_count": 19,
   "id": "0c68be71-5e5c-4843-9835-4dc0d5f9dae3",
   "metadata": {},
   "outputs": [
    {
     "data": {
      "text/plain": [
       "(1000, 4, 7, 3, 7)"
      ]
     },
     "execution_count": 19,
     "metadata": {},
     "output_type": "execute_result"
    }
   ],
   "source": [
    "s"
   ]
  },
  {
   "cell_type": "code",
   "execution_count": 20,
   "id": "09018c3e-033c-4e3c-8a37-236ec9a8cfb0",
   "metadata": {},
   "outputs": [],
   "source": [
    "t1 = (10,20,30,(1,2,3,4),40,50)"
   ]
  },
  {
   "cell_type": "code",
   "execution_count": 21,
   "id": "bfed1fb4-bbca-4d1f-97fc-5d872c6ab4cd",
   "metadata": {},
   "outputs": [
    {
     "data": {
      "text/plain": [
       "(10, 20, 30, (1, 2, 3, 4), 40, 50)"
      ]
     },
     "execution_count": 21,
     "metadata": {},
     "output_type": "execute_result"
    }
   ],
   "source": [
    "t1"
   ]
  },
  {
   "cell_type": "code",
   "execution_count": 22,
   "id": "917e319f-7305-45b4-a3f6-472d587f1f66",
   "metadata": {},
   "outputs": [
    {
     "data": {
      "text/plain": [
       "2"
      ]
     },
     "execution_count": 22,
     "metadata": {},
     "output_type": "execute_result"
    }
   ],
   "source": [
    "t1[3][1]"
   ]
  },
  {
   "cell_type": "code",
   "execution_count": 23,
   "id": "73bceb87-9c0a-4ceb-be8f-3872de4f973a",
   "metadata": {},
   "outputs": [
    {
     "data": {
      "text/plain": [
       "(1000, 4, 7, 3, 7)"
      ]
     },
     "execution_count": 23,
     "metadata": {},
     "output_type": "execute_result"
    }
   ],
   "source": [
    "s"
   ]
  },
  {
   "cell_type": "code",
   "execution_count": 24,
   "id": "4a28d672-b74f-4bff-bba8-f3bdbd887cad",
   "metadata": {},
   "outputs": [
    {
     "data": {
      "text/plain": [
       "(1, 2, 3, 4)"
      ]
     },
     "execution_count": 24,
     "metadata": {},
     "output_type": "execute_result"
    }
   ],
   "source": [
    "t"
   ]
  },
  {
   "cell_type": "code",
   "execution_count": 25,
   "id": "dd1e84e3-3afd-4a10-b736-254ddb232cc0",
   "metadata": {},
   "outputs": [
    {
     "data": {
      "text/plain": [
       "(1, 2, 3, 4, 1000, 4, 7, 3, 7)"
      ]
     },
     "execution_count": 25,
     "metadata": {},
     "output_type": "execute_result"
    }
   ],
   "source": [
    "t + s"
   ]
  },
  {
   "cell_type": "code",
   "execution_count": 26,
   "id": "fabfa5d4-42a0-4460-b6fd-a0465c1e22a4",
   "metadata": {},
   "outputs": [],
   "source": [
    "b = (100,20,40,50)"
   ]
  },
  {
   "cell_type": "code",
   "execution_count": 27,
   "id": "3431a538-3f85-4d98-a859-bff7e081c95f",
   "metadata": {},
   "outputs": [
    {
     "data": {
      "text/plain": [
       "tuple"
      ]
     },
     "execution_count": 27,
     "metadata": {},
     "output_type": "execute_result"
    }
   ],
   "source": [
    "type(b)"
   ]
  },
  {
   "cell_type": "code",
   "execution_count": 35,
   "id": "cdf1330c-1eb9-4821-b2a5-fc0a79d74df1",
   "metadata": {},
   "outputs": [],
   "source": [
    "b = list(b)"
   ]
  },
  {
   "cell_type": "code",
   "execution_count": 36,
   "id": "2458c1ba-d42d-46e0-ad82-a1e80d7c6dd5",
   "metadata": {},
   "outputs": [
    {
     "data": {
      "text/plain": [
       "[100, 20, 40, 50]"
      ]
     },
     "execution_count": 36,
     "metadata": {},
     "output_type": "execute_result"
    }
   ],
   "source": [
    "b"
   ]
  },
  {
   "cell_type": "code",
   "execution_count": 39,
   "id": "e15977bf-c911-41a8-abb9-d21d47d4ef29",
   "metadata": {},
   "outputs": [
    {
     "data": {
      "text/plain": [
       "list"
      ]
     },
     "execution_count": 39,
     "metadata": {},
     "output_type": "execute_result"
    }
   ],
   "source": [
    "type(b)"
   ]
  },
  {
   "cell_type": "code",
   "execution_count": 40,
   "id": "95a48126-4676-4662-9ce4-92930babd41f",
   "metadata": {},
   "outputs": [],
   "source": [
    "b [0] = 1"
   ]
  },
  {
   "cell_type": "code",
   "execution_count": 41,
   "id": "009bf57f-41f3-48c8-8a55-97ca15a47e25",
   "metadata": {},
   "outputs": [
    {
     "data": {
      "text/plain": [
       "[1, 30, 40, 300]"
      ]
     },
     "execution_count": 41,
     "metadata": {},
     "output_type": "execute_result"
    }
   ],
   "source": [
    "b"
   ]
  },
  {
   "cell_type": "code",
   "execution_count": 44,
   "id": "3bc68ce8-49d8-403e-babd-4be793748d53",
   "metadata": {},
   "outputs": [],
   "source": [
    "t2 = (8,18,20,30,(11,3,45),22)"
   ]
  },
  {
   "cell_type": "code",
   "execution_count": 48,
   "id": "8bb5f7e5-77bf-4263-b145-a0e10dd6e167",
   "metadata": {},
   "outputs": [
    {
     "data": {
      "text/plain": [
       "30"
      ]
     },
     "execution_count": 48,
     "metadata": {},
     "output_type": "execute_result"
    }
   ],
   "source": [
    "t2[3]"
   ]
  },
  {
   "cell_type": "markdown",
   "id": "30779c5f-02b8-4379-bfc3-f8fb14d90b69",
   "metadata": {},
   "source": [
    " # Set"
   ]
  },
  {
   "cell_type": "code",
   "execution_count": 52,
   "id": "1fc9d081-498f-4f0b-a565-a808de01814a",
   "metadata": {},
   "outputs": [],
   "source": [
    "s = {10,20,30}"
   ]
  },
  {
   "cell_type": "code",
   "execution_count": 53,
   "id": "62f6eb92-1462-4bb4-8cf0-06f04bccc601",
   "metadata": {},
   "outputs": [
    {
     "data": {
      "text/plain": [
       "{10, 20, 30}"
      ]
     },
     "execution_count": 53,
     "metadata": {},
     "output_type": "execute_result"
    }
   ],
   "source": [
    "s"
   ]
  },
  {
   "cell_type": "code",
   "execution_count": 54,
   "id": "3b232070-8bd0-4e39-9c4b-ea9f06712eb2",
   "metadata": {},
   "outputs": [
    {
     "data": {
      "text/plain": [
       "set"
      ]
     },
     "execution_count": 54,
     "metadata": {},
     "output_type": "execute_result"
    }
   ],
   "source": [
    "type(s)"
   ]
  },
  {
   "cell_type": "code",
   "execution_count": 55,
   "id": "d987cd78-a1bd-48ae-8c79-ffb4541c4c6b",
   "metadata": {},
   "outputs": [],
   "source": [
    "s1 = {1,1,2,2,3,3,4,4,5,5}"
   ]
  },
  {
   "cell_type": "code",
   "execution_count": 56,
   "id": "28fb0c06-9a4b-43c3-8a30-f1b4ec03d781",
   "metadata": {},
   "outputs": [
    {
     "data": {
      "text/plain": [
       "{1, 2, 3, 4, 5}"
      ]
     },
     "execution_count": 56,
     "metadata": {},
     "output_type": "execute_result"
    }
   ],
   "source": [
    "s1"
   ]
  },
  {
   "cell_type": "code",
   "execution_count": 57,
   "id": "cac170b6-e2f6-4b9c-b3f3-2189a47c47bb",
   "metadata": {},
   "outputs": [
    {
     "data": {
      "text/plain": [
       "(1, 2, 3, 4)"
      ]
     },
     "execution_count": 57,
     "metadata": {},
     "output_type": "execute_result"
    }
   ],
   "source": [
    "t"
   ]
  },
  {
   "cell_type": "code",
   "execution_count": 58,
   "id": "c55dd5b2-b1d9-4067-91b1-e62b5a9ac5da",
   "metadata": {},
   "outputs": [
    {
     "data": {
      "text/plain": [
       "{1, 2, 3, 4}"
      ]
     },
     "execution_count": 58,
     "metadata": {},
     "output_type": "execute_result"
    }
   ],
   "source": [
    "set(t)"
   ]
  },
  {
   "cell_type": "code",
   "execution_count": 59,
   "id": "3d713ed0-6bfc-4a54-a0be-f976238e6af2",
   "metadata": {},
   "outputs": [],
   "source": [
    "a = {1,2,3,4}"
   ]
  },
  {
   "cell_type": "code",
   "execution_count": 60,
   "id": "f05ee713-5858-4da2-84ed-a740d1f04e6d",
   "metadata": {},
   "outputs": [],
   "source": [
    "b = {3,4,5,6}"
   ]
  },
  {
   "cell_type": "code",
   "execution_count": 61,
   "id": "779a6f64-b9dc-4d2b-b25d-dbd367f91957",
   "metadata": {},
   "outputs": [
    {
     "data": {
      "text/plain": [
       "{1, 2, 3, 4, 5, 6}"
      ]
     },
     "execution_count": 61,
     "metadata": {},
     "output_type": "execute_result"
    }
   ],
   "source": [
    "a.union(b)"
   ]
  },
  {
   "cell_type": "code",
   "execution_count": 62,
   "id": "a53a9c8c-9843-4568-b1d2-6f6efa470d2e",
   "metadata": {},
   "outputs": [
    {
     "data": {
      "text/plain": [
       "{3, 4}"
      ]
     },
     "execution_count": 62,
     "metadata": {},
     "output_type": "execute_result"
    }
   ],
   "source": [
    "a.intersection(b)"
   ]
  },
  {
   "cell_type": "code",
   "execution_count": 63,
   "id": "31106d15-07fd-43e5-8c14-a66a01f129fb",
   "metadata": {},
   "outputs": [
    {
     "data": {
      "text/plain": [
       "{1, 2}"
      ]
     },
     "execution_count": 63,
     "metadata": {},
     "output_type": "execute_result"
    }
   ],
   "source": [
    "a.difference(b)"
   ]
  },
  {
   "cell_type": "code",
   "execution_count": 64,
   "id": "5fad440d-5788-46a4-bac6-35a90aef978f",
   "metadata": {},
   "outputs": [
    {
     "data": {
      "text/plain": [
       "{5, 6}"
      ]
     },
     "execution_count": 64,
     "metadata": {},
     "output_type": "execute_result"
    }
   ],
   "source": [
    "b.difference(a)"
   ]
  },
  {
   "cell_type": "code",
   "execution_count": 67,
   "id": "54719ed5-515c-4a34-8670-7e6e767ece0d",
   "metadata": {},
   "outputs": [],
   "source": [
    "x = {10, 20, 30, 40}"
   ]
  },
  {
   "cell_type": "code",
   "execution_count": 68,
   "id": "4ee50965-d86e-4116-b28e-0e8ff068ec6f",
   "metadata": {},
   "outputs": [],
   "source": [
    "y = {30, 40, 50, 60}"
   ]
  },
  {
   "cell_type": "code",
   "execution_count": 69,
   "id": "ee2ba0b5-dc6f-43dc-8188-dc612b8158a8",
   "metadata": {},
   "outputs": [
    {
     "data": {
      "text/plain": [
       "{10, 20, 30, 40, 50, 60}"
      ]
     },
     "execution_count": 69,
     "metadata": {},
     "output_type": "execute_result"
    }
   ],
   "source": [
    "x.union(y)"
   ]
  },
  {
   "cell_type": "code",
   "execution_count": 70,
   "id": "6c3953ef-4099-4a5b-81b2-a23a5b06c380",
   "metadata": {},
   "outputs": [
    {
     "data": {
      "text/plain": [
       "{30, 40}"
      ]
     },
     "execution_count": 70,
     "metadata": {},
     "output_type": "execute_result"
    }
   ],
   "source": [
    "x.intersection(y)"
   ]
  },
  {
   "cell_type": "code",
   "execution_count": 71,
   "id": "07fc8cc0-43ae-447f-a46b-8dea5e909c8a",
   "metadata": {},
   "outputs": [
    {
     "data": {
      "text/plain": [
       "{10, 20}"
      ]
     },
     "execution_count": 71,
     "metadata": {},
     "output_type": "execute_result"
    }
   ],
   "source": [
    "x.difference(y)"
   ]
  },
  {
   "cell_type": "code",
   "execution_count": 72,
   "id": "391e9e7d-d5dd-4bde-92e7-0a790f87a587",
   "metadata": {},
   "outputs": [
    {
     "data": {
      "text/plain": [
       "{10, 20, 30}"
      ]
     },
     "execution_count": 72,
     "metadata": {},
     "output_type": "execute_result"
    }
   ],
   "source": [
    "s"
   ]
  },
  {
   "cell_type": "code",
   "execution_count": 73,
   "id": "fdfc46eb-667b-4d4a-9b8b-295fa2a2b64b",
   "metadata": {},
   "outputs": [],
   "source": [
    "e = {2, 4, 5,}"
   ]
  },
  {
   "cell_type": "code",
   "execution_count": 74,
   "id": "021476d5-bce1-43b8-968e-ae509d2fdea6",
   "metadata": {},
   "outputs": [
    {
     "data": {
      "text/plain": [
       "{2, 4, 5, 10, 20, 30}"
      ]
     },
     "execution_count": 74,
     "metadata": {},
     "output_type": "execute_result"
    }
   ],
   "source": [
    "s.union(e)"
   ]
  },
  {
   "cell_type": "code",
   "execution_count": 76,
   "id": "929f5749-0a81-4f57-ac98-9f867725a6c7",
   "metadata": {},
   "outputs": [
    {
     "data": {
      "text/plain": [
       "set()"
      ]
     },
     "execution_count": 76,
     "metadata": {},
     "output_type": "execute_result"
    }
   ],
   "source": [
    "s.intersection(e)"
   ]
  },
  {
   "cell_type": "code",
   "execution_count": 77,
   "id": "13c9ee3b-1365-4294-b46b-4bb072de8ecc",
   "metadata": {},
   "outputs": [
    {
     "data": {
      "text/plain": [
       "{10, 20, 30}"
      ]
     },
     "execution_count": 77,
     "metadata": {},
     "output_type": "execute_result"
    }
   ],
   "source": [
    "s.difference(e)"
   ]
  },
  {
   "cell_type": "markdown",
   "id": "545d529c-5050-4695-998d-ab3c2991af45",
   "metadata": {},
   "source": [
    "# Dict"
   ]
  },
  {
   "cell_type": "code",
   "execution_count": 78,
   "id": "34761e9e-616e-4d7b-86d3-3b0efd0db09f",
   "metadata": {},
   "outputs": [],
   "source": [
    "d = {'a':1,'b':2}"
   ]
  },
  {
   "cell_type": "code",
   "execution_count": 79,
   "id": "cc52861b-1152-45ba-9db9-f03ab40f1a58",
   "metadata": {},
   "outputs": [
    {
     "data": {
      "text/plain": [
       "{'a': 1, 'b': 2}"
      ]
     },
     "execution_count": 79,
     "metadata": {},
     "output_type": "execute_result"
    }
   ],
   "source": [
    "d"
   ]
  },
  {
   "cell_type": "code",
   "execution_count": 80,
   "id": "e25ca0b2-d8f3-4963-9aa1-e44c13d7f1a1",
   "metadata": {},
   "outputs": [
    {
     "data": {
      "text/plain": [
       "dict"
      ]
     },
     "execution_count": 80,
     "metadata": {},
     "output_type": "execute_result"
    }
   ],
   "source": [
    "type(d)"
   ]
  },
  {
   "cell_type": "code",
   "execution_count": 81,
   "id": "91ea388e-a53f-46e1-b467-3ea7a8dd3a5b",
   "metadata": {},
   "outputs": [],
   "source": [
    "d1 = {'Name':'Vaibhav' , 'City':'Pune', 'Mobile_No':81292738}"
   ]
  },
  {
   "cell_type": "code",
   "execution_count": 82,
   "id": "37acd60d-99a4-4c76-8d79-ecadbae22197",
   "metadata": {},
   "outputs": [
    {
     "data": {
      "text/plain": [
       "{'Name': 'Vaibhav', 'City': 'Pune', 'Mobile_No': 81292738}"
      ]
     },
     "execution_count": 82,
     "metadata": {},
     "output_type": "execute_result"
    }
   ],
   "source": [
    "d1"
   ]
  },
  {
   "cell_type": "code",
   "execution_count": 83,
   "id": "81930291-eaf0-4f50-a4e4-9472dba60dfc",
   "metadata": {},
   "outputs": [
    {
     "data": {
      "text/plain": [
       "81292738"
      ]
     },
     "execution_count": 83,
     "metadata": {},
     "output_type": "execute_result"
    }
   ],
   "source": [
    "d1['Mobile_No']"
   ]
  },
  {
   "cell_type": "code",
   "execution_count": 84,
   "id": "5b58de48-4f3f-4a33-8db7-7bf62a064bd8",
   "metadata": {},
   "outputs": [
    {
     "data": {
      "text/plain": [
       "'Pune'"
      ]
     },
     "execution_count": 84,
     "metadata": {},
     "output_type": "execute_result"
    }
   ],
   "source": [
    "d1['City']"
   ]
  },
  {
   "cell_type": "code",
   "execution_count": 85,
   "id": "1b027284-5433-45b7-8b15-7c9b22f2438f",
   "metadata": {},
   "outputs": [
    {
     "data": {
      "text/plain": [
       "'Vaibhav'"
      ]
     },
     "execution_count": 85,
     "metadata": {},
     "output_type": "execute_result"
    }
   ],
   "source": [
    "d1['Name']"
   ]
  },
  {
   "cell_type": "code",
   "execution_count": 86,
   "id": "52320463-1c81-4985-9f7c-c5f66ef7f4b6",
   "metadata": {},
   "outputs": [],
   "source": [
    "# Update"
   ]
  },
  {
   "cell_type": "code",
   "execution_count": 87,
   "id": "276a8e90-b5d5-4378-9550-ac25fdb8e285",
   "metadata": {},
   "outputs": [],
   "source": [
    "d1['Mobile_No'] = 999283749"
   ]
  },
  {
   "cell_type": "code",
   "execution_count": 88,
   "id": "54112788-7223-4f69-ba7d-a3e245d7b7e3",
   "metadata": {},
   "outputs": [
    {
     "data": {
      "text/plain": [
       "{'Name': 'Vaibhav', 'City': 'Pune', 'Mobile_No': 999283749}"
      ]
     },
     "execution_count": 88,
     "metadata": {},
     "output_type": "execute_result"
    }
   ],
   "source": [
    "d1"
   ]
  },
  {
   "cell_type": "code",
   "execution_count": 89,
   "id": "09a30c42-f141-4a9a-a3b0-790f0a544e08",
   "metadata": {},
   "outputs": [],
   "source": [
    "# New key and value"
   ]
  },
  {
   "cell_type": "code",
   "execution_count": 90,
   "id": "31e479f9-fd1d-404c-905c-294f719cd9d9",
   "metadata": {},
   "outputs": [],
   "source": [
    "d1['Roll_No'] = 13"
   ]
  },
  {
   "cell_type": "code",
   "execution_count": 91,
   "id": "4b555766-17af-4afc-9cd7-3d52fa4df69e",
   "metadata": {},
   "outputs": [
    {
     "data": {
      "text/plain": [
       "{'Name': 'Vaibhav', 'City': 'Pune', 'Mobile_No': 999283749, 'Roll_No': 13}"
      ]
     },
     "execution_count": 91,
     "metadata": {},
     "output_type": "execute_result"
    }
   ],
   "source": [
    "d1"
   ]
  },
  {
   "cell_type": "code",
   "execution_count": 92,
   "id": "3b527e87-bf23-40c4-984c-51d995a19737",
   "metadata": {},
   "outputs": [
    {
     "data": {
      "text/plain": [
       "dict_keys(['Name', 'City', 'Mobile_No', 'Roll_No'])"
      ]
     },
     "execution_count": 92,
     "metadata": {},
     "output_type": "execute_result"
    }
   ],
   "source": [
    "d1.keys()"
   ]
  },
  {
   "cell_type": "code",
   "execution_count": 93,
   "id": "d3531426-c1f0-49a4-860a-978f6a5afd20",
   "metadata": {},
   "outputs": [
    {
     "data": {
      "text/plain": [
       "dict_values(['Vaibhav', 'Pune', 999283749, 13])"
      ]
     },
     "execution_count": 93,
     "metadata": {},
     "output_type": "execute_result"
    }
   ],
   "source": [
    "d1.values()"
   ]
  },
  {
   "cell_type": "code",
   "execution_count": 94,
   "id": "dc66957b-9989-436d-83c1-ab1dc14b67eb",
   "metadata": {},
   "outputs": [],
   "source": [
    "a = {'List_1':[1,2,3,4,5,6], 'Tuple_1':(10,20,30),'Set_1':{1,2,3,4,5}}"
   ]
  },
  {
   "cell_type": "code",
   "execution_count": 95,
   "id": "834f7d4b-04ef-48d0-b71d-d9d113ab614c",
   "metadata": {},
   "outputs": [
    {
     "data": {
      "text/plain": [
       "{'List_1': [1, 2, 3, 4, 5, 6],\n",
       " 'Tuple_1': (10, 20, 30),\n",
       " 'Set_1': {1, 2, 3, 4, 5}}"
      ]
     },
     "execution_count": 95,
     "metadata": {},
     "output_type": "execute_result"
    }
   ],
   "source": [
    "a"
   ]
  },
  {
   "cell_type": "code",
   "execution_count": 96,
   "id": "5cb28475-97d2-4d30-80e4-9bcec10afd4e",
   "metadata": {},
   "outputs": [],
   "source": [
    "d2 = {'Name' : 'Preeti', 'Department' : 'HR', 'Employee_id' : 101, 'Salary' : 500000 }"
   ]
  },
  {
   "cell_type": "code",
   "execution_count": 97,
   "id": "3b3f0f61-6ba3-4ec3-b0b8-dbf970148ef7",
   "metadata": {},
   "outputs": [
    {
     "data": {
      "text/plain": [
       "{'Name': 'Preeti', 'Department': 'HR', 'Employee_id': 101, 'Salary': 500000}"
      ]
     },
     "execution_count": 97,
     "metadata": {},
     "output_type": "execute_result"
    }
   ],
   "source": [
    "d2"
   ]
  },
  {
   "cell_type": "code",
   "execution_count": 98,
   "id": "6fc080a0-ceb5-46af-9fb7-13716b56cbd2",
   "metadata": {},
   "outputs": [
    {
     "data": {
      "text/plain": [
       "500000"
      ]
     },
     "execution_count": 98,
     "metadata": {},
     "output_type": "execute_result"
    }
   ],
   "source": [
    "d2 ['Salary']"
   ]
  },
  {
   "cell_type": "code",
   "execution_count": 99,
   "id": "c11fdf58-c36d-46f9-a144-d82d781c3ca0",
   "metadata": {},
   "outputs": [
    {
     "data": {
      "text/plain": [
       "'Preeti'"
      ]
     },
     "execution_count": 99,
     "metadata": {},
     "output_type": "execute_result"
    }
   ],
   "source": [
    "d2 ['Name']"
   ]
  },
  {
   "cell_type": "code",
   "execution_count": 100,
   "id": "16a65d3f-7e37-4c44-9af8-b1a1e115581f",
   "metadata": {},
   "outputs": [],
   "source": [
    "d2['Department'] = 'Manager'"
   ]
  },
  {
   "cell_type": "code",
   "execution_count": 101,
   "id": "63bcc9c7-3b46-47b0-9292-f25512f6281f",
   "metadata": {},
   "outputs": [
    {
     "data": {
      "text/plain": [
       "{'Name': 'Preeti',\n",
       " 'Department': 'Manager',\n",
       " 'Employee_id': 101,\n",
       " 'Salary': 500000}"
      ]
     },
     "execution_count": 101,
     "metadata": {},
     "output_type": "execute_result"
    }
   ],
   "source": [
    "d2"
   ]
  },
  {
   "cell_type": "code",
   "execution_count": 102,
   "id": "7a090589-ec90-4c61-a1ef-531b64c593dc",
   "metadata": {},
   "outputs": [
    {
     "data": {
      "text/plain": [
       "dict_values(['Preeti', 'Manager', 101, 500000])"
      ]
     },
     "execution_count": 102,
     "metadata": {},
     "output_type": "execute_result"
    }
   ],
   "source": [
    "d2.values()"
   ]
  },
  {
   "cell_type": "code",
   "execution_count": 103,
   "id": "e8331b43-10ce-46f3-84ca-579471a55979",
   "metadata": {},
   "outputs": [
    {
     "data": {
      "text/plain": [
       "dict_keys(['Name', 'Department', 'Employee_id', 'Salary'])"
      ]
     },
     "execution_count": 103,
     "metadata": {},
     "output_type": "execute_result"
    }
   ],
   "source": [
    "d2.keys()"
   ]
  },
  {
   "cell_type": "code",
   "execution_count": 105,
   "id": "af2f6821-3596-4b58-be3a-3918e037d483",
   "metadata": {},
   "outputs": [],
   "source": [
    "d3 = {'Bus_no' : 102, 'Seat_no' :2, 'root' : 'Pune', 'Time' : 10 }"
   ]
  },
  {
   "cell_type": "code",
   "execution_count": 106,
   "id": "54c2fe5c-c732-4a2d-aacb-fd51a35fb532",
   "metadata": {},
   "outputs": [
    {
     "data": {
      "text/plain": [
       "'Pune'"
      ]
     },
     "execution_count": 106,
     "metadata": {},
     "output_type": "execute_result"
    }
   ],
   "source": [
    "d3 ['root']"
   ]
  },
  {
   "cell_type": "code",
   "execution_count": 107,
   "id": "b938087c-688e-4d54-b243-45abc8959a0d",
   "metadata": {},
   "outputs": [],
   "source": [
    "d3 ['Ac or Non'] = 'Ac'"
   ]
  },
  {
   "cell_type": "code",
   "execution_count": 108,
   "id": "4d7bfb49-7c6f-4ece-87dc-bd366613d831",
   "metadata": {},
   "outputs": [
    {
     "data": {
      "text/plain": [
       "{'Bus_no': 102, 'Seat_no': 2, 'root': 'Pune', 'Time': 10, 'Ac or Non': 'Ac'}"
      ]
     },
     "execution_count": 108,
     "metadata": {},
     "output_type": "execute_result"
    }
   ],
   "source": [
    "d3"
   ]
  },
  {
   "cell_type": "code",
   "execution_count": 109,
   "id": "2d94cc63-ee4b-433a-9d28-90aeba8bfc65",
   "metadata": {},
   "outputs": [
    {
     "data": {
      "text/plain": [
       "dict_keys(['Bus_no', 'Seat_no', 'root', 'Time', 'Ac or Non'])"
      ]
     },
     "execution_count": 109,
     "metadata": {},
     "output_type": "execute_result"
    }
   ],
   "source": [
    "d3.keys()"
   ]
  },
  {
   "cell_type": "code",
   "execution_count": 110,
   "id": "4ac27e02-043f-46f4-99f8-c3841b4b1d61",
   "metadata": {},
   "outputs": [
    {
     "data": {
      "text/plain": [
       "dict_values([102, 2, 'Pune', 10, 'Ac'])"
      ]
     },
     "execution_count": 110,
     "metadata": {},
     "output_type": "execute_result"
    }
   ],
   "source": [
    "d3.values()"
   ]
  },
  {
   "cell_type": "code",
   "execution_count": null,
   "id": "c029735d-3f7c-40c1-b603-7d9d7529f081",
   "metadata": {},
   "outputs": [],
   "source": []
  }
 ],
 "metadata": {
  "kernelspec": {
   "display_name": "Python 3 (ipykernel)",
   "language": "python",
   "name": "python3"
  },
  "language_info": {
   "codemirror_mode": {
    "name": "ipython",
    "version": 3
   },
   "file_extension": ".py",
   "mimetype": "text/x-python",
   "name": "python",
   "nbconvert_exporter": "python",
   "pygments_lexer": "ipython3",
   "version": "3.12.7"
  }
 },
 "nbformat": 4,
 "nbformat_minor": 5
}
