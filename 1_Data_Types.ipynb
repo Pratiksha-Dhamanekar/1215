{
 "cells": [
  {
   "cell_type": "markdown",
   "id": "546da8b8-897b-4c09-b987-38f9c14ee2eb",
   "metadata": {},
   "source": [
    "# Data Types"
   ]
  },
  {
   "cell_type": "markdown",
   "id": "927a4c77-6d0d-4ae3-bc14-54bc067bcac3",
   "metadata": {},
   "source": [
    "# Int"
   ]
  },
  {
   "cell_type": "markdown",
   "id": "93312b0f-a7f2-4fdc-9aa5-6f35c6d960f2",
   "metadata": {},
   "source": [
    "Complete Number is Int data"
   ]
  },
  {
   "cell_type": "code",
   "execution_count": 2,
   "id": "85e447c6-8947-4730-b9f8-81901b4d56b4",
   "metadata": {},
   "outputs": [
    {
     "data": {
      "text/plain": [
       "5"
      ]
     },
     "execution_count": 2,
     "metadata": {},
     "output_type": "execute_result"
    }
   ],
   "source": [
    "5"
   ]
  },
  {
   "cell_type": "code",
   "execution_count": 3,
   "id": "1deacf28-4d75-43b1-9eca-4785fb35faac",
   "metadata": {},
   "outputs": [
    {
     "data": {
      "text/plain": [
       "int"
      ]
     },
     "execution_count": 3,
     "metadata": {},
     "output_type": "execute_result"
    }
   ],
   "source": [
    "type(5)"
   ]
  },
  {
   "cell_type": "markdown",
   "id": "0552958e-e67c-4438-a2b9-983f726cae7a",
   "metadata": {},
   "source": [
    "# Float"
   ]
  },
  {
   "cell_type": "markdown",
   "id": "0fc4e544-73ef-41e7-8fa3-0531c131dca7",
   "metadata": {},
   "source": [
    "Numbers in decimal format"
   ]
  },
  {
   "cell_type": "code",
   "execution_count": 4,
   "id": "ad365593-9f44-4e70-9e2c-cc5032f8f944",
   "metadata": {},
   "outputs": [
    {
     "data": {
      "text/plain": [
       "34.0"
      ]
     },
     "execution_count": 4,
     "metadata": {},
     "output_type": "execute_result"
    }
   ],
   "source": [
    "34.00"
   ]
  },
  {
   "cell_type": "code",
   "execution_count": 5,
   "id": "fd115478-09df-4f3a-a208-8cf4f5590c9e",
   "metadata": {},
   "outputs": [
    {
     "data": {
      "text/plain": [
       "float"
      ]
     },
     "execution_count": 5,
     "metadata": {},
     "output_type": "execute_result"
    }
   ],
   "source": [
    "type(34.00)"
   ]
  },
  {
   "cell_type": "markdown",
   "id": "f9fae047-795e-435d-bd0b-5eea7e07ae7a",
   "metadata": {},
   "source": [
    "# Complex Number"
   ]
  },
  {
   "cell_type": "markdown",
   "id": "9025a9ca-02d1-4a23-a2c3-e62d08da145f",
   "metadata": {},
   "source": [
    "Vector plotting by using real axis + imgainary axis"
   ]
  },
  {
   "cell_type": "code",
   "execution_count": 6,
   "id": "4643b45d-2bc2-476c-b0f6-1c153e67a9a0",
   "metadata": {},
   "outputs": [
    {
     "data": {
      "text/plain": [
       "(5+3j)"
      ]
     },
     "execution_count": 6,
     "metadata": {},
     "output_type": "execute_result"
    }
   ],
   "source": [
    "5+3j"
   ]
  },
  {
   "cell_type": "code",
   "execution_count": 7,
   "id": "afc6ce91-e353-424d-9ded-0abb595d1d2c",
   "metadata": {},
   "outputs": [
    {
     "data": {
      "text/plain": [
       "(10+9j)"
      ]
     },
     "execution_count": 7,
     "metadata": {},
     "output_type": "execute_result"
    }
   ],
   "source": [
    "10+9j"
   ]
  },
  {
   "cell_type": "markdown",
   "id": "c7f02c56-7dc4-4e8e-ad05-68f20c06b0f1",
   "metadata": {},
   "source": [
    "# String"
   ]
  },
  {
   "cell_type": "markdown",
   "id": "bfbac993-ebbd-4ceb-984a-b757444e290f",
   "metadata": {},
   "source": [
    "For writing down letters, sentences, names"
   ]
  },
  {
   "cell_type": "code",
   "execution_count": 8,
   "id": "5c2adac0-2a96-4f98-9846-f7127348e7ae",
   "metadata": {},
   "outputs": [
    {
     "data": {
      "text/plain": [
       "'Today we are learning data types'"
      ]
     },
     "execution_count": 8,
     "metadata": {},
     "output_type": "execute_result"
    }
   ],
   "source": [
    "\"Today we are learning data types\""
   ]
  },
  {
   "cell_type": "code",
   "execution_count": 9,
   "id": "e978558f-784c-4ee0-a3ca-f280c5d9deca",
   "metadata": {},
   "outputs": [
    {
     "name": "stdout",
     "output_type": "stream",
     "text": [
      "Today we are learning data types\n"
     ]
    }
   ],
   "source": [
    "print(\"Today we are learning data types\")"
   ]
  },
  {
   "cell_type": "code",
   "execution_count": 10,
   "id": "d6690f7b-1a7e-483d-a9fc-e7e560e015a6",
   "metadata": {},
   "outputs": [
    {
     "data": {
      "text/plain": [
       "'This is my line no One.\\nThis is my line no Two.\\nThis is my line no Three'"
      ]
     },
     "execution_count": 10,
     "metadata": {},
     "output_type": "execute_result"
    }
   ],
   "source": [
    "\"\"\"This is my line no One.\n",
    "This is my line no Two.\n",
    "This is my line no Three\"\"\""
   ]
  },
  {
   "cell_type": "code",
   "execution_count": null,
   "id": "5b6742ff-2ad7-4c5d-92be-8f0a711a8340",
   "metadata": {},
   "outputs": [],
   "source": [
    "# How you will write down multiple line sentences"
   ]
  },
  {
   "cell_type": "code",
   "execution_count": 11,
   "id": "6678d395-81a3-4df5-8f08-0aea6e2b095f",
   "metadata": {},
   "outputs": [
    {
     "name": "stdout",
     "output_type": "stream",
     "text": [
      "This is my line no One.\n",
      "This is my line no Two.\n",
      "This is my line no Three\n"
     ]
    }
   ],
   "source": [
    "print(\"\"\"This is my line no One.\n",
    "This is my line no Two.\n",
    "This is my line no Three\"\"\")"
   ]
  },
  {
   "cell_type": "code",
   "execution_count": 12,
   "id": "0d967f9f-7e83-493d-a5dc-1bee2541f112",
   "metadata": {},
   "outputs": [
    {
     "data": {
      "text/plain": [
       "str"
      ]
     },
     "execution_count": 12,
     "metadata": {},
     "output_type": "execute_result"
    }
   ],
   "source": [
    "type(\"Pratiksha\")"
   ]
  },
  {
   "cell_type": "markdown",
   "id": "1afcac19-5051-45f7-9b0b-7dcc7832c12c",
   "metadata": {},
   "source": [
    "# Boolean"
   ]
  },
  {
   "cell_type": "markdown",
   "id": "57eb07f3-706c-4af2-8f3e-c9132132149c",
   "metadata": {},
   "source": [
    "True or False outputs"
   ]
  },
  {
   "cell_type": "code",
   "execution_count": 13,
   "id": "7c7c9739-4221-4124-a687-288195178525",
   "metadata": {},
   "outputs": [
    {
     "data": {
      "text/plain": [
       "True"
      ]
     },
     "execution_count": 13,
     "metadata": {},
     "output_type": "execute_result"
    }
   ],
   "source": [
    "15 > 9"
   ]
  },
  {
   "cell_type": "code",
   "execution_count": 14,
   "id": "38ae50b0-1286-4ca5-93e6-15fec400ff82",
   "metadata": {},
   "outputs": [
    {
     "data": {
      "text/plain": [
       "False"
      ]
     },
     "execution_count": 14,
     "metadata": {},
     "output_type": "execute_result"
    }
   ],
   "source": [
    "5 > 9"
   ]
  },
  {
   "cell_type": "code",
   "execution_count": 15,
   "id": "1af517e6-1266-4748-a0e1-b75a027b69da",
   "metadata": {},
   "outputs": [
    {
     "data": {
      "text/plain": [
       "13"
      ]
     },
     "execution_count": 15,
     "metadata": {},
     "output_type": "execute_result"
    }
   ],
   "source": [
    "5 + 8"
   ]
  },
  {
   "cell_type": "code",
   "execution_count": 16,
   "id": "cde1b598-aef4-490a-8cee-3a54c397d4af",
   "metadata": {},
   "outputs": [
    {
     "ename": "TypeError",
     "evalue": "unsupported operand type(s) for +: 'int' and 'str'",
     "output_type": "error",
     "traceback": [
      "\u001b[1;31m---------------------------------------------------------------------------\u001b[0m",
      "\u001b[1;31mTypeError\u001b[0m                                 Traceback (most recent call last)",
      "Cell \u001b[1;32mIn[16], line 1\u001b[0m\n\u001b[1;32m----> 1\u001b[0m \u001b[38;5;241m5\u001b[39m \u001b[38;5;241m+\u001b[39m \u001b[38;5;124m'\u001b[39m\u001b[38;5;124mHello\u001b[39m\u001b[38;5;124m'\u001b[39m\n",
      "\u001b[1;31mTypeError\u001b[0m: unsupported operand type(s) for +: 'int' and 'str'"
     ]
    }
   ],
   "source": [
    "5 + 'Hello'"
   ]
  },
  {
   "cell_type": "code",
   "execution_count": 17,
   "id": "240fb7fe-fae0-491d-b8b1-9bedee1214e9",
   "metadata": {},
   "outputs": [
    {
     "data": {
      "text/plain": [
       "'HelloPython'"
      ]
     },
     "execution_count": 17,
     "metadata": {},
     "output_type": "execute_result"
    }
   ],
   "source": [
    "'Hello' + 'Python'"
   ]
  },
  {
   "cell_type": "raw",
   "id": "9a4d7f1c-ad7c-4fc1-b7cc-0fd149522e98",
   "metadata": {},
   "source": [
    "int + string ?\n",
    "5 + 'Vaibhav'\n",
    "--> No\n",
    "Diff data types"
   ]
  },
  {
   "cell_type": "code",
   "execution_count": 18,
   "id": "70485f4a-383c-4106-b6ed-87841748f2c1",
   "metadata": {},
   "outputs": [
    {
     "data": {
      "text/plain": [
       "11.5"
      ]
     },
     "execution_count": 18,
     "metadata": {},
     "output_type": "execute_result"
    }
   ],
   "source": [
    "5 + 6.5"
   ]
  },
  {
   "cell_type": "raw",
   "id": "30631750-2565-462d-98f2-e42e58a244cd",
   "metadata": {},
   "source": [
    "number + string ?\n",
    "737278 + 'Hello'"
   ]
  },
  {
   "cell_type": "code",
   "execution_count": 19,
   "id": "7f404581-2eb4-47cc-ab09-59bdf8e72256",
   "metadata": {},
   "outputs": [
    {
     "data": {
      "text/plain": [
       "1599996"
      ]
     },
     "execution_count": 19,
     "metadata": {},
     "output_type": "execute_result"
    }
   ],
   "source": [
    "737278 + 862718"
   ]
  },
  {
   "cell_type": "code",
   "execution_count": 20,
   "id": "5a78db21-fe5b-4f2e-b7cf-ae68b340a18b",
   "metadata": {},
   "outputs": [
    {
     "data": {
      "text/plain": [
       "'HelloPython'"
      ]
     },
     "execution_count": 20,
     "metadata": {},
     "output_type": "execute_result"
    }
   ],
   "source": [
    "\"Hello\" + \"Python\""
   ]
  },
  {
   "cell_type": "code",
   "execution_count": null,
   "id": "7f231a97-36ed-4ce7-ab6c-034bbd9d1393",
   "metadata": {},
   "outputs": [],
   "source": []
  }
 ],
 "metadata": {
  "kernelspec": {
   "display_name": "Python 3 (ipykernel)",
   "language": "python",
   "name": "python3"
  },
  "language_info": {
   "codemirror_mode": {
    "name": "ipython",
    "version": 3
   },
   "file_extension": ".py",
   "mimetype": "text/x-python",
   "name": "python",
   "nbconvert_exporter": "python",
   "pygments_lexer": "ipython3",
   "version": "3.12.7"
  }
 },
 "nbformat": 4,
 "nbformat_minor": 5
}
