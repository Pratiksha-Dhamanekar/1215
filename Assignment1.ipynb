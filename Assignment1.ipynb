{
 "cells": [
  {
   "cell_type": "markdown",
   "id": "1b45573a-82d2-4e4a-81b9-eb1ce2c093db",
   "metadata": {},
   "source": [
    "# Python Basics And Data Type"
   ]
  },
  {
   "cell_type": "markdown",
   "id": "a0699c6b-c5ee-473a-95b9-c2d045e6291f",
   "metadata": {},
   "source": [
    "1.Variable Manipulation"
   ]
  },
  {
   "cell_type": "raw",
   "id": "0f2086b4-f197-4933-8ea4-c253d3a6273a",
   "metadata": {},
   "source": [
    "Define variables to store a students name,age,GAP,and list of Subjects."
   ]
  },
  {
   "cell_type": "code",
   "execution_count": 1,
   "id": "258c05a7-3a33-422e-b322-27c6e7c2fcdf",
   "metadata": {},
   "outputs": [],
   "source": [
    "Name = 'Seema'\n",
    "Age  = 25\n",
    "GAP  = 3.70\n",
    "Subject = 'Math'"
   ]
  },
  {
   "cell_type": "code",
   "execution_count": 2,
   "id": "a4d52256-6318-44ae-b2e2-00b9d8075251",
   "metadata": {},
   "outputs": [
    {
     "data": {
      "text/plain": [
       "'Seema'"
      ]
     },
     "execution_count": 2,
     "metadata": {},
     "output_type": "execute_result"
    }
   ],
   "source": [
    "Name"
   ]
  },
  {
   "cell_type": "code",
   "execution_count": 3,
   "id": "e2aa9980-264c-4f0d-af1d-bb2f73792c3f",
   "metadata": {},
   "outputs": [
    {
     "data": {
      "text/plain": [
       "25"
      ]
     },
     "execution_count": 3,
     "metadata": {},
     "output_type": "execute_result"
    }
   ],
   "source": [
    "Age"
   ]
  },
  {
   "cell_type": "code",
   "execution_count": 4,
   "id": "836f852a-5da9-4c6f-84b4-0726a856d970",
   "metadata": {},
   "outputs": [
    {
     "data": {
      "text/plain": [
       "3.7"
      ]
     },
     "execution_count": 4,
     "metadata": {},
     "output_type": "execute_result"
    }
   ],
   "source": [
    "GAP"
   ]
  },
  {
   "cell_type": "code",
   "execution_count": 5,
   "id": "08e329ec-3637-4b26-8094-9fe0adb57f5b",
   "metadata": {},
   "outputs": [
    {
     "data": {
      "text/plain": [
       "'Math'"
      ]
     },
     "execution_count": 5,
     "metadata": {},
     "output_type": "execute_result"
    }
   ],
   "source": [
    "Subject"
   ]
  },
  {
   "cell_type": "raw",
   "id": "2332ad11-a6df-4b32-b7ad-41d0580688ff",
   "metadata": {},
   "source": [
    "Convert age from years to months and display  the result"
   ]
  },
  {
   "cell_type": "code",
   "execution_count": 6,
   "id": "173e8f78-7309-4735-a706-a7871c9fb720",
   "metadata": {},
   "outputs": [
    {
     "data": {
      "text/plain": [
       "300"
      ]
     },
     "execution_count": 6,
     "metadata": {},
     "output_type": "execute_result"
    }
   ],
   "source": [
    "Age * 12"
   ]
  },
  {
   "cell_type": "raw",
   "id": "6508a085-999b-4f9d-a08d-14519b37fbe9",
   "metadata": {},
   "source": [
    "Concatenate and print a sentence using all the defined variable"
   ]
  },
  {
   "cell_type": "code",
   "execution_count": 14,
   "id": "091b2c45-9de0-4982-a052-849d6e1addcb",
   "metadata": {},
   "outputs": [
    {
     "name": "stdout",
     "output_type": "stream",
     "text": [
      "Student Seema is 25 years old (300 months), has a GAP of 3.7, and Studies Math.\n"
     ]
    }
   ],
   "source": [
    "print('Student ' + Name + ' is ' + str (Age)  + ' years old (' + str( Age * 12 )  +  ' months), has a GAP of ' + str(GAP) + ', and Studies ' + Subject + '.')"
   ]
  },
  {
   "cell_type": "markdown",
   "id": "a384c998-f8be-4561-9958-bdd1e3a58f31",
   "metadata": {},
   "source": [
    "# 2.Type Conversion"
   ]
  },
  {
   "cell_type": "raw",
   "id": "07f95d8f-bd77-4da6-9aff-dd81c8d64f74",
   "metadata": {},
   "source": [
    "Convert a float to an integer and explain what happens to the decimal part "
   ]
  },
  {
   "cell_type": "code",
   "execution_count": 15,
   "id": "fd23ba4f-b5fc-4138-b91d-b11e9b4b4967",
   "metadata": {},
   "outputs": [],
   "source": [
    "Num = 20.2"
   ]
  },
  {
   "cell_type": "code",
   "execution_count": 16,
   "id": "f5ee8d4f-c504-413c-9db1-045fb21f3e83",
   "metadata": {},
   "outputs": [
    {
     "data": {
      "text/plain": [
       "20"
      ]
     },
     "execution_count": 16,
     "metadata": {},
     "output_type": "execute_result"
    }
   ],
   "source": [
    "int(Num)"
   ]
  },
  {
   "cell_type": "code",
   "execution_count": null,
   "id": "abfb7902-df96-4d65-b8eb-38c736e17906",
   "metadata": {},
   "outputs": [],
   "source": []
  }
 ],
 "metadata": {
  "kernelspec": {
   "display_name": "Python 3 (ipykernel)",
   "language": "python",
   "name": "python3"
  },
  "language_info": {
   "codemirror_mode": {
    "name": "ipython",
    "version": 3
   },
   "file_extension": ".py",
   "mimetype": "text/x-python",
   "name": "python",
   "nbconvert_exporter": "python",
   "pygments_lexer": "ipython3",
   "version": "3.12.7"
  }
 },
 "nbformat": 4,
 "nbformat_minor": 5
}
