{
 "cells": [
  {
   "cell_type": "code",
   "execution_count": 1,
   "id": "5a15122c-e7f9-48f3-9e57-47eb77c6027c",
   "metadata": {},
   "outputs": [],
   "source": [
    "l = [1,2,4,4.3,3.2,[10,20,1.5,3.6],5]"
   ]
  },
  {
   "cell_type": "code",
   "execution_count": 2,
   "id": "d0de8f46-081a-4118-896f-37d91392b71c",
   "metadata": {},
   "outputs": [
    {
     "name": "stdout",
     "output_type": "stream",
     "text": [
      "1 <class 'int'>\n",
      "2 <class 'int'>\n",
      "4 <class 'int'>\n",
      "4.3 <class 'float'>\n",
      "3.2 <class 'float'>\n",
      "[10, 20, 1.5, 3.6] <class 'list'>\n",
      "5 <class 'int'>\n"
     ]
    }
   ],
   "source": [
    "for i in l:\n",
    "    print(i, type(i))"
   ]
  },
  {
   "cell_type": "code",
   "execution_count": 3,
   "id": "ae55dda6-1f5e-473d-b3ec-5b16f30a2572",
   "metadata": {},
   "outputs": [
    {
     "data": {
      "text/plain": [
       "[1, 2, 4, 4.3, 3.2, [10, 20, 1.5, 3.6], 5]"
      ]
     },
     "execution_count": 3,
     "metadata": {},
     "output_type": "execute_result"
    }
   ],
   "source": [
    "l"
   ]
  },
  {
   "cell_type": "code",
   "execution_count": 4,
   "id": "20df6b8d-d718-4362-a74a-cecfd31a7073",
   "metadata": {},
   "outputs": [
    {
     "name": "stdout",
     "output_type": "stream",
     "text": [
      "10\n",
      "20\n",
      "1.5\n",
      "3.6\n"
     ]
    }
   ],
   "source": [
    "for i in l:\n",
    "    if type(i) == list:\n",
    "        for data in i:\n",
    "            print(data)"
   ]
  },
  {
   "cell_type": "code",
   "execution_count": 5,
   "id": "ebef02d0-5b04-4429-87dd-522434719b58",
   "metadata": {},
   "outputs": [
    {
     "data": {
      "text/plain": [
       "[1, 2, 4, 4.3, 3.2, [10, 20, 1.5, 3.6], 5]"
      ]
     },
     "execution_count": 5,
     "metadata": {},
     "output_type": "execute_result"
    }
   ],
   "source": [
    "l"
   ]
  },
  {
   "cell_type": "code",
   "execution_count": 6,
   "id": "371147e7-d1eb-4b66-8442-ed89d5510d89",
   "metadata": {},
   "outputs": [
    {
     "name": "stdout",
     "output_type": "stream",
     "text": [
      "1\n",
      "2\n",
      "4\n",
      "10\n",
      "20\n",
      "5\n"
     ]
    }
   ],
   "source": [
    "for i in l:\n",
    "    if type(i) == int:\n",
    "        print(i)\n",
    "    elif type(i) == list:\n",
    "        for data in i:\n",
    "            if type(data) == int:\n",
    "                print(data)"
   ]
  },
  {
   "cell_type": "code",
   "execution_count": 7,
   "id": "0d054d17-6923-4361-841c-62d97c0932e9",
   "metadata": {},
   "outputs": [
    {
     "name": "stdout",
     "output_type": "stream",
     "text": [
      "H\n",
      "e\n",
      "l\n",
      "l\n",
      "o\n",
      " \n",
      "P\n",
      "y\n",
      "t\n",
      "h\n",
      "o\n",
      "n\n"
     ]
    }
   ],
   "source": [
    "for i in 'Hello Python':\n",
    "    print(i)"
   ]
  },
  {
   "cell_type": "code",
   "execution_count": 8,
   "id": "d1fa7878-0e47-40f8-8b73-b6b8e9f7f386",
   "metadata": {},
   "outputs": [],
   "source": [
    "l1 = ['Hello', 'Python', 'Data', 'Science',1]"
   ]
  },
  {
   "cell_type": "code",
   "execution_count": 9,
   "id": "ca3b2f47-c394-4a10-bff2-4f6d2a20b20b",
   "metadata": {},
   "outputs": [
    {
     "name": "stdout",
     "output_type": "stream",
     "text": [
      "Hello\n",
      "Python\n",
      "Data\n",
      "Science\n",
      "1\n"
     ]
    }
   ],
   "source": [
    "for i in l1:\n",
    "    print(i)"
   ]
  },
  {
   "cell_type": "code",
   "execution_count": 10,
   "id": "39e3e252-4c37-462e-9848-a15d1891fd45",
   "metadata": {},
   "outputs": [
    {
     "name": "stdout",
     "output_type": "stream",
     "text": [
      "H\n",
      "e\n",
      "l\n",
      "l\n",
      "o\n",
      "P\n",
      "y\n",
      "t\n",
      "h\n",
      "o\n",
      "n\n",
      "D\n",
      "a\n",
      "t\n",
      "a\n",
      "S\n",
      "c\n",
      "i\n",
      "e\n",
      "n\n",
      "c\n",
      "e\n"
     ]
    }
   ],
   "source": [
    "for i in l1:\n",
    "    if type(i) == str:\n",
    "        for data in i:\n",
    "            print(data)"
   ]
  },
  {
   "cell_type": "code",
   "execution_count": 11,
   "id": "e7d28c9e-5c99-4858-81c4-69592ff363ff",
   "metadata": {},
   "outputs": [],
   "source": [
    "a = []\n",
    "for i in l1:\n",
    "    if type(i) == str:\n",
    "        for data in i:\n",
    "            a.append(data)"
   ]
  },
  {
   "cell_type": "code",
   "execution_count": 12,
   "id": "c72c988d-71bd-42fd-be7a-2243e958c824",
   "metadata": {},
   "outputs": [
    {
     "data": {
      "text/plain": [
       "['H',\n",
       " 'e',\n",
       " 'l',\n",
       " 'l',\n",
       " 'o',\n",
       " 'P',\n",
       " 'y',\n",
       " 't',\n",
       " 'h',\n",
       " 'o',\n",
       " 'n',\n",
       " 'D',\n",
       " 'a',\n",
       " 't',\n",
       " 'a',\n",
       " 'S',\n",
       " 'c',\n",
       " 'i',\n",
       " 'e',\n",
       " 'n',\n",
       " 'c',\n",
       " 'e']"
      ]
     },
     "execution_count": 12,
     "metadata": {},
     "output_type": "execute_result"
    }
   ],
   "source": [
    "a"
   ]
  },
  {
   "cell_type": "code",
   "execution_count": 13,
   "id": "4099e5de-1588-4920-817c-91b131443c3e",
   "metadata": {},
   "outputs": [
    {
     "data": {
      "text/plain": [
       "3"
      ]
     },
     "execution_count": 13,
     "metadata": {},
     "output_type": "execute_result"
    }
   ],
   "source": [
    "a.count('e')"
   ]
  },
  {
   "cell_type": "code",
   "execution_count": 14,
   "id": "e63ffd78-2be8-4fc2-b984-09e07dcfb9c8",
   "metadata": {},
   "outputs": [
    {
     "name": "stdout",
     "output_type": "stream",
     "text": [
      "My name starts with H\n",
      "My name starts with e\n",
      "My name starts with l\n",
      "My name starts with l\n",
      "My name starts with o\n",
      "My name starts with P\n",
      "My name starts with y\n",
      "My name starts with t\n",
      "My name starts with h\n",
      "My name starts with o\n",
      "My name starts with n\n",
      "My name starts with D\n",
      "My name starts with a\n",
      "My name starts with t\n",
      "My name starts with a\n",
      "My name starts with S\n",
      "My name starts with c\n",
      "My name starts with i\n",
      "My name starts with e\n",
      "My name starts with n\n",
      "My name starts with c\n",
      "My name starts with e\n"
     ]
    }
   ],
   "source": [
    "for i in l1:\n",
    "    if type(i) == str:\n",
    "        for data in i:\n",
    "            print('My name starts with',data)"
   ]
  },
  {
   "cell_type": "code",
   "execution_count": 15,
   "id": "6e9d8ff8-3606-43a9-a800-88dc03fdc685",
   "metadata": {},
   "outputs": [],
   "source": [
    "# Break Continue pass"
   ]
  },
  {
   "cell_type": "markdown",
   "id": "909184b9-f9f5-4c3a-8ee7-132c3838c358",
   "metadata": {},
   "source": [
    "# Break"
   ]
  },
  {
   "cell_type": "code",
   "execution_count": 16,
   "id": "0530c972-3b23-496d-9e22-cbd996a27722",
   "metadata": {},
   "outputs": [
    {
     "name": "stdout",
     "output_type": "stream",
     "text": [
      "D\n",
      "a\n",
      "t\n",
      "a\n",
      " \n",
      "S\n",
      "c\n",
      "i\n"
     ]
    }
   ],
   "source": [
    "for i in 'Data Science':\n",
    "    if i == 'e':\n",
    "        break\n",
    "    print(i)"
   ]
  },
  {
   "cell_type": "code",
   "execution_count": 17,
   "id": "bdad0847-e66b-4572-923b-c46119b45c5a",
   "metadata": {},
   "outputs": [],
   "source": [
    "s = ['Vaibhav', 'Rahul', 'Aditi', 'Anushka']"
   ]
  },
  {
   "cell_type": "code",
   "execution_count": 18,
   "id": "915d9f04-45f6-4a7e-9627-dc738c74d1ea",
   "metadata": {},
   "outputs": [
    {
     "name": "stdout",
     "output_type": "stream",
     "text": [
      "You have recived Certification Vaibhav\n"
     ]
    }
   ],
   "source": [
    "for i in s:\n",
    "    if i  == 'Rahul':\n",
    "        break\n",
    "    print('You have recived Certification', i)"
   ]
  },
  {
   "cell_type": "code",
   "execution_count": 19,
   "id": "a331e87d-986a-423c-a099-8e4e895ae925",
   "metadata": {},
   "outputs": [
    {
     "name": "stdout",
     "output_type": "stream",
     "text": [
      "1\n",
      "2\n"
     ]
    }
   ],
   "source": [
    "for i in range(1,6):\n",
    "    if i == 3:\n",
    "        break\n",
    "    print(i)"
   ]
  },
  {
   "cell_type": "markdown",
   "id": "9500fa95-9cd1-444e-89e1-a10e21567039",
   "metadata": {},
   "source": [
    "# Continue"
   ]
  },
  {
   "cell_type": "code",
   "execution_count": 20,
   "id": "e603e936-15de-4915-a914-cf8669786f12",
   "metadata": {},
   "outputs": [
    {
     "name": "stdout",
     "output_type": "stream",
     "text": [
      "D\n",
      "t\n",
      " \n",
      "S\n",
      "c\n",
      "i\n",
      "e\n",
      "n\n",
      "c\n",
      "e\n"
     ]
    }
   ],
   "source": [
    "for i in 'Data Science':\n",
    "    if i == 'a':\n",
    "        continue\n",
    "    print(i)"
   ]
  },
  {
   "cell_type": "code",
   "execution_count": 21,
   "id": "21e51518-f35e-4e9a-a99f-b7845be2aff2",
   "metadata": {},
   "outputs": [
    {
     "data": {
      "text/plain": [
       "['Vaibhav', 'Rahul', 'Aditi', 'Anushka']"
      ]
     },
     "execution_count": 21,
     "metadata": {},
     "output_type": "execute_result"
    }
   ],
   "source": [
    "s"
   ]
  },
  {
   "cell_type": "code",
   "execution_count": 22,
   "id": "1f54f836-4d42-47b0-890d-c71b8052c17f",
   "metadata": {},
   "outputs": [
    {
     "name": "stdout",
     "output_type": "stream",
     "text": [
      "Vaibhav\n",
      "Aditi\n",
      "Anushka\n"
     ]
    }
   ],
   "source": [
    "for i in s:\n",
    "    if i == 'Rahul':\n",
    "        continue\n",
    "    print(i)"
   ]
  },
  {
   "cell_type": "code",
   "execution_count": 23,
   "id": "e82619d4-174b-43e5-b6ef-2bacccd2dcef",
   "metadata": {},
   "outputs": [
    {
     "name": "stdout",
     "output_type": "stream",
     "text": [
      "1\n",
      "2\n",
      "4\n",
      "5\n"
     ]
    }
   ],
   "source": [
    "for i in range(1,6):\n",
    "    if i == 3:\n",
    "        continue\n",
    "    print(i)"
   ]
  },
  {
   "cell_type": "markdown",
   "id": "b9df9654-7bb0-4c2f-b95e-7fac83e8dd60",
   "metadata": {},
   "source": [
    "# Pass"
   ]
  },
  {
   "cell_type": "code",
   "execution_count": 25,
   "id": "e58d7905-afe1-44b9-8b9e-57d3decd70ab",
   "metadata": {},
   "outputs": [
    {
     "ename": "SyntaxError",
     "evalue": "incomplete input (3056581046.py, line 1)",
     "output_type": "error",
     "traceback": [
      "\u001b[1;36m  Cell \u001b[1;32mIn[25], line 1\u001b[1;36m\u001b[0m\n\u001b[1;33m    for i in s:\u001b[0m\n\u001b[1;37m               ^\u001b[0m\n\u001b[1;31mSyntaxError\u001b[0m\u001b[1;31m:\u001b[0m incomplete input\n"
     ]
    }
   ],
   "source": [
    "for i in s:"
   ]
  },
  {
   "cell_type": "code",
   "execution_count": 26,
   "id": "d60c363b-f1b8-43e4-aa97-aac45df114f4",
   "metadata": {},
   "outputs": [],
   "source": [
    "for i in s:\n",
    "    pass"
   ]
  },
  {
   "cell_type": "code",
   "execution_count": 27,
   "id": "6ae508be-5c53-4d98-bdb3-6a0e348e2806",
   "metadata": {},
   "outputs": [
    {
     "data": {
      "text/plain": [
       "['Vaibhav', 'Rahul', 'Aditi', 'Anushka']"
      ]
     },
     "execution_count": 27,
     "metadata": {},
     "output_type": "execute_result"
    }
   ],
   "source": [
    "s"
   ]
  },
  {
   "cell_type": "code",
   "execution_count": 28,
   "id": "4c87d907-cc13-4357-a51e-f0a64c946d21",
   "metadata": {},
   "outputs": [
    {
     "name": "stdout",
     "output_type": "stream",
     "text": [
      "Vaibhav\n",
      "Aditi\n",
      "Anushka\n"
     ]
    }
   ],
   "source": [
    "for i in s:\n",
    "    if i == 'Rahul':\n",
    "        pass\n",
    "    else:\n",
    "        print(i)"
   ]
  },
  {
   "cell_type": "code",
   "execution_count": 29,
   "id": "b84986f8-bf4f-444d-9aee-55177923ece0",
   "metadata": {},
   "outputs": [],
   "source": [
    "if 5 > 10:\n",
    "    pass"
   ]
  },
  {
   "cell_type": "code",
   "execution_count": null,
   "id": "3aba09cf-5da7-44d0-b83b-41a98f2c9dd0",
   "metadata": {},
   "outputs": [],
   "source": []
  }
 ],
 "metadata": {
  "kernelspec": {
   "display_name": "Python 3 (ipykernel)",
   "language": "python",
   "name": "python3"
  },
  "language_info": {
   "codemirror_mode": {
    "name": "ipython",
    "version": 3
   },
   "file_extension": ".py",
   "mimetype": "text/x-python",
   "name": "python",
   "nbconvert_exporter": "python",
   "pygments_lexer": "ipython3",
   "version": "3.12.7"
  }
 },
 "nbformat": 4,
 "nbformat_minor": 5
}
