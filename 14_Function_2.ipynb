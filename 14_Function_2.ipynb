{
 "cells": [
  {
   "cell_type": "code",
   "execution_count": 1,
   "id": "a01ab917-16df-4883-82c4-d1fffc7a3ea7",
   "metadata": {},
   "outputs": [],
   "source": [
    "def test(a,b,c,d):\n",
    "    return a ,b, c, d"
   ]
  },
  {
   "cell_type": "code",
   "execution_count": 2,
   "id": "b67a7a1e-0d1b-4258-8aa8-6ccdc2d8cdb6",
   "metadata": {},
   "outputs": [
    {
     "data": {
      "text/plain": [
       "(1, 2, 3, 4)"
      ]
     },
     "execution_count": 2,
     "metadata": {},
     "output_type": "execute_result"
    }
   ],
   "source": [
    "test(1,2,3,4)"
   ]
  },
  {
   "cell_type": "markdown",
   "id": "eb0d9dbb-7bb8-4921-b6a8-19a23c0986b9",
   "metadata": {},
   "source": [
    "# ARGS"
   ]
  },
  {
   "cell_type": "code",
   "execution_count": 3,
   "id": "326e80a3-82eb-483a-95d9-2f35f75023da",
   "metadata": {},
   "outputs": [],
   "source": [
    "def test2(*args):\n",
    "    return args"
   ]
  },
  {
   "cell_type": "code",
   "execution_count": 4,
   "id": "301902f9-b867-4dcb-ad94-8232ddbd5486",
   "metadata": {},
   "outputs": [
    {
     "data": {
      "text/plain": [
       "(1, 6, 4, 2, 4, 2, 5)"
      ]
     },
     "execution_count": 4,
     "metadata": {},
     "output_type": "execute_result"
    }
   ],
   "source": [
    "test2(1,6,4,2,4,2,5)"
   ]
  },
  {
   "cell_type": "code",
   "execution_count": 5,
   "id": "4c918928-592b-4b67-b8f3-84d0939cb6d3",
   "metadata": {},
   "outputs": [
    {
     "data": {
      "text/plain": [
       "('Hello', 'Python', 1, 5, 3, 7, 2)"
      ]
     },
     "execution_count": 5,
     "metadata": {},
     "output_type": "execute_result"
    }
   ],
   "source": [
    "test2('Hello', 'Python', 1,5,3,7,2)"
   ]
  },
  {
   "cell_type": "code",
   "execution_count": 6,
   "id": "62f80988-85d3-4908-ad64-b20742a6b72c",
   "metadata": {},
   "outputs": [],
   "source": [
    "def test3(*args):\n",
    "    l = []\n",
    "    for i in args:\n",
    "        if type(i) == int:\n",
    "            l.append(i)\n",
    "    return l"
   ]
  },
  {
   "cell_type": "code",
   "execution_count": 7,
   "id": "eb240e34-8ceb-41f0-be31-4aab2adefaaa",
   "metadata": {},
   "outputs": [
    {
     "data": {
      "text/plain": [
       "[1, 5, 3, 7, 2]"
      ]
     },
     "execution_count": 7,
     "metadata": {},
     "output_type": "execute_result"
    }
   ],
   "source": [
    "test3('Hello', 'Python', 1,5,3,7,2)"
   ]
  },
  {
   "cell_type": "code",
   "execution_count": 8,
   "id": "d3b441ed-bcfd-4873-b74c-0a9e00725f5f",
   "metadata": {},
   "outputs": [],
   "source": [
    "def test4(x,*args):\n",
    "    return x, args"
   ]
  },
  {
   "cell_type": "code",
   "execution_count": 9,
   "id": "266b0924-0d76-4fc8-9c22-0fa1d9aa59f0",
   "metadata": {},
   "outputs": [
    {
     "data": {
      "text/plain": [
       "(100, (1, 2, 3, 4, 5))"
      ]
     },
     "execution_count": 9,
     "metadata": {},
     "output_type": "execute_result"
    }
   ],
   "source": [
    "test4(100,1,2,3,4,5)"
   ]
  },
  {
   "cell_type": "code",
   "execution_count": 10,
   "id": "1283c585-d7da-4774-bd5c-f86e43d71e3b",
   "metadata": {},
   "outputs": [],
   "source": [
    "def test5(a,b,c,*args):\n",
    "    return a,b,c,args"
   ]
  },
  {
   "cell_type": "code",
   "execution_count": 11,
   "id": "33f97f32-ca37-4029-8900-abd195b591fd",
   "metadata": {},
   "outputs": [
    {
     "data": {
      "text/plain": [
       "(1, 2, 3, (4, 5, 6, 7, 8, 9))"
      ]
     },
     "execution_count": 11,
     "metadata": {},
     "output_type": "execute_result"
    }
   ],
   "source": [
    "test5(1,2,3,4,5,6,7,8,9)"
   ]
  },
  {
   "cell_type": "markdown",
   "id": "e9e100a1-b6be-4235-a925-50a8f86d08aa",
   "metadata": {},
   "source": [
    "# Kwargs"
   ]
  },
  {
   "cell_type": "code",
   "execution_count": 12,
   "id": "c9aa3416-7b76-4925-a031-3196e4ea68f7",
   "metadata": {},
   "outputs": [],
   "source": [
    "def test6(**kwargs):\n",
    "    return kwargs"
   ]
  },
  {
   "cell_type": "code",
   "execution_count": 13,
   "id": "8fe7eeee-e973-4d55-993a-a47e79c1f57c",
   "metadata": {},
   "outputs": [
    {
     "data": {
      "text/plain": [
       "{'a': 5, 'b': 1, 'c': 6}"
      ]
     },
     "execution_count": 13,
     "metadata": {},
     "output_type": "execute_result"
    }
   ],
   "source": [
    "test6(a=5,b=1,c=6)"
   ]
  },
  {
   "cell_type": "code",
   "execution_count": 14,
   "id": "e3c4425d-a1b7-439e-8836-8a9850a80526",
   "metadata": {},
   "outputs": [],
   "source": [
    "def test7(a,**kwargs):\n",
    "    return a, kwargs"
   ]
  },
  {
   "cell_type": "code",
   "execution_count": 15,
   "id": "82c13564-88bf-467b-96e3-9ed6f274303e",
   "metadata": {},
   "outputs": [
    {
     "data": {
      "text/plain": [
       "(10, {'Name': 'Vaibhav', 'Mobile_No': 9289293839, 'City': 'Delhi'})"
      ]
     },
     "execution_count": 15,
     "metadata": {},
     "output_type": "execute_result"
    }
   ],
   "source": [
    "test7(10,Name ='Vaibhav',Mobile_No=9289293839,City= 'Delhi')"
   ]
  },
  {
   "cell_type": "code",
   "execution_count": 16,
   "id": "da74eedc-3ed1-408a-ba38-002efbf6d06b",
   "metadata": {},
   "outputs": [],
   "source": [
    "def test8(*args,**kwargs):\n",
    "    return args, kwargs"
   ]
  },
  {
   "cell_type": "code",
   "execution_count": 17,
   "id": "d3ea6c3b-ac96-42a2-84f9-d7e5a8c60b45",
   "metadata": {},
   "outputs": [
    {
     "data": {
      "text/plain": [
       "((1, 2, 3, 4, 2, 4, 2),\n",
       " {'Name': 'Vaibhav', 'Mobile_No': 9289293839, 'City': 'Delhi'})"
      ]
     },
     "execution_count": 17,
     "metadata": {},
     "output_type": "execute_result"
    }
   ],
   "source": [
    "test8(1,2,3,4,2,4,2,Name ='Vaibhav',Mobile_No=9289293839,City= 'Delhi')"
   ]
  },
  {
   "cell_type": "code",
   "execution_count": 18,
   "id": "7f9b56ee-5723-450c-bb61-e8ac6a91317c",
   "metadata": {},
   "outputs": [
    {
     "ename": "SyntaxError",
     "evalue": "positional argument follows keyword argument (261385953.py, line 1)",
     "output_type": "error",
     "traceback": [
      "\u001b[1;36m  Cell \u001b[1;32mIn[18], line 1\u001b[1;36m\u001b[0m\n\u001b[1;33m    test8(1,2,3,Name ='Vaibhav',Mobile_No=9289293839,1,2,3,4,5)\u001b[0m\n\u001b[1;37m                                                              ^\u001b[0m\n\u001b[1;31mSyntaxError\u001b[0m\u001b[1;31m:\u001b[0m positional argument follows keyword argument\n"
     ]
    }
   ],
   "source": [
    "test8(1,2,3,Name ='Vaibhav',Mobile_No=9289293839,1,2,3,4,5)"
   ]
  },
  {
   "cell_type": "code",
   "execution_count": 19,
   "id": "c827c553-0c6c-4fcf-a8e3-2a56c8f0074a",
   "metadata": {},
   "outputs": [
    {
     "data": {
      "text/plain": [
       "((1, 2, 3), {'Name': 'Vaibhav', 'Mobile_No': 9289293839})"
      ]
     },
     "execution_count": 19,
     "metadata": {},
     "output_type": "execute_result"
    }
   ],
   "source": [
    "test8(1,2,3,Name ='Vaibhav',Mobile_No=9289293839)"
   ]
  },
  {
   "cell_type": "markdown",
   "id": "da681c2c-358f-4576-a7c4-431cfc35ed76",
   "metadata": {},
   "source": [
    "single Argument, Multiple_Arguments, Keys and values"
   ]
  },
  {
   "cell_type": "code",
   "execution_count": 20,
   "id": "ab9ecf0f-5e7c-4f59-9f14-5701721c0fd6",
   "metadata": {},
   "outputs": [],
   "source": [
    "def test9(a,b,*args,**kwargs):\n",
    "    return a,b,args, kwargs"
   ]
  },
  {
   "cell_type": "code",
   "execution_count": 22,
   "id": "358da407-8ac2-4142-af7e-9321e63f05e8",
   "metadata": {},
   "outputs": [
    {
     "data": {
      "text/plain": [
       "(1, 2, (3, 3, 4, 5, 5, 6, 3), {'Name': 'Vaibhav', 'Mobile_No': 928929383})"
      ]
     },
     "execution_count": 22,
     "metadata": {},
     "output_type": "execute_result"
    }
   ],
   "source": [
    "test9(1,2,3,3,4,5,5,6,3,Name ='Vaibhav',Mobile_No=928929383)"
   ]
  },
  {
   "cell_type": "code",
   "execution_count": 23,
   "id": "9824f3cf-7ade-4642-8041-ac5a322312a6",
   "metadata": {},
   "outputs": [
    {
     "ename": "SyntaxError",
     "evalue": "arguments cannot follow var-keyword argument (939141432.py, line 1)",
     "output_type": "error",
     "traceback": [
      "\u001b[1;36m  Cell \u001b[1;32mIn[23], line 1\u001b[1;36m\u001b[0m\n\u001b[1;33m    def test10(a,b,**kwargs,*args):\u001b[0m\n\u001b[1;37m                            ^\u001b[0m\n\u001b[1;31mSyntaxError\u001b[0m\u001b[1;31m:\u001b[0m arguments cannot follow var-keyword argument\n"
     ]
    }
   ],
   "source": [
    "def test10(a,b,**kwargs,*args):\n",
    "    return a,b,args, kwargs"
   ]
  },
  {
   "cell_type": "markdown",
   "id": "ca20d17a-9619-40db-9ebd-815b3cecf188",
   "metadata": {},
   "source": [
    "# Lambda"
   ]
  },
  {
   "cell_type": "code",
   "execution_count": 24,
   "id": "be39c6e7-4eca-432a-8af2-a43fa1628ee1",
   "metadata": {},
   "outputs": [],
   "source": [
    "x = lambda a:a+10"
   ]
  },
  {
   "cell_type": "code",
   "execution_count": 25,
   "id": "c5ba8513-b43c-4d5a-a455-e9d19cc33f1b",
   "metadata": {},
   "outputs": [
    {
     "data": {
      "text/plain": [
       "15"
      ]
     },
     "execution_count": 25,
     "metadata": {},
     "output_type": "execute_result"
    }
   ],
   "source": [
    "x(5)"
   ]
  },
  {
   "cell_type": "code",
   "execution_count": 26,
   "id": "d80d6ce2-3949-41e0-9eeb-8be163906688",
   "metadata": {},
   "outputs": [],
   "source": [
    "s = lambda a:a*a"
   ]
  },
  {
   "cell_type": "code",
   "execution_count": 27,
   "id": "b02d91b9-8b94-4f95-aefb-cbdb003b352d",
   "metadata": {},
   "outputs": [
    {
     "data": {
      "text/plain": [
       "9"
      ]
     },
     "execution_count": 27,
     "metadata": {},
     "output_type": "execute_result"
    }
   ],
   "source": [
    "s(3)"
   ]
  },
  {
   "cell_type": "code",
   "execution_count": 28,
   "id": "5f17f9e7-0f39-4147-960f-4ac528e4f0fe",
   "metadata": {},
   "outputs": [],
   "source": [
    "x = lambda a,b:a+b"
   ]
  },
  {
   "cell_type": "code",
   "execution_count": 29,
   "id": "335d5f1e-06da-460d-a872-3553dc73953c",
   "metadata": {},
   "outputs": [
    {
     "data": {
      "text/plain": [
       "12"
      ]
     },
     "execution_count": 29,
     "metadata": {},
     "output_type": "execute_result"
    }
   ],
   "source": [
    "x(10,2)"
   ]
  },
  {
   "cell_type": "code",
   "execution_count": 30,
   "id": "28ee3f01-6ea6-4adc-bd6d-0b7d0eba7ece",
   "metadata": {},
   "outputs": [],
   "source": [
    "x = lambda *args:args"
   ]
  },
  {
   "cell_type": "code",
   "execution_count": 31,
   "id": "9dccce91-4c4f-4d2f-8f91-4ffd47968e90",
   "metadata": {},
   "outputs": [
    {
     "data": {
      "text/plain": [
       "(1, 2, 3, 2, 4, 2, 4)"
      ]
     },
     "execution_count": 31,
     "metadata": {},
     "output_type": "execute_result"
    }
   ],
   "source": [
    "x(1,2,3,2,4,2,4)"
   ]
  },
  {
   "cell_type": "code",
   "execution_count": 32,
   "id": "0292ff06-4b95-40fe-8338-5ab5173be6dd",
   "metadata": {},
   "outputs": [
    {
     "name": "stdout",
     "output_type": "stream",
     "text": [
      "1\n",
      "2\n",
      "3\n",
      "4\n",
      "5\n"
     ]
    }
   ],
   "source": [
    "for i in range(1,6):\n",
    "    print(i)"
   ]
  },
  {
   "cell_type": "code",
   "execution_count": 33,
   "id": "1a6f2c33-b095-4f2a-8afb-e9f2cf3e25f8",
   "metadata": {},
   "outputs": [
    {
     "data": {
      "text/plain": [
       "[1, 2, 3, 4, 5]"
      ]
     },
     "execution_count": 33,
     "metadata": {},
     "output_type": "execute_result"
    }
   ],
   "source": [
    "[i for i in range(1,6)]"
   ]
  },
  {
   "cell_type": "code",
   "execution_count": 34,
   "id": "31a807a6-2c20-4a9c-a2ca-f3470c791e66",
   "metadata": {},
   "outputs": [
    {
     "data": {
      "text/plain": [
       "[11, 12, 13, 14, 15, 16, 17, 18, 19, 20]"
      ]
     },
     "execution_count": 34,
     "metadata": {},
     "output_type": "execute_result"
    }
   ],
   "source": [
    "[i+10 for i in range(1,11)]"
   ]
  },
  {
   "cell_type": "code",
   "execution_count": 35,
   "id": "acd97862-5370-4151-9e38-d9be2a98e1cb",
   "metadata": {},
   "outputs": [
    {
     "data": {
      "text/plain": [
       "[1, 4, 9, 16, 25, 36, 49, 64, 81, 100]"
      ]
     },
     "execution_count": 35,
     "metadata": {},
     "output_type": "execute_result"
    }
   ],
   "source": [
    "[i*i for i in range(1,11)]"
   ]
  },
  {
   "cell_type": "code",
   "execution_count": 36,
   "id": "b96bef8a-7ee5-4bea-87f5-61efeba9f9dc",
   "metadata": {},
   "outputs": [],
   "source": [
    "numbers = 1,2,3,4,5,6,7"
   ]
  },
  {
   "cell_type": "code",
   "execution_count": 37,
   "id": "fca172c9-9f8c-425c-9f1d-7cee837c707d",
   "metadata": {},
   "outputs": [
    {
     "name": "stdout",
     "output_type": "stream",
     "text": [
      "2\n",
      "4\n",
      "6\n"
     ]
    }
   ],
   "source": [
    "for i in numbers:\n",
    "    if i % 2 == 0:\n",
    "        print(i)"
   ]
  },
  {
   "cell_type": "code",
   "execution_count": 38,
   "id": "d1a46f8b-4aa4-46cd-84a2-309a6d93ab47",
   "metadata": {},
   "outputs": [
    {
     "data": {
      "text/plain": [
       "[2, 4, 6]"
      ]
     },
     "execution_count": 38,
     "metadata": {},
     "output_type": "execute_result"
    }
   ],
   "source": [
    "[i for i in numbers if i % 2 ==0]"
   ]
  },
  {
   "cell_type": "code",
   "execution_count": 39,
   "id": "47bdad0a-800e-4ab8-928d-45bf00b151f2",
   "metadata": {},
   "outputs": [
    {
     "data": {
      "text/plain": [
       "(1, 2, 3, 4, 5, 6, 7)"
      ]
     },
     "execution_count": 39,
     "metadata": {},
     "output_type": "execute_result"
    }
   ],
   "source": [
    "numbers"
   ]
  },
  {
   "cell_type": "code",
   "execution_count": 40,
   "id": "87e9c78c-e6e8-4a0c-882d-f8361338d764",
   "metadata": {},
   "outputs": [
    {
     "data": {
      "text/plain": [
       "['Odd', 'Even', 'Odd', 'Even', 'Odd', 'Even', 'Odd']"
      ]
     },
     "execution_count": 40,
     "metadata": {},
     "output_type": "execute_result"
    }
   ],
   "source": [
    "['Even' if i % 2 ==0 else 'Odd' for i in numbers]"
   ]
  },
  {
   "cell_type": "code",
   "execution_count": 41,
   "id": "4c81b2dc-de6b-4c0c-98b5-3c2895049bd8",
   "metadata": {},
   "outputs": [],
   "source": [
    "marks = [45,78,33,23,73]"
   ]
  },
  {
   "cell_type": "code",
   "execution_count": 42,
   "id": "a0154c34-de67-4cec-89de-ed21e2c1bca9",
   "metadata": {},
   "outputs": [
    {
     "data": {
      "text/plain": [
       "['Pass', 'Pass', 'Fail', 'Fail', 'Pass']"
      ]
     },
     "execution_count": 42,
     "metadata": {},
     "output_type": "execute_result"
    }
   ],
   "source": [
    "['Pass' if i >= 35 else 'Fail' for i in marks]"
   ]
  },
  {
   "cell_type": "markdown",
   "id": "49e231ad-10ae-4ecc-bfae-7f554f91dfc1",
   "metadata": {},
   "source": [
    "# Dictionary Comprehension"
   ]
  },
  {
   "cell_type": "code",
   "execution_count": 43,
   "id": "dc02b73a-82bc-48f3-a22f-7ac29480d9f0",
   "metadata": {},
   "outputs": [
    {
     "data": {
      "text/plain": [
       "{1: 11, 2: 12, 3: 13, 4: 14, 5: 15}"
      ]
     },
     "execution_count": 43,
     "metadata": {},
     "output_type": "execute_result"
    }
   ],
   "source": [
    "{i:i+10 for i in range(1,6)}"
   ]
  },
  {
   "cell_type": "code",
   "execution_count": 44,
   "id": "0866698d-b0c9-4a0a-9774-7475e217c2b1",
   "metadata": {},
   "outputs": [
    {
     "data": {
      "text/plain": [
       "{1: 1, 2: 4, 3: 9, 4: 16, 5: 25}"
      ]
     },
     "execution_count": 44,
     "metadata": {},
     "output_type": "execute_result"
    }
   ],
   "source": [
    "{i:i * i for i in range(1,6)}"
   ]
  },
  {
   "cell_type": "code",
   "execution_count": null,
   "id": "467a78e7-6adc-4081-9bef-7c6b97069f70",
   "metadata": {},
   "outputs": [],
   "source": []
  }
 ],
 "metadata": {
  "kernelspec": {
   "display_name": "Python 3 (ipykernel)",
   "language": "python",
   "name": "python3"
  },
  "language_info": {
   "codemirror_mode": {
    "name": "ipython",
    "version": 3
   },
   "file_extension": ".py",
   "mimetype": "text/x-python",
   "name": "python",
   "nbconvert_exporter": "python",
   "pygments_lexer": "ipython3",
   "version": "3.12.7"
  }
 },
 "nbformat": 4,
 "nbformat_minor": 5
}
