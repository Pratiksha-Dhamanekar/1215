{
 "cells": [
  {
   "cell_type": "markdown",
   "id": "20300c9e-966f-4061-9625-2e118ed7b929",
   "metadata": {},
   "source": [
    "# 1.Print Numbers from 1 to 10:"
   ]
  },
  {
   "cell_type": "markdown",
   "id": "c8bfa1d0-e3f3-4f4d-ab1d-22cffaa498f9",
   "metadata": {},
   "source": [
    "Write a program using a for loop to print numbers from 1 to 10:"
   ]
  },
  {
   "cell_type": "code",
   "execution_count": 1,
   "id": "fcfcea97-e845-4e28-84e7-c570b40d0bb7",
   "metadata": {},
   "outputs": [
    {
     "name": "stdout",
     "output_type": "stream",
     "text": [
      "1\n",
      "2\n",
      "3\n",
      "4\n",
      "5\n",
      "6\n",
      "7\n",
      "8\n",
      "9\n",
      "10\n"
     ]
    }
   ],
   "source": [
    "for i in range(1, 11):\n",
    "    print(i)"
   ]
  },
  {
   "cell_type": "markdown",
   "id": "d72b43ca-4c4e-442b-aa54-974473bdfb05",
   "metadata": {},
   "source": [
    "# 2.Print Each Character in a String "
   ]
  },
  {
   "cell_type": "markdown",
   "id": "c02f2c05-931d-411c-b168-17c4396ea200",
   "metadata": {},
   "source": [
    "Ask the user to enter a word and use a for loop to print each character in the word"
   ]
  },
  {
   "cell_type": "code",
   "execution_count": 3,
   "id": "2ddec6dc-b200-4ada-a2d3-62b4623fdabb",
   "metadata": {},
   "outputs": [
    {
     "name": "stdin",
     "output_type": "stream",
     "text": [
      "Enter a word:  Hellow\n"
     ]
    },
    {
     "name": "stdout",
     "output_type": "stream",
     "text": [
      "H\n",
      "e\n",
      "l\n",
      "l\n",
      "o\n",
      "w\n"
     ]
    }
   ],
   "source": [
    "word = input(\"Enter a word: \")\n",
    "for char in word:\n",
    "    print(char)\n"
   ]
  },
  {
   "cell_type": "markdown",
   "id": "ffc7879b-14ec-40b4-9899-d4d2c02aa179",
   "metadata": {},
   "source": [
    "# 3.Count Up and Down"
   ]
  },
  {
   "cell_type": "markdown",
   "id": "260deada-3a4d-4645-86b6-6462661f85f1",
   "metadata": {},
   "source": [
    "Use a For loop to print numbers from 1 to 5 and then back down to 1"
   ]
  },
  {
   "cell_type": "code",
   "execution_count": 5,
   "id": "2074866d-c922-417b-a428-a9d3cbc355fa",
   "metadata": {},
   "outputs": [
    {
     "name": "stdout",
     "output_type": "stream",
     "text": [
      "1\n",
      "2\n",
      "3\n",
      "4\n",
      "5\n",
      "4\n",
      "3\n",
      "2\n",
      "1\n"
     ]
    }
   ],
   "source": [
    "for i in range(1, 6):\n",
    "    print(i)\n",
    "for i in range(4, 0, -1):\n",
    "    print(i)"
   ]
  },
  {
   "cell_type": "markdown",
   "id": "bc8668bf-dedd-466a-ba0d-8a08853d922d",
   "metadata": {},
   "source": [
    "# 4.Print Elements of a list"
   ]
  },
  {
   "cell_type": "markdown",
   "id": "ceb706c2-f5d4-4d9c-af15-8daff0c2daa5",
   "metadata": {},
   "source": [
    "Define a list of fruits ([\"apple\", \"banana\", \"cherry\", \"date\"]) and use a for loop  to Print each fruits in the list"
   ]
  },
  {
   "cell_type": "code",
   "execution_count": 7,
   "id": "e4f478fc-e75c-4c48-b169-186ae3f2258b",
   "metadata": {},
   "outputs": [
    {
     "name": "stdout",
     "output_type": "stream",
     "text": [
      "apple\n",
      "banana\n",
      "cherry\n",
      "date\n"
     ]
    }
   ],
   "source": [
    "fruits = [\"apple\", \"banana\", \"cherry\", \"date\"]\n",
    "for fruit in fruits:\n",
    "    print(fruit)\n"
   ]
  },
  {
   "cell_type": "markdown",
   "id": "365c8ba2-739a-4c8f-8420-906029034dd4",
   "metadata": {},
   "source": [
    "# 5.Print Even Numbers between 1 to 10"
   ]
  },
  {
   "cell_type": "markdown",
   "id": "ed108e17-49fa-42bc-8572-e95925fb04a4",
   "metadata": {},
   "source": [
    "Use a for loop to print all even numbers between 1 to 10"
   ]
  },
  {
   "cell_type": "code",
   "execution_count": 8,
   "id": "b6bbdcb4-5caf-4662-85f5-7d653c6abcbe",
   "metadata": {},
   "outputs": [
    {
     "name": "stdout",
     "output_type": "stream",
     "text": [
      "2\n",
      "4\n",
      "6\n",
      "8\n",
      "10\n"
     ]
    }
   ],
   "source": [
    "for i in range(1, 11):\n",
    "    if i % 2 == 0:\n",
    "        print(i)"
   ]
  },
  {
   "cell_type": "markdown",
   "id": "c1e8943a-1f86-426f-94c3-2bca310a373e",
   "metadata": {},
   "source": [
    "# 6.Simple sum of a list : "
   ]
  },
  {
   "cell_type": "markdown",
   "id": "02db1fdd-2060-4924-ad84-7b6e1432d39b",
   "metadata": {},
   "source": [
    "write a program that calculates the sum of numbers list ([1,2,3,4,5]) using a for loop"
   ]
  },
  {
   "cell_type": "code",
   "execution_count": 9,
   "id": "7b2580cc-657f-4291-8dc2-0422402b02ed",
   "metadata": {},
   "outputs": [
    {
     "name": "stdout",
     "output_type": "stream",
     "text": [
      "The sum is: 15\n"
     ]
    }
   ],
   "source": [
    "numbers = [1, 2, 3, 4, 5]\n",
    "total = 0\n",
    "for num in numbers:\n",
    "    total += num\n",
    "print(\"The sum is:\", total)\n"
   ]
  },
  {
   "cell_type": "markdown",
   "id": "53e777ec-b756-48d8-8c03-a94816cafd69",
   "metadata": {},
   "source": [
    "# 7.Count Down from 1 to 5"
   ]
  },
  {
   "cell_type": "markdown",
   "id": "9523c002-0ab3-494f-93c7-f4181685186d",
   "metadata": {},
   "source": [
    "Use a for loop to Print numbers in revers for 1 to 5"
   ]
  },
  {
   "cell_type": "code",
   "execution_count": 10,
   "id": "d7e626ae-9bda-4711-bcd2-1e51b74f2f97",
   "metadata": {},
   "outputs": [
    {
     "name": "stdout",
     "output_type": "stream",
     "text": [
      "5\n",
      "4\n",
      "3\n",
      "2\n",
      "1\n"
     ]
    }
   ],
   "source": [
    "for i in range(5, 0, -1):\n",
    "    print(i)"
   ]
  },
  {
   "cell_type": "markdown",
   "id": "4b3751ff-54b3-4318-93f5-eff1e4005a8f",
   "metadata": {},
   "source": [
    "# 8. Square each numbers in list:"
   ]
  },
  {
   "cell_type": "markdown",
   "id": "9c3ecf91-8160-42da-a0e8-c360e60b53d4",
   "metadata": {},
   "source": [
    "Give a list of numbers [1, 2, 3, 4, 5] use a for loop to print the square of each number"
   ]
  },
  {
   "cell_type": "code",
   "execution_count": 11,
   "id": "cc356909-6674-4c90-a354-7451b62b11be",
   "metadata": {},
   "outputs": [
    {
     "name": "stdout",
     "output_type": "stream",
     "text": [
      "1\n",
      "4\n",
      "9\n",
      "16\n",
      "25\n"
     ]
    }
   ],
   "source": [
    "numbers = [1, 2, 3, 4, 5]\n",
    "for num in numbers:\n",
    "    print(num ** 2)\n"
   ]
  },
  {
   "cell_type": "markdown",
   "id": "c28f1a0b-d54e-41b6-9b93-299a6ee60ae9",
   "metadata": {},
   "source": [
    "# Repeat a Word Multiple Times:"
   ]
  },
  {
   "cell_type": "markdown",
   "id": "7017f6d1-5e20-4315-95b2-fb4f00e53c1c",
   "metadata": {},
   "source": [
    "Ask the user for a word and a number N.Use a for loop to print the word N times"
   ]
  },
  {
   "cell_type": "code",
   "execution_count": 14,
   "id": "d5fb4185-de36-45f3-9618-16910b8920e2",
   "metadata": {},
   "outputs": [
    {
     "name": "stdin",
     "output_type": "stream",
     "text": [
      "Enter a word:  Hi\n",
      "Enter a number:  3\n"
     ]
    },
    {
     "name": "stdout",
     "output_type": "stream",
     "text": [
      "Hi\n",
      "Hi\n",
      "Hi\n"
     ]
    }
   ],
   "source": [
    "word = input(\"Enter a word: \")\n",
    "n = int(input(\"Enter a number: \"))\n",
    "for i in range(n):\n",
    "    print(word)\n"
   ]
  },
  {
   "cell_type": "code",
   "execution_count": null,
   "id": "3b7d2f47-5a46-4b40-928e-a00a5519f73e",
   "metadata": {},
   "outputs": [],
   "source": []
  }
 ],
 "metadata": {
  "kernelspec": {
   "display_name": "Python 3 (ipykernel)",
   "language": "python",
   "name": "python3"
  },
  "language_info": {
   "codemirror_mode": {
    "name": "ipython",
    "version": 3
   },
   "file_extension": ".py",
   "mimetype": "text/x-python",
   "name": "python",
   "nbconvert_exporter": "python",
   "pygments_lexer": "ipython3",
   "version": "3.12.7"
  }
 },
 "nbformat": 4,
 "nbformat_minor": 5
}
