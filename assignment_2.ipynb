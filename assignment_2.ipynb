{
 "cells": [
  {
   "cell_type": "markdown",
   "id": "53c43787-acea-461f-abeb-7f91e1345527",
   "metadata": {},
   "source": [
    "# Data Structures - List,Tuple,Set,and Dictionary"
   ]
  },
  {
   "cell_type": "markdown",
   "id": "0f74ce5f-8191-4fd2-b36b-dd814348c7c3",
   "metadata": {},
   "source": [
    "1.Working With Lists: "
   ]
  },
  {
   "cell_type": "markdown",
   "id": "559daff2-9170-422e-a6c7-cab9421e9a5b",
   "metadata": {},
   "source": [
    "Create a list of integers and:"
   ]
  },
  {
   "cell_type": "code",
   "execution_count": 3,
   "id": "56a5ec44-5124-43c3-8535-bdc9a145009a",
   "metadata": {},
   "outputs": [],
   "source": [
    "N = [10,20,30,40,30,20]"
   ]
  },
  {
   "cell_type": "markdown",
   "id": "025ab29e-aceb-4489-bda6-e8d7d497e0fc",
   "metadata": {},
   "source": [
    "Append a new number"
   ]
  },
  {
   "cell_type": "code",
   "execution_count": 5,
   "id": "a14c5e45-d13f-4c6e-98f7-680334ff9f6f",
   "metadata": {},
   "outputs": [],
   "source": [
    "N.append(50)"
   ]
  },
  {
   "cell_type": "code",
   "execution_count": 6,
   "id": "5873776b-c4b0-4d4d-a443-c66f7bcf497e",
   "metadata": {},
   "outputs": [
    {
     "data": {
      "text/plain": [
       "[10, 20, 30, 40, 30, 20, 50]"
      ]
     },
     "execution_count": 6,
     "metadata": {},
     "output_type": "execute_result"
    }
   ],
   "source": [
    "N"
   ]
  },
  {
   "cell_type": "markdown",
   "id": "b041ba2f-0319-4921-83bb-a813d3b85705",
   "metadata": {},
   "source": [
    "Insert a number at a specific index"
   ]
  },
  {
   "cell_type": "code",
   "execution_count": 7,
   "id": "c0c2bedb-e7f6-4b99-adf4-19d0378a2e94",
   "metadata": {},
   "outputs": [],
   "source": [
    "N.insert(2,25)"
   ]
  },
  {
   "cell_type": "code",
   "execution_count": 8,
   "id": "32eb65c8-27ce-4314-8430-730f3f24dd6b",
   "metadata": {},
   "outputs": [
    {
     "data": {
      "text/plain": [
       "[10, 20, 25, 30, 40, 30, 20, 50]"
      ]
     },
     "execution_count": 8,
     "metadata": {},
     "output_type": "execute_result"
    }
   ],
   "source": [
    "N"
   ]
  },
  {
   "cell_type": "markdown",
   "id": "d7e6433f-28d8-4aa2-ba68-5dae78d6d470",
   "metadata": {},
   "source": [
    "Remove duplicates and print the final list.code"
   ]
  },
  {
   "cell_type": "code",
   "execution_count": 9,
   "id": "0455a78c-f2df-4cd0-a81c-ab55a7d9dae6",
   "metadata": {},
   "outputs": [],
   "source": [
    "N = list(set(N))"
   ]
  },
  {
   "cell_type": "code",
   "execution_count": 10,
   "id": "535ac4ba-83af-4418-9b23-d019e205ab42",
   "metadata": {},
   "outputs": [
    {
     "data": {
      "text/plain": [
       "[40, 10, 50, 20, 25, 30]"
      ]
     },
     "execution_count": 10,
     "metadata": {},
     "output_type": "execute_result"
    }
   ],
   "source": [
    "N"
   ]
  },
  {
   "cell_type": "markdown",
   "id": "1fd67ed5-c0da-44bf-ac6b-e69851b44ee4",
   "metadata": {},
   "source": [
    "2.Tuple Manipulation:"
   ]
  },
  {
   "cell_type": "markdown",
   "id": "169a766d-d4f5-446c-a3c5-3b31516f09e9",
   "metadata": {},
   "source": [
    "Define a tuple of 5 colors."
   ]
  },
  {
   "cell_type": "code",
   "execution_count": 12,
   "id": "8781e9b2-d911-4b59-b8b3-638509d8befa",
   "metadata": {},
   "outputs": [],
   "source": [
    "Colors = ('red', 'blue', 'green', 'yellow', 'purple')"
   ]
  },
  {
   "cell_type": "markdown",
   "id": "9d91a58b-ceb6-429c-8b4a-1b144d933d58",
   "metadata": {},
   "source": [
    "Try to add a new color(this will fail because tuples are immutable)"
   ]
  },
  {
   "cell_type": "code",
   "execution_count": 13,
   "id": "f5bb2cb3-433a-4b2c-b0a3-16cc4ce65051",
   "metadata": {},
   "outputs": [
    {
     "ename": "TypeError",
     "evalue": "'tuple' object does not support item assignment",
     "output_type": "error",
     "traceback": [
      "\u001b[1;31m---------------------------------------------------------------------------\u001b[0m",
      "\u001b[1;31mTypeError\u001b[0m                                 Traceback (most recent call last)",
      "Cell \u001b[1;32mIn[13], line 1\u001b[0m\n\u001b[1;32m----> 1\u001b[0m Colors[\u001b[38;5;241m0\u001b[39m] \u001b[38;5;241m=\u001b[39m \u001b[38;5;124m'\u001b[39m\u001b[38;5;124morange\u001b[39m\u001b[38;5;124m'\u001b[39m\n",
      "\u001b[1;31mTypeError\u001b[0m: 'tuple' object does not support item assignment"
     ]
    }
   ],
   "source": [
    "Colors[0] = 'orange'"
   ]
  },
  {
   "cell_type": "markdown",
   "id": "78a7948e-497d-491d-aee8-31e96a49143a",
   "metadata": {},
   "source": [
    "Convert the tuple to a list,add the color,and convert it back to a tuple"
   ]
  },
  {
   "cell_type": "code",
   "execution_count": 14,
   "id": "010c02bd-b375-4e86-82a1-887f7f4ae526",
   "metadata": {},
   "outputs": [],
   "source": [
    "Colors_list = list(Colors)"
   ]
  },
  {
   "cell_type": "code",
   "execution_count": 16,
   "id": "96d1159b-c788-4b77-ad93-d91cb76efcef",
   "metadata": {},
   "outputs": [
    {
     "data": {
      "text/plain": [
       "('red', 'blue', 'green', 'yellow', 'purple')"
      ]
     },
     "execution_count": 16,
     "metadata": {},
     "output_type": "execute_result"
    }
   ],
   "source": [
    "Colors"
   ]
  },
  {
   "cell_type": "code",
   "execution_count": 18,
   "id": "a714caf1-68a1-458b-bf87-c30645994c7d",
   "metadata": {},
   "outputs": [],
   "source": [
    "Colors_list.append('orange')"
   ]
  },
  {
   "cell_type": "code",
   "execution_count": 19,
   "id": "6a3199e2-43fe-45d0-8c78-f06adb7398fa",
   "metadata": {},
   "outputs": [],
   "source": [
    "Colors = tuple(Colors_list)"
   ]
  },
  {
   "cell_type": "code",
   "execution_count": 20,
   "id": "4d09321d-4a8d-4526-8a46-0ed19b1ade22",
   "metadata": {},
   "outputs": [
    {
     "data": {
      "text/plain": [
       "('red', 'blue', 'green', 'yellow', 'purple', 'orange')"
      ]
     },
     "execution_count": 20,
     "metadata": {},
     "output_type": "execute_result"
    }
   ],
   "source": [
    "Colors"
   ]
  },
  {
   "cell_type": "markdown",
   "id": "fc7debba-0221-4d47-bd2f-c9c180a4435e",
   "metadata": {},
   "source": [
    "3 Set Operations:"
   ]
  },
  {
   "cell_type": "markdown",
   "id": "3955f1f0-f28b-486a-b163-30ba54d6bacd",
   "metadata": {},
   "source": [
    "Create two sets of random numbers"
   ]
  },
  {
   "cell_type": "code",
   "execution_count": 21,
   "id": "3076a593-0e7f-4028-947b-d63e222c92e5",
   "metadata": {},
   "outputs": [],
   "source": [
    "set1 = {1, 2, 3, 4, 5}\n",
    "set2 = {4, 5, 6, 7, 8}"
   ]
  },
  {
   "cell_type": "markdown",
   "id": "921418b9-81d5-4862-9fe1-aeeb8a7399af",
   "metadata": {},
   "source": [
    "Union"
   ]
  },
  {
   "cell_type": "code",
   "execution_count": 22,
   "id": "1963b7e3-c698-4c58-a981-d9091af0d694",
   "metadata": {},
   "outputs": [],
   "source": [
    "union_set = set1.union(set2)"
   ]
  },
  {
   "cell_type": "code",
   "execution_count": 23,
   "id": "3bafc86d-d0d4-429b-a068-53794cb0aa7b",
   "metadata": {},
   "outputs": [
    {
     "data": {
      "text/plain": [
       "{1, 2, 3, 4, 5, 6, 7, 8}"
      ]
     },
     "execution_count": 23,
     "metadata": {},
     "output_type": "execute_result"
    }
   ],
   "source": [
    "union_set"
   ]
  },
  {
   "cell_type": "markdown",
   "id": "b25e8bb0-5856-42c5-9df0-98861a3b47f8",
   "metadata": {},
   "source": [
    "Intersection"
   ]
  },
  {
   "cell_type": "code",
   "execution_count": 25,
   "id": "82ae8445-c8e1-46ee-ac8f-563454c66dfc",
   "metadata": {},
   "outputs": [],
   "source": [
    "intersection_set = set1.intersection(set2)"
   ]
  },
  {
   "cell_type": "code",
   "execution_count": 26,
   "id": "e8b07d2d-b4f9-4959-b88c-82dd63a5b18f",
   "metadata": {},
   "outputs": [
    {
     "data": {
      "text/plain": [
       "{4, 5}"
      ]
     },
     "execution_count": 26,
     "metadata": {},
     "output_type": "execute_result"
    }
   ],
   "source": [
    "intersection_set"
   ]
  },
  {
   "cell_type": "markdown",
   "id": "3d1b82b8-0cbd-4cbb-b84e-f8fa99ac73e6",
   "metadata": {},
   "source": [
    "Difference"
   ]
  },
  {
   "cell_type": "code",
   "execution_count": 27,
   "id": "09e782da-2398-45ad-966e-2cb6dc1606bf",
   "metadata": {},
   "outputs": [],
   "source": [
    "difference_set = set1.difference(set2)"
   ]
  },
  {
   "cell_type": "code",
   "execution_count": 28,
   "id": "cb3afab9-7fbc-4259-af51-a7884f2d480e",
   "metadata": {},
   "outputs": [
    {
     "data": {
      "text/plain": [
       "{1, 2, 3}"
      ]
     },
     "execution_count": 28,
     "metadata": {},
     "output_type": "execute_result"
    }
   ],
   "source": [
    "difference_set"
   ]
  },
  {
   "cell_type": "markdown",
   "id": "c28f4e2c-fe7e-4e24-a782-96617ad07e8b",
   "metadata": {},
   "source": [
    "Remove one element from the first set and add a new element"
   ]
  },
  {
   "cell_type": "code",
   "execution_count": 29,
   "id": "9dcc12e7-94c0-4c71-a88b-efe0f7fd517e",
   "metadata": {},
   "outputs": [],
   "source": [
    "set1.remove(2)"
   ]
  },
  {
   "cell_type": "code",
   "execution_count": 30,
   "id": "df6d2fa1-64ab-4f16-8e94-3f2ab3c2a5da",
   "metadata": {},
   "outputs": [
    {
     "data": {
      "text/plain": [
       "{1, 3, 4, 5}"
      ]
     },
     "execution_count": 30,
     "metadata": {},
     "output_type": "execute_result"
    }
   ],
   "source": [
    "set1"
   ]
  },
  {
   "cell_type": "code",
   "execution_count": 31,
   "id": "450e2356-6706-40e2-b3de-3a07e4961394",
   "metadata": {},
   "outputs": [],
   "source": [
    "set1.add(10)"
   ]
  },
  {
   "cell_type": "code",
   "execution_count": 32,
   "id": "5e08a8ff-33e1-4db6-a2c2-9bfae8259d9e",
   "metadata": {},
   "outputs": [
    {
     "data": {
      "text/plain": [
       "{1, 3, 4, 5, 10}"
      ]
     },
     "execution_count": 32,
     "metadata": {},
     "output_type": "execute_result"
    }
   ],
   "source": [
    "set1"
   ]
  },
  {
   "cell_type": "markdown",
   "id": "e4f2b8d0-0e6c-463a-93da-04b785570148",
   "metadata": {},
   "source": [
    "4.Dictionary"
   ]
  },
  {
   "cell_type": "markdown",
   "id": "013fd7c2-4e49-4b00-9afc-f5fab67109cb",
   "metadata": {},
   "source": [
    "Define a dictionary for a library system with book title as keys and number of available copies as values"
   ]
  },
  {
   "cell_type": "code",
   "execution_count": 34,
   "id": "bdbf3aff-52e8-41e5-b52a-c0b4c10dc066",
   "metadata": {},
   "outputs": [],
   "source": [
    "library = {'The great gatsby' : 4,\n",
    "           '1984' : 6,\n",
    "            'To kill a mockingbird' : 3}"
   ]
  },
  {
   "cell_type": "markdown",
   "id": "81a771da-b4c4-4cb4-94cc-ddf10f3bd391",
   "metadata": {},
   "source": [
    "Update the count of a specific book after it is borrowed"
   ]
  },
  {
   "cell_type": "code",
   "execution_count": 35,
   "id": "cc427e00-e5e1-47ef-8fa5-386996d2b587",
   "metadata": {},
   "outputs": [],
   "source": [
    "library['1984'] = 1"
   ]
  },
  {
   "cell_type": "code",
   "execution_count": 36,
   "id": "60d824b7-6f06-482e-93e4-45e3801efade",
   "metadata": {},
   "outputs": [
    {
     "data": {
      "text/plain": [
       "{'The great gatsby': 4, '1984': 1, 'To kill a mockingbird': 3}"
      ]
     },
     "execution_count": 36,
     "metadata": {},
     "output_type": "execute_result"
    }
   ],
   "source": [
    "library"
   ]
  },
  {
   "cell_type": "markdown",
   "id": "bf5a71b7-8a40-4f0c-847e-a60fa744b9b8",
   "metadata": {},
   "source": [
    "Add a new book to the dictionary and print the update dictionary"
   ]
  },
  {
   "cell_type": "code",
   "execution_count": 37,
   "id": "033be529-51b6-4941-9d73-f8c2ccea9540",
   "metadata": {},
   "outputs": [],
   "source": [
    "library['The catcher in the rye'] = 5"
   ]
  },
  {
   "cell_type": "code",
   "execution_count": 38,
   "id": "22c2242a-fe94-48b0-b2a0-faf2af897625",
   "metadata": {},
   "outputs": [
    {
     "data": {
      "text/plain": [
       "{'The great gatsby': 4,\n",
       " '1984': 1,\n",
       " 'To kill a mockingbird': 3,\n",
       " 'The catcher in the rye': 5}"
      ]
     },
     "execution_count": 38,
     "metadata": {},
     "output_type": "execute_result"
    }
   ],
   "source": [
    "library"
   ]
  },
  {
   "cell_type": "code",
   "execution_count": null,
   "id": "015f6559-ea7c-4471-8d9c-27017e68b482",
   "metadata": {},
   "outputs": [],
   "source": []
  }
 ],
 "metadata": {
  "kernelspec": {
   "display_name": "Python 3 (ipykernel)",
   "language": "python",
   "name": "python3"
  },
  "language_info": {
   "codemirror_mode": {
    "name": "ipython",
    "version": 3
   },
   "file_extension": ".py",
   "mimetype": "text/x-python",
   "name": "python",
   "nbconvert_exporter": "python",
   "pygments_lexer": "ipython3",
   "version": "3.12.7"
  }
 },
 "nbformat": 4,
 "nbformat_minor": 5
}
