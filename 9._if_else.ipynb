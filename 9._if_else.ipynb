{
 "cells": [
  {
   "cell_type": "markdown",
   "id": "2079b76f-fe13-4e6e-b6ab-639c37602025",
   "metadata": {},
   "source": [
    "# If Else"
   ]
  },
  {
   "cell_type": "code",
   "execution_count": 1,
   "id": "79d15efe-4cfc-4e29-ad15-2ba79e98d87f",
   "metadata": {},
   "outputs": [
    {
     "name": "stdout",
     "output_type": "stream",
     "text": [
      "Greater\n"
     ]
    }
   ],
   "source": [
    "if 10 > 5:\n",
    "    print('Greater')\n",
    "else:\n",
    "    print('Not greater')"
   ]
  },
  {
   "cell_type": "code",
   "execution_count": 2,
   "id": "859381ac-f148-417d-98c7-8b992fcb0f3d",
   "metadata": {},
   "outputs": [
    {
     "data": {
      "text/plain": [
       "True"
      ]
     },
     "execution_count": 2,
     "metadata": {},
     "output_type": "execute_result"
    }
   ],
   "source": [
    "10 > 5"
   ]
  },
  {
   "cell_type": "code",
   "execution_count": 3,
   "id": "63ddcae2-c4f8-41dd-b00b-1fc8ee566aaf",
   "metadata": {},
   "outputs": [
    {
     "name": "stdout",
     "output_type": "stream",
     "text": [
      "Not smallar\n"
     ]
    }
   ],
   "source": [
    "if 10 < 5:\n",
    "    print('Smallar')\n",
    "else:\n",
    "    print('Not smallar')"
   ]
  },
  {
   "cell_type": "code",
   "execution_count": 4,
   "id": "53e02c3a-a3dd-4397-8831-8f5ca6805429",
   "metadata": {},
   "outputs": [
    {
     "name": "stdin",
     "output_type": "stream",
     "text": [
      "Enter your age 20\n"
     ]
    },
    {
     "name": "stdout",
     "output_type": "stream",
     "text": [
      "Allowed to driving bike/car\n"
     ]
    }
   ],
   "source": [
    "age = int(input('Enter your age'))\n",
    "if age >= 18:\n",
    "    print('Allowed to driving bike/car')\n",
    "else:\n",
    "    print('Not allowed to drive bike/car')"
   ]
  },
  {
   "cell_type": "code",
   "execution_count": 5,
   "id": "5860c2fd-2004-4356-8029-5bb8439ff802",
   "metadata": {},
   "outputs": [
    {
     "name": "stdin",
     "output_type": "stream",
     "text": [
      "Enter your password Pratiksha\n"
     ]
    },
    {
     "name": "stdout",
     "output_type": "stream",
     "text": [
      "Wrong Password\n"
     ]
    }
   ],
   "source": [
    "password = input('Enter your password')\n",
    "if password == 'vaibhav':\n",
    "    print('Right Password')\n",
    "else:\n",
    "    print('Wrong Password')"
   ]
  },
  {
   "cell_type": "code",
   "execution_count": 7,
   "id": "1d882a44-3cf4-4f18-820d-1f21511da3a9",
   "metadata": {},
   "outputs": [
    {
     "data": {
      "text/plain": [
       "False"
      ]
     },
     "execution_count": 7,
     "metadata": {},
     "output_type": "execute_result"
    }
   ],
   "source": [
    "'kkudhjjdd' == 'Pratiksha'"
   ]
  },
  {
   "cell_type": "code",
   "execution_count": 8,
   "id": "44f99647-b368-4f3b-8b19-298578719698",
   "metadata": {},
   "outputs": [
    {
     "data": {
      "text/plain": [
       "True"
      ]
     },
     "execution_count": 8,
     "metadata": {},
     "output_type": "execute_result"
    }
   ],
   "source": [
    "'Pratiksha' == 'Pratiksha'"
   ]
  },
  {
   "cell_type": "markdown",
   "id": "d665205b-7c9a-4853-9e97-204de4d97785",
   "metadata": {},
   "source": [
    "# If elif else"
   ]
  },
  {
   "cell_type": "code",
   "execution_count": 9,
   "id": "f759dd98-b792-4d53-b3e9-1fd59af1b5f5",
   "metadata": {},
   "outputs": [
    {
     "name": "stdout",
     "output_type": "stream",
     "text": [
      "Failed\n"
     ]
    }
   ],
   "source": [
    "marks = 15\n",
    "\n",
    "if marks > 90:\n",
    "    print('A+ ')\n",
    "elif marks > 80:\n",
    "    print('A')\n",
    "elif marks > 60:\n",
    "    print('B')\n",
    "elif marks > 35:\n",
    "    print('C')\n",
    "else:\n",
    "    print('Failed')"
   ]
  },
  {
   "cell_type": "code",
   "execution_count": 10,
   "id": "46993e6e-1ec1-4573-ae3a-25c5f8b0fc9b",
   "metadata": {},
   "outputs": [
    {
     "name": "stdout",
     "output_type": "stream",
     "text": [
      "Student\n"
     ]
    }
   ],
   "source": [
    "age = 9\n",
    "\n",
    "if age > 60:\n",
    "    print('Old Person')\n",
    "elif age > 40:\n",
    "    print('Middle age person')\n",
    "elif age > 18:\n",
    "    print('Young Person')\n",
    "else:\n",
    "    print('Student')"
   ]
  },
  {
   "cell_type": "code",
   "execution_count": 11,
   "id": "edccc92a-967a-4ead-b399-604f6ab651f3",
   "metadata": {},
   "outputs": [
    {
     "name": "stdin",
     "output_type": "stream",
     "text": [
      "Enter your curse name Data Analyst\n"
     ]
    },
    {
     "name": "stdout",
     "output_type": "stream",
     "text": [
      "Sorry your course Data Analyst is not availabel \n"
     ]
    }
   ],
   "source": [
    "course = input('Enter your curse name')\n",
    "\n",
    "if course == 'python':\n",
    "    print(f'Yes {course} course is availabel and its cost is 100$')\n",
    "elif course == 'java':\n",
    "    print(f'Yes {course} course is availabel and its cost is 80$')\n",
    "elif course == 'c':\n",
    "    print(f'Yes {course} course is availabel and its cost is 50$')\n",
    "else:\n",
    "    print(f'Sorry your course {course} is not availabel ')"
   ]
  },
  {
   "cell_type": "code",
   "execution_count": 12,
   "id": "4608178c-03f1-4e9b-aacf-e32237ba8c74",
   "metadata": {},
   "outputs": [
    {
     "name": "stdout",
     "output_type": "stream",
     "text": [
      "You got B Grade\n"
     ]
    }
   ],
   "source": [
    "marks = 54\n",
    "if marks >= 90 and marks <= 100:\n",
    "    print('You got A+ grade')\n",
    "elif marks >= 50 and marks < 90:\n",
    "    print('You got B Grade')\n",
    "elif marks >= 35 and marks < 50:\n",
    "    print('Pass')\n",
    "elif marks >= 0 and marks < 35:\n",
    "    print('Failed')\n",
    "else:\n",
    "    print('Write a valid marks between range of 0 - 100 marks')"
   ]
  },
  {
   "cell_type": "code",
   "execution_count": null,
   "id": "330a9839-b7b3-461e-bff0-c7ec95c410dd",
   "metadata": {},
   "outputs": [],
   "source": []
  }
 ],
 "metadata": {
  "kernelspec": {
   "display_name": "Python 3 (ipykernel)",
   "language": "python",
   "name": "python3"
  },
  "language_info": {
   "codemirror_mode": {
    "name": "ipython",
    "version": 3
   },
   "file_extension": ".py",
   "mimetype": "text/x-python",
   "name": "python",
   "nbconvert_exporter": "python",
   "pygments_lexer": "ipython3",
   "version": "3.12.7"
  }
 },
 "nbformat": 4,
 "nbformat_minor": 5
}
