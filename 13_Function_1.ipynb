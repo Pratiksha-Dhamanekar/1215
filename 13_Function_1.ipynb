{
 "cells": [
  {
   "cell_type": "code",
   "execution_count": 1,
   "id": "fe23338c-fe3e-4d44-b47f-ef044615517f",
   "metadata": {},
   "outputs": [],
   "source": [
    "def hello():\n",
    "    print('This is my hello function')"
   ]
  },
  {
   "cell_type": "code",
   "execution_count": 2,
   "id": "6b3e7cf2-cad2-42dc-bd85-c471506ceedb",
   "metadata": {},
   "outputs": [
    {
     "name": "stdout",
     "output_type": "stream",
     "text": [
      "This is my hello function\n"
     ]
    }
   ],
   "source": [
    "hello()"
   ]
  },
  {
   "cell_type": "code",
   "execution_count": 3,
   "id": "9ccb4a53-58ee-44eb-9066-158bfa78fbf2",
   "metadata": {},
   "outputs": [
    {
     "name": "stdout",
     "output_type": "stream",
     "text": [
      "This is my hello function\n"
     ]
    }
   ],
   "source": [
    "hello()"
   ]
  },
  {
   "cell_type": "code",
   "execution_count": 4,
   "id": "7d43e227-3a18-4feb-b75e-3a4fcf7e422e",
   "metadata": {},
   "outputs": [],
   "source": [
    "# Writing down description / dockstring of function"
   ]
  },
  {
   "cell_type": "code",
   "execution_count": 5,
   "id": "932e39aa-3649-431f-bd90-14dc97d20646",
   "metadata": {},
   "outputs": [],
   "source": [
    "def test():\n",
    "    \"\"\"This is my test function.\n",
    "    This will print out message of hello how are you! message.\"\"\"\n",
    "    print('hello how are you!')"
   ]
  },
  {
   "cell_type": "code",
   "execution_count": 6,
   "id": "285401cc-36bd-442d-b993-f8ae81dae85a",
   "metadata": {},
   "outputs": [
    {
     "name": "stdout",
     "output_type": "stream",
     "text": [
      "hello how are you!\n"
     ]
    }
   ],
   "source": [
    "test()"
   ]
  },
  {
   "cell_type": "code",
   "execution_count": 7,
   "id": "4d807379-fe0a-424d-a17c-f5ec89407f1e",
   "metadata": {},
   "outputs": [],
   "source": [
    "# Pass arguments in function"
   ]
  },
  {
   "cell_type": "code",
   "execution_count": 8,
   "id": "345dadc0-edea-4ce1-bc96-484bd058309c",
   "metadata": {},
   "outputs": [],
   "source": [
    "def test1(x):\n",
    "    print(x)"
   ]
  },
  {
   "cell_type": "code",
   "execution_count": 9,
   "id": "c55a9ebb-9f5e-4c6d-a67f-e1afc56d8800",
   "metadata": {},
   "outputs": [
    {
     "name": "stdout",
     "output_type": "stream",
     "text": [
      "1\n"
     ]
    }
   ],
   "source": [
    "test1(1)"
   ]
  },
  {
   "cell_type": "code",
   "execution_count": 10,
   "id": "e1fac027-592e-43f9-a372-db4e3b8faea6",
   "metadata": {},
   "outputs": [
    {
     "name": "stdout",
     "output_type": "stream",
     "text": [
      "1\n"
     ]
    },
    {
     "data": {
      "text/plain": [
       "NoneType"
      ]
     },
     "execution_count": 10,
     "metadata": {},
     "output_type": "execute_result"
    }
   ],
   "source": [
    "type(test1(1))"
   ]
  },
  {
   "cell_type": "code",
   "execution_count": 11,
   "id": "a0cb0bc6-5d78-4e02-bde3-8273ca8553a1",
   "metadata": {},
   "outputs": [
    {
     "name": "stdout",
     "output_type": "stream",
     "text": [
      "Hello\n"
     ]
    }
   ],
   "source": [
    "test1('Hello')"
   ]
  },
  {
   "cell_type": "code",
   "execution_count": 12,
   "id": "f26eb022-357f-47ab-abb3-83dc96d251db",
   "metadata": {},
   "outputs": [
    {
     "name": "stdout",
     "output_type": "stream",
     "text": [
      "Hello\n"
     ]
    },
    {
     "data": {
      "text/plain": [
       "NoneType"
      ]
     },
     "execution_count": 12,
     "metadata": {},
     "output_type": "execute_result"
    }
   ],
   "source": [
    "type(test1('Hello'))"
   ]
  },
  {
   "cell_type": "code",
   "execution_count": 13,
   "id": "9c28ed22-8afc-4e8f-bd9b-8b58e5cc0440",
   "metadata": {},
   "outputs": [
    {
     "ename": "TypeError",
     "evalue": "test1() takes 1 positional argument but 2 were given",
     "output_type": "error",
     "traceback": [
      "\u001b[1;31m---------------------------------------------------------------------------\u001b[0m",
      "\u001b[1;31mTypeError\u001b[0m                                 Traceback (most recent call last)",
      "Cell \u001b[1;32mIn[13], line 1\u001b[0m\n\u001b[1;32m----> 1\u001b[0m test1(\u001b[38;5;241m1\u001b[39m,\u001b[38;5;241m2\u001b[39m)\n",
      "\u001b[1;31mTypeError\u001b[0m: test1() takes 1 positional argument but 2 were given"
     ]
    }
   ],
   "source": [
    "test1(1,2)"
   ]
  },
  {
   "cell_type": "code",
   "execution_count": 14,
   "id": "2be5cf2f-5b09-462f-9262-5665acad21ef",
   "metadata": {},
   "outputs": [],
   "source": [
    "def test2(a,b):\n",
    "    print(a+b)"
   ]
  },
  {
   "cell_type": "code",
   "execution_count": 15,
   "id": "ea64b94c-6b75-46a0-af8d-194841e637bd",
   "metadata": {},
   "outputs": [
    {
     "name": "stdout",
     "output_type": "stream",
     "text": [
      "15\n"
     ]
    }
   ],
   "source": [
    "test2(10,5)"
   ]
  },
  {
   "cell_type": "code",
   "execution_count": 16,
   "id": "5277a355-04aa-46d5-a51e-4f23c0ba9cd2",
   "metadata": {},
   "outputs": [],
   "source": [
    "# diff b/w prin and return "
   ]
  },
  {
   "cell_type": "code",
   "execution_count": 17,
   "id": "e295f6a1-a92b-43c1-8a0b-d5a466092cb7",
   "metadata": {},
   "outputs": [],
   "source": [
    "def test3(a):\n",
    "    return a"
   ]
  },
  {
   "cell_type": "code",
   "execution_count": 18,
   "id": "6659155a-0248-471f-a6ef-80eda8860099",
   "metadata": {},
   "outputs": [
    {
     "data": {
      "text/plain": [
       "5"
      ]
     },
     "execution_count": 18,
     "metadata": {},
     "output_type": "execute_result"
    }
   ],
   "source": [
    "test3(5)"
   ]
  },
  {
   "cell_type": "code",
   "execution_count": 19,
   "id": "d498be4b-eb31-47bd-b0a3-0ec9d6105e64",
   "metadata": {},
   "outputs": [
    {
     "data": {
      "text/plain": [
       "int"
      ]
     },
     "execution_count": 19,
     "metadata": {},
     "output_type": "execute_result"
    }
   ],
   "source": [
    "type(test3(5))"
   ]
  },
  {
   "cell_type": "code",
   "execution_count": 20,
   "id": "5a92da11-1aff-4b93-8889-55f144cab8cf",
   "metadata": {},
   "outputs": [],
   "source": [
    "def square(a):\n",
    "    return a * a"
   ]
  },
  {
   "cell_type": "code",
   "execution_count": 21,
   "id": "b5d53010-e3e6-4e48-8a1a-bfeae2d647f8",
   "metadata": {},
   "outputs": [
    {
     "data": {
      "text/plain": [
       "25"
      ]
     },
     "execution_count": 21,
     "metadata": {},
     "output_type": "execute_result"
    }
   ],
   "source": [
    "square(5)"
   ]
  },
  {
   "cell_type": "code",
   "execution_count": 22,
   "id": "6d1b56d9-9a4b-43e4-9c51-0865f507dc5c",
   "metadata": {},
   "outputs": [
    {
     "data": {
      "text/plain": [
       "int"
      ]
     },
     "execution_count": 22,
     "metadata": {},
     "output_type": "execute_result"
    }
   ],
   "source": [
    "type(square(5))"
   ]
  },
  {
   "cell_type": "code",
   "execution_count": 23,
   "id": "93e76ec4-abab-45dd-a856-2558f4430eee",
   "metadata": {},
   "outputs": [],
   "source": [
    "def add(a,b):\n",
    "    return a + b"
   ]
  },
  {
   "cell_type": "code",
   "execution_count": 24,
   "id": "2af9a6bd-3ab3-4709-8157-c2c076a35d1d",
   "metadata": {},
   "outputs": [
    {
     "data": {
      "text/plain": [
       "5"
      ]
     },
     "execution_count": 24,
     "metadata": {},
     "output_type": "execute_result"
    }
   ],
   "source": [
    "add(1,4)"
   ]
  },
  {
   "cell_type": "code",
   "execution_count": 25,
   "id": "447172ad-aca2-4da2-a180-efcb995626f3",
   "metadata": {},
   "outputs": [
    {
     "data": {
      "text/plain": [
       "'Hello Python'"
      ]
     },
     "execution_count": 25,
     "metadata": {},
     "output_type": "execute_result"
    }
   ],
   "source": [
    "add('Hello ', 'Python')"
   ]
  },
  {
   "cell_type": "code",
   "execution_count": 26,
   "id": "9e5bead8-fd78-44a8-bf9f-7687260c3722",
   "metadata": {},
   "outputs": [],
   "source": [
    "def add_str(a,b):\n",
    "    return a + ' ' + b"
   ]
  },
  {
   "cell_type": "code",
   "execution_count": 27,
   "id": "909cc60a-2e65-47c8-b8ea-3736a3b2ab30",
   "metadata": {},
   "outputs": [
    {
     "data": {
      "text/plain": [
       "'Hello Python'"
      ]
     },
     "execution_count": 27,
     "metadata": {},
     "output_type": "execute_result"
    }
   ],
   "source": [
    "add_str('Hello', 'Python')"
   ]
  },
  {
   "cell_type": "code",
   "execution_count": 28,
   "id": "dfc3b591-82dc-47a4-a1ee-e72ecab7bc84",
   "metadata": {},
   "outputs": [],
   "source": [
    "# Even or odd"
   ]
  },
  {
   "cell_type": "code",
   "execution_count": 29,
   "id": "a7975e13-28d3-41fb-8c42-db6b4db58359",
   "metadata": {},
   "outputs": [],
   "source": [
    "def even_odd(a):\n",
    "    if a % 2 == 0:\n",
    "        print('Even')\n",
    "    else:\n",
    "        print('Odd')"
   ]
  },
  {
   "cell_type": "code",
   "execution_count": 30,
   "id": "a558713d-2baa-4674-aca2-c5e9723ac899",
   "metadata": {},
   "outputs": [
    {
     "name": "stdout",
     "output_type": "stream",
     "text": [
      "Even\n"
     ]
    }
   ],
   "source": [
    "even_odd(8)"
   ]
  },
  {
   "cell_type": "code",
   "execution_count": 31,
   "id": "c8357beb-c2f9-40d1-9270-3d8f3d65e9d9",
   "metadata": {},
   "outputs": [
    {
     "name": "stdout",
     "output_type": "stream",
     "text": [
      "Odd\n"
     ]
    }
   ],
   "source": [
    "even_odd(9)"
   ]
  },
  {
   "cell_type": "code",
   "execution_count": 32,
   "id": "6da93afc-3876-47ac-96cd-29a65ef2cd26",
   "metadata": {},
   "outputs": [],
   "source": [
    "def test5(a):\n",
    "    result = [] # Local variable\n",
    "    for i in a:\n",
    "        result.append(i)\n",
    "    return result"
   ]
  },
  {
   "cell_type": "code",
   "execution_count": 33,
   "id": "d21f12c0-015f-4f01-98f1-baf9b2edd931",
   "metadata": {},
   "outputs": [
    {
     "data": {
      "text/plain": [
       "['H', 'e', 'l', 'l', 'o', ' ', 'P', 'y', 't', 'h', 'o', 'n']"
      ]
     },
     "execution_count": 33,
     "metadata": {},
     "output_type": "execute_result"
    }
   ],
   "source": [
    "test5('Hello Python')"
   ]
  },
  {
   "cell_type": "code",
   "execution_count": 34,
   "id": "5d9b27f1-b55c-4e5b-89aa-a3a0d95f5542",
   "metadata": {},
   "outputs": [
    {
     "ename": "NameError",
     "evalue": "name 'result' is not defined",
     "output_type": "error",
     "traceback": [
      "\u001b[1;31m---------------------------------------------------------------------------\u001b[0m",
      "\u001b[1;31mNameError\u001b[0m                                 Traceback (most recent call last)",
      "Cell \u001b[1;32mIn[34], line 1\u001b[0m\n\u001b[1;32m----> 1\u001b[0m result\n",
      "\u001b[1;31mNameError\u001b[0m: name 'result' is not defined"
     ]
    }
   ],
   "source": [
    "result"
   ]
  },
  {
   "cell_type": "code",
   "execution_count": 35,
   "id": "4cff35fb-5a72-4d6f-8ac3-83368aba41a7",
   "metadata": {},
   "outputs": [],
   "source": [
    "output = 'This is my output' # Global Varable"
   ]
  },
  {
   "cell_type": "code",
   "execution_count": 36,
   "id": "dee2f3aa-5421-48fa-b0ab-92aafbad5d45",
   "metadata": {},
   "outputs": [
    {
     "data": {
      "text/plain": [
       "'This is my output'"
      ]
     },
     "execution_count": 36,
     "metadata": {},
     "output_type": "execute_result"
    }
   ],
   "source": [
    "output"
   ]
  },
  {
   "cell_type": "code",
   "execution_count": 37,
   "id": "247107e0-9188-43de-abed-1d982f77360b",
   "metadata": {},
   "outputs": [
    {
     "ename": "NameError",
     "evalue": "name 'result' is not defined",
     "output_type": "error",
     "traceback": [
      "\u001b[1;31m---------------------------------------------------------------------------\u001b[0m",
      "\u001b[1;31mNameError\u001b[0m                                 Traceback (most recent call last)",
      "Cell \u001b[1;32mIn[37], line 1\u001b[0m\n\u001b[1;32m----> 1\u001b[0m result\n",
      "\u001b[1;31mNameError\u001b[0m: name 'result' is not defined"
     ]
    }
   ],
   "source": [
    "result # Local Variable"
   ]
  },
  {
   "cell_type": "code",
   "execution_count": null,
   "id": "647f65db-26e5-43dc-bdbb-783f174238a1",
   "metadata": {},
   "outputs": [],
   "source": []
  }
 ],
 "metadata": {
  "kernelspec": {
   "display_name": "Python 3 (ipykernel)",
   "language": "python",
   "name": "python3"
  },
  "language_info": {
   "codemirror_mode": {
    "name": "ipython",
    "version": 3
   },
   "file_extension": ".py",
   "mimetype": "text/x-python",
   "name": "python",
   "nbconvert_exporter": "python",
   "pygments_lexer": "ipython3",
   "version": "3.12.7"
  }
 },
 "nbformat": 4,
 "nbformat_minor": 5
}
