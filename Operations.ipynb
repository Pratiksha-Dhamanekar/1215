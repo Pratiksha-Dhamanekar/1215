{
 "cells": [
  {
   "cell_type": "code",
   "execution_count": 1,
   "id": "01b69f9d-d044-4baa-9db5-ee3cc2f32cb4",
   "metadata": {},
   "outputs": [
    {
     "data": {
      "text/plain": [
       "16"
      ]
     },
     "execution_count": 1,
     "metadata": {},
     "output_type": "execute_result"
    }
   ],
   "source": [
    "10 + 6"
   ]
  },
  {
   "cell_type": "code",
   "execution_count": 2,
   "id": "01c2e507-5a3c-4012-8723-360cb0ea88a9",
   "metadata": {},
   "outputs": [
    {
     "data": {
      "text/plain": [
       "24"
      ]
     },
     "execution_count": 2,
     "metadata": {},
     "output_type": "execute_result"
    }
   ],
   "source": [
    "6 * 4"
   ]
  },
  {
   "cell_type": "code",
   "execution_count": 3,
   "id": "52cdcf1a-a1dd-4472-a320-651499bd9b7d",
   "metadata": {},
   "outputs": [
    {
     "data": {
      "text/plain": [
       "5.0"
      ]
     },
     "execution_count": 3,
     "metadata": {},
     "output_type": "execute_result"
    }
   ],
   "source": [
    "10 / 2"
   ]
  },
  {
   "cell_type": "code",
   "execution_count": 4,
   "id": "9236ec5b-ef19-4760-a6c5-5bf8070f338b",
   "metadata": {},
   "outputs": [
    {
     "data": {
      "text/plain": [
       "0"
      ]
     },
     "execution_count": 4,
     "metadata": {},
     "output_type": "execute_result"
    }
   ],
   "source": [
    "10 % 2"
   ]
  },
  {
   "cell_type": "code",
   "execution_count": 5,
   "id": "b67e17cd-d4c3-4465-b0fa-5a75b9323ddc",
   "metadata": {},
   "outputs": [
    {
     "data": {
      "text/plain": [
       "1"
      ]
     },
     "execution_count": 5,
     "metadata": {},
     "output_type": "execute_result"
    }
   ],
   "source": [
    "10 % 3"
   ]
  },
  {
   "cell_type": "code",
   "execution_count": 6,
   "id": "d795c9bb-18da-46c9-9e73-47f2ef203654",
   "metadata": {},
   "outputs": [
    {
     "data": {
      "text/plain": [
       "'HelloPython'"
      ]
     },
     "execution_count": 6,
     "metadata": {},
     "output_type": "execute_result"
    }
   ],
   "source": [
    "'Hello' + 'Python'"
   ]
  },
  {
   "cell_type": "code",
   "execution_count": 7,
   "id": "16dfcf63-b1dc-440a-8952-4f7b765bed69",
   "metadata": {},
   "outputs": [
    {
     "data": {
      "text/plain": [
       "'HelloHelloHello'"
      ]
     },
     "execution_count": 7,
     "metadata": {},
     "output_type": "execute_result"
    }
   ],
   "source": [
    "'Hello' * 3"
   ]
  },
  {
   "cell_type": "code",
   "execution_count": 8,
   "id": "2eeb5a6e-e7a9-4e2c-9bfc-943090f74910",
   "metadata": {},
   "outputs": [
    {
     "data": {
      "text/plain": [
       "'Today is holiday'"
      ]
     },
     "execution_count": 8,
     "metadata": {},
     "output_type": "execute_result"
    }
   ],
   "source": [
    "'Today' + ' ' + 'is holiday'"
   ]
  },
  {
   "cell_type": "code",
   "execution_count": 9,
   "id": "98415fc1-4cad-4bf1-86e5-4f19496fdd30",
   "metadata": {},
   "outputs": [
    {
     "data": {
      "text/plain": [
       "'Today is holiday'"
      ]
     },
     "execution_count": 9,
     "metadata": {},
     "output_type": "execute_result"
    }
   ],
   "source": [
    "'Today ' + 'is holiday'"
   ]
  },
  {
   "cell_type": "markdown",
   "id": "d68ed830-089c-4276-a94e-163d798fd48b",
   "metadata": {},
   "source": [
    "# Variable"
   ]
  },
  {
   "cell_type": "code",
   "execution_count": 10,
   "id": "5bf3f82d-2cff-4959-a299-66c9561d4c2c",
   "metadata": {},
   "outputs": [],
   "source": [
    "a = 10"
   ]
  },
  {
   "cell_type": "code",
   "execution_count": 11,
   "id": "2f5dc9b2-7ca3-4cc3-9f15-9ddec6216c0d",
   "metadata": {},
   "outputs": [],
   "source": [
    "b = 5"
   ]
  },
  {
   "cell_type": "code",
   "execution_count": 12,
   "id": "f67c53d7-32ae-4561-a447-f8a1771d6019",
   "metadata": {},
   "outputs": [
    {
     "data": {
      "text/plain": [
       "15"
      ]
     },
     "execution_count": 12,
     "metadata": {},
     "output_type": "execute_result"
    }
   ],
   "source": [
    "a + b"
   ]
  },
  {
   "cell_type": "code",
   "execution_count": 13,
   "id": "93d0b4a8-c100-484c-b80f-dfbc43a89645",
   "metadata": {},
   "outputs": [
    {
     "data": {
      "text/plain": [
       "10"
      ]
     },
     "execution_count": 13,
     "metadata": {},
     "output_type": "execute_result"
    }
   ],
   "source": [
    "a"
   ]
  },
  {
   "cell_type": "code",
   "execution_count": 14,
   "id": "73406862-30aa-433f-ab7a-ca460ec8202e",
   "metadata": {},
   "outputs": [
    {
     "data": {
      "text/plain": [
       "5"
      ]
     },
     "execution_count": 14,
     "metadata": {},
     "output_type": "execute_result"
    }
   ],
   "source": [
    "b"
   ]
  },
  {
   "cell_type": "code",
   "execution_count": 15,
   "id": "bebb6260-6e39-4352-ae15-2e8e4fa74c20",
   "metadata": {},
   "outputs": [
    {
     "data": {
      "text/plain": [
       "int"
      ]
     },
     "execution_count": 15,
     "metadata": {},
     "output_type": "execute_result"
    }
   ],
   "source": [
    "type(a)"
   ]
  },
  {
   "cell_type": "code",
   "execution_count": 16,
   "id": "f5ce1f8b-9ccf-4a77-82ad-c10fd5a259fc",
   "metadata": {},
   "outputs": [],
   "source": [
    "result = a + b"
   ]
  },
  {
   "cell_type": "code",
   "execution_count": 17,
   "id": "6a09f036-1f4e-4574-a05c-4a425fbd83aa",
   "metadata": {},
   "outputs": [
    {
     "data": {
      "text/plain": [
       "15"
      ]
     },
     "execution_count": 17,
     "metadata": {},
     "output_type": "execute_result"
    }
   ],
   "source": [
    "result"
   ]
  },
  {
   "cell_type": "code",
   "execution_count": 18,
   "id": "21ecb66b-784f-415a-b6df-364d66a409ea",
   "metadata": {},
   "outputs": [],
   "source": [
    "name = 'Vaibhav'"
   ]
  },
  {
   "cell_type": "code",
   "execution_count": 19,
   "id": "83e478d3-f3f0-48a0-acfe-63eb6f9f88f9",
   "metadata": {},
   "outputs": [
    {
     "data": {
      "text/plain": [
       "str"
      ]
     },
     "execution_count": 19,
     "metadata": {},
     "output_type": "execute_result"
    }
   ],
   "source": [
    "type(name)"
   ]
  },
  {
   "cell_type": "code",
   "execution_count": 20,
   "id": "341558c7-0043-47c7-935d-7577a7725d0e",
   "metadata": {},
   "outputs": [
    {
     "data": {
      "text/plain": [
       "'Vaibhav'"
      ]
     },
     "execution_count": 20,
     "metadata": {},
     "output_type": "execute_result"
    }
   ],
   "source": [
    "name"
   ]
  },
  {
   "cell_type": "code",
   "execution_count": 21,
   "id": "ccad005f-0288-41f5-a05e-c24401cb6dea",
   "metadata": {},
   "outputs": [
    {
     "data": {
      "text/plain": [
       "'VaibhavVaibhavVaibhavVaibhavVaibhav'"
      ]
     },
     "execution_count": 21,
     "metadata": {},
     "output_type": "execute_result"
    }
   ],
   "source": [
    "name * 5"
   ]
  },
  {
   "cell_type": "code",
   "execution_count": 22,
   "id": "ffe5b59b-0853-402d-b98b-e38fa193dc71",
   "metadata": {},
   "outputs": [
    {
     "data": {
      "text/plain": [
       "'My name is Vaibhav'"
      ]
     },
     "execution_count": 22,
     "metadata": {},
     "output_type": "execute_result"
    }
   ],
   "source": [
    "'My name is ' + name"
   ]
  },
  {
   "cell_type": "code",
   "execution_count": 23,
   "id": "c4c07a67-9bcb-486c-a830-9cb62291ff1a",
   "metadata": {},
   "outputs": [
    {
     "data": {
      "text/plain": [
       "'My name is Vaibhav. Today i am going to Pune'"
      ]
     },
     "execution_count": 23,
     "metadata": {},
     "output_type": "execute_result"
    }
   ],
   "source": [
    "'My name is ' + name + '. Today i am going to Pune'"
   ]
  },
  {
   "cell_type": "code",
   "execution_count": 24,
   "id": "0ea5a175-72de-44ed-994c-c77a79c7ff36",
   "metadata": {},
   "outputs": [
    {
     "ename": "SyntaxError",
     "evalue": "cannot assign to literal here. Maybe you meant '==' instead of '='? (637806826.py, line 1)",
     "output_type": "error",
     "traceback": [
      "\u001b[1;36m  Cell \u001b[1;32mIn[24], line 1\u001b[1;36m\u001b[0m\n\u001b[1;33m    5 = 2\u001b[0m\n\u001b[1;37m    ^\u001b[0m\n\u001b[1;31mSyntaxError\u001b[0m\u001b[1;31m:\u001b[0m cannot assign to literal here. Maybe you meant '==' instead of '='?\n"
     ]
    }
   ],
   "source": [
    "5 = 2"
   ]
  },
  {
   "cell_type": "code",
   "execution_count": 33,
   "id": "30afa59f-5d5b-49fe-ad88-c9fe231eed31",
   "metadata": {},
   "outputs": [
    {
     "ename": "SyntaxError",
     "evalue": "invalid syntax (3392610131.py, line 1)",
     "output_type": "error",
     "traceback": [
      "\u001b[1;36m  Cell \u001b[1;32mIn[33], line 1\u001b[1;36m\u001b[0m\n\u001b[1;33m    @ = 78\u001b[0m\n\u001b[1;37m      ^\u001b[0m\n\u001b[1;31mSyntaxError\u001b[0m\u001b[1;31m:\u001b[0m invalid syntax\n"
     ]
    }
   ],
   "source": [
    "@ = 78"
   ]
  },
  {
   "cell_type": "code",
   "execution_count": 26,
   "id": "1631c53c-92f3-4aa6-9215-1db2c438b594",
   "metadata": {},
   "outputs": [],
   "source": [
    "# = 5"
   ]
  },
  {
   "cell_type": "code",
   "execution_count": 27,
   "id": "77445a18-428c-46ff-957e-10318525bb61",
   "metadata": {},
   "outputs": [],
   "source": [
    "a5 = 10"
   ]
  },
  {
   "cell_type": "code",
   "execution_count": 28,
   "id": "8b4f8a5b-0645-48ec-8f90-55e80c9ecee9",
   "metadata": {},
   "outputs": [
    {
     "data": {
      "text/plain": [
       "10"
      ]
     },
     "execution_count": 28,
     "metadata": {},
     "output_type": "execute_result"
    }
   ],
   "source": [
    "a5"
   ]
  },
  {
   "cell_type": "code",
   "execution_count": 29,
   "id": "c7a799e2-a42b-4975-be63-2f249edabc04",
   "metadata": {},
   "outputs": [],
   "source": [
    "a_7 = 90"
   ]
  },
  {
   "cell_type": "code",
   "execution_count": 30,
   "id": "5987202a-28d1-4335-b35e-aacb897042c2",
   "metadata": {},
   "outputs": [
    {
     "data": {
      "text/plain": [
       "90"
      ]
     },
     "execution_count": 30,
     "metadata": {},
     "output_type": "execute_result"
    }
   ],
   "source": [
    "a_7"
   ]
  },
  {
   "cell_type": "code",
   "execution_count": 31,
   "id": "8ca7acb1-bb11-43e1-a3cf-9c159e938a95",
   "metadata": {},
   "outputs": [],
   "source": [
    "int = 10"
   ]
  },
  {
   "cell_type": "code",
   "execution_count": 32,
   "id": "a352afa6-5f11-4cb0-be5e-9b17831d2656",
   "metadata": {},
   "outputs": [
    {
     "data": {
      "text/plain": [
       "10"
      ]
     },
     "execution_count": 32,
     "metadata": {},
     "output_type": "execute_result"
    }
   ],
   "source": [
    "int"
   ]
  },
  {
   "cell_type": "markdown",
   "id": "7c99a1e8-cc75-4070-a3e1-97f81a2a76ea",
   "metadata": {},
   "source": [
    "# How to do Typecasting"
   ]
  },
  {
   "cell_type": "markdown",
   "id": "33202464-f3c1-475d-b997-39e5e3b927e1",
   "metadata": {},
   "source": [
    "Changing data type"
   ]
  },
  {
   "cell_type": "code",
   "execution_count": 2,
   "id": "5c0d981e-d28b-429c-ac03-5a5fe1a674ca",
   "metadata": {},
   "outputs": [],
   "source": [
    "a = '15'"
   ]
  },
  {
   "cell_type": "code",
   "execution_count": 3,
   "id": "c3c67bcb-bab5-481c-9f5e-10631247e4b4",
   "metadata": {},
   "outputs": [
    {
     "data": {
      "text/plain": [
       "str"
      ]
     },
     "execution_count": 3,
     "metadata": {},
     "output_type": "execute_result"
    }
   ],
   "source": [
    "type(a)"
   ]
  },
  {
   "cell_type": "code",
   "execution_count": 4,
   "id": "1a74e834-19fd-420b-a269-275e6915bc0b",
   "metadata": {},
   "outputs": [
    {
     "data": {
      "text/plain": [
       "15"
      ]
     },
     "execution_count": 4,
     "metadata": {},
     "output_type": "execute_result"
    }
   ],
   "source": [
    "int('15')"
   ]
  },
  {
   "cell_type": "code",
   "execution_count": 5,
   "id": "2c53e4d0-1ed6-4211-a4f9-b833420bbec8",
   "metadata": {},
   "outputs": [],
   "source": [
    "result = int(a)"
   ]
  },
  {
   "cell_type": "code",
   "execution_count": 6,
   "id": "761dcba0-155f-4fa9-aaaf-5a4411cb7f0a",
   "metadata": {},
   "outputs": [
    {
     "data": {
      "text/plain": [
       "15"
      ]
     },
     "execution_count": 6,
     "metadata": {},
     "output_type": "execute_result"
    }
   ],
   "source": [
    "result"
   ]
  },
  {
   "cell_type": "code",
   "execution_count": 7,
   "id": "409bc673-a21e-4f18-890c-d768da57c22b",
   "metadata": {},
   "outputs": [
    {
     "data": {
      "text/plain": [
       "int"
      ]
     },
     "execution_count": 7,
     "metadata": {},
     "output_type": "execute_result"
    }
   ],
   "source": [
    "type(result)"
   ]
  },
  {
   "cell_type": "code",
   "execution_count": 8,
   "id": "dda4ff37-ba18-4c8f-b53a-e07d41413c77",
   "metadata": {},
   "outputs": [],
   "source": [
    "d = 'Hello'"
   ]
  },
  {
   "cell_type": "code",
   "execution_count": 9,
   "id": "e3ca4455-a8ee-4677-8b95-e3e694276ad3",
   "metadata": {},
   "outputs": [
    {
     "ename": "ValueError",
     "evalue": "invalid literal for int() with base 10: 'Hello'",
     "output_type": "error",
     "traceback": [
      "\u001b[1;31m---------------------------------------------------------------------------\u001b[0m",
      "\u001b[1;31mValueError\u001b[0m                                Traceback (most recent call last)",
      "Cell \u001b[1;32mIn[9], line 1\u001b[0m\n\u001b[1;32m----> 1\u001b[0m \u001b[38;5;28mint\u001b[39m(d)\n",
      "\u001b[1;31mValueError\u001b[0m: invalid literal for int() with base 10: 'Hello'"
     ]
    }
   ],
   "source": [
    "int(d)"
   ]
  },
  {
   "cell_type": "code",
   "execution_count": 10,
   "id": "0905734f-e31f-4c89-89f2-648ef7c12034",
   "metadata": {},
   "outputs": [
    {
     "data": {
      "text/plain": [
       "5.0"
      ]
     },
     "execution_count": 10,
     "metadata": {},
     "output_type": "execute_result"
    }
   ],
   "source": [
    "float(5)"
   ]
  },
  {
   "cell_type": "code",
   "execution_count": 11,
   "id": "8d83a668-de39-498c-bd7f-5a195ea91199",
   "metadata": {},
   "outputs": [
    {
     "data": {
      "text/plain": [
       "1.45"
      ]
     },
     "execution_count": 11,
     "metadata": {},
     "output_type": "execute_result"
    }
   ],
   "source": [
    "float('1.45')"
   ]
  },
  {
   "cell_type": "code",
   "execution_count": null,
   "id": "5c9ce7e7-efe3-443e-abcf-e86d54d095ce",
   "metadata": {},
   "outputs": [],
   "source": []
  }
 ],
 "metadata": {
  "kernelspec": {
   "display_name": "Python 3 (ipykernel)",
   "language": "python",
   "name": "python3"
  },
  "language_info": {
   "codemirror_mode": {
    "name": "ipython",
    "version": 3
   },
   "file_extension": ".py",
   "mimetype": "text/x-python",
   "name": "python",
   "nbconvert_exporter": "python",
   "pygments_lexer": "ipython3",
   "version": "3.12.7"
  }
 },
 "nbformat": 4,
 "nbformat_minor": 5
}
