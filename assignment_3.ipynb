{
 "cells": [
  {
   "cell_type": "markdown",
   "id": "0ba3ba56-5295-4de8-80bb-c4dff36d16d1",
   "metadata": {},
   "source": [
    "# Conditional Statements : "
   ]
  },
  {
   "cell_type": "markdown",
   "id": "419b4615-fcd4-4803-b3ef-17ed01c2ffd9",
   "metadata": {},
   "source": [
    "1.Eligibility Check:"
   ]
  },
  {
   "cell_type": "markdown",
   "id": "1ac09c62-e57f-4ebf-8203-74619c07c339",
   "metadata": {},
   "source": [
    "Write a program that takes the age of a person as input and prints whether they are eligible to vote(18 years or older)"
   ]
  },
  {
   "cell_type": "code",
   "execution_count": 2,
   "id": "c00c4b98-afa8-4e1e-a068-8bfde60dd2f9",
   "metadata": {},
   "outputs": [
    {
     "name": "stdin",
     "output_type": "stream",
     "text": [
      "Enter your age:  22\n"
     ]
    },
    {
     "name": "stdout",
     "output_type": "stream",
     "text": [
      "You are eligible to vote.\n"
     ]
    }
   ],
   "source": [
    "age = int(input(\"Enter your age: \"))\n",
    "if age >= 18:\n",
    "    print(\"You are eligible to vote.\")\n",
    "else:\n",
    "    print(\"You are not eligible to vote.\")"
   ]
  },
  {
   "cell_type": "markdown",
   "id": "5c3aaccf-7ff4-46f5-aa87-4dfa8f3e2e4e",
   "metadata": {},
   "source": [
    "2.Number Classification:"
   ]
  },
  {
   "cell_type": "markdown",
   "id": "7372a830-b3d5-4c6d-b871-71eb21158e67",
   "metadata": {},
   "source": [
    "Take a number as input and print whether it is positive,negative,or zero"
   ]
  },
  {
   "cell_type": "code",
   "execution_count": 3,
   "id": "00a8b797-ffe6-4480-ba82-0ed18ae0a76a",
   "metadata": {},
   "outputs": [
    {
     "name": "stdin",
     "output_type": "stream",
     "text": [
      "Enter a number:  2\n"
     ]
    },
    {
     "name": "stdout",
     "output_type": "stream",
     "text": [
      "The number is positive.\n"
     ]
    }
   ],
   "source": [
    "num = float(input(\"Enter a number: \"))\n",
    "if num > 0:\n",
    "    print(\"The number is positive.\")\n",
    "elif num < 0:\n",
    "    print(\"The number is negative.\")\n",
    "else:\n",
    "    print(\"The number is zero.\")"
   ]
  },
  {
   "cell_type": "markdown",
   "id": "7510b3f4-bf30-41f5-8059-7be551f7fb52",
   "metadata": {},
   "source": [
    "3.Grade Evalution:"
   ]
  },
  {
   "cell_type": "markdown",
   "id": "69c406da-cb9f-4a01-9b89-ff0829c5c4ce",
   "metadata": {},
   "source": [
    "Write a program that asks for a students sore(out of 100)and prints their grade based on the following criteria: \n",
    "1.90 and above:'A' \n",
    "2.80-89:'B' \n",
    "3.70-79:'C' \n",
    "4.60-69:'D' \n",
    "5.Below60:'F' "
   ]
  },
  {
   "cell_type": "code",
   "execution_count": 4,
   "id": "7bbb5e52-54f1-4531-bf4d-e1edc84788be",
   "metadata": {},
   "outputs": [
    {
     "name": "stdin",
     "output_type": "stream",
     "text": [
      "Enter the student's score (out of 100):  95\n"
     ]
    },
    {
     "name": "stdout",
     "output_type": "stream",
     "text": [
      "Grade: A\n"
     ]
    }
   ],
   "source": [
    "score = float(input(\"Enter the student's score (out of 100): \"))\n",
    "if score >= 90:\n",
    "    print(\"Grade: A\")\n",
    "elif score >= 80:\n",
    "    print(\"Grade: B\")\n",
    "elif score >= 70:\n",
    "    print(\"Grade: C\")\n",
    "elif score >= 60:\n",
    "    print(\"Grade: D\")\n",
    "else:\n",
    "    print(\"Grade: F\")"
   ]
  },
  {
   "cell_type": "markdown",
   "id": "6970e3ba-07d3-4466-9c87-011a13fee0cd",
   "metadata": {},
   "source": [
    "4.Leap Year Checker:"
   ]
  },
  {
   "cell_type": "markdown",
   "id": "93b6c1f5-56c2-481e-9661-695a7901739d",
   "metadata": {},
   "source": [
    "write a program to check if a given year is a lep year."
   ]
  },
  {
   "cell_type": "code",
   "execution_count": 6,
   "id": "004e5bec-5319-40de-9274-7cf22b9c11e1",
   "metadata": {},
   "outputs": [
    {
     "name": "stdin",
     "output_type": "stream",
     "text": [
      "Enter a year:  2024\n"
     ]
    },
    {
     "name": "stdout",
     "output_type": "stream",
     "text": [
      "2024 is a leap year.\n"
     ]
    }
   ],
   "source": [
    "year = int(input(\"Enter a year: \"))\n",
    "if (year % 4 == 0 and year % 100 != 0) or (year % 400 == 0):\n",
    "    print(year, \"is a leap year.\")\n",
    "else:\n",
    "    print(year, \"is not a leap year.\")"
   ]
  },
  {
   "cell_type": "markdown",
   "id": "d850a559-b16f-4040-977d-f0766e602c1b",
   "metadata": {},
   "source": [
    "5.Max of Three Numbers:"
   ]
  },
  {
   "cell_type": "markdown",
   "id": "35485ceb-2b03-4444-8108-b402687bfe63",
   "metadata": {},
   "source": [
    "Take three numbers as input and print the largest of the three"
   ]
  },
  {
   "cell_type": "code",
   "execution_count": 8,
   "id": "a430a187-fd0c-4ced-a170-abca79818c69",
   "metadata": {},
   "outputs": [
    {
     "name": "stdin",
     "output_type": "stream",
     "text": [
      "Enter first number:  4\n",
      "Enter second number:  33\n",
      "Enter third number:  45\n"
     ]
    },
    {
     "name": "stdout",
     "output_type": "stream",
     "text": [
      "The largest number is: 45.0\n"
     ]
    }
   ],
   "source": [
    "num1 = float(input(\"Enter first number: \"))\n",
    "num2 = float(input(\"Enter second number: \"))\n",
    "num3 = float(input(\"Enter third number: \"))\n",
    "if num1 >= num2 and num1 >= num3:\n",
    "    print(\"The largest number is:\", num1)\n",
    "elif num2 >= num1 and num2 >= num3:\n",
    "    print(\"The largest number is:\", num2)\n",
    "else:\n",
    "    print(\"The largest number is:\", num3)"
   ]
  },
  {
   "cell_type": "markdown",
   "id": "615c3ab5-90d5-4e35-84b0-c889263e783c",
   "metadata": {},
   "source": [
    "6.Even or Odd:"
   ]
  },
  {
   "cell_type": "markdown",
   "id": "8e8f8681-82f2-4c95-858f-d3d2c46bf02f",
   "metadata": {},
   "source": [
    "Write a program that takes an integer input and checks if it is even or odd"
   ]
  },
  {
   "cell_type": "code",
   "execution_count": 9,
   "id": "7a869e54-b1eb-4434-85bd-4f0358114c42",
   "metadata": {},
   "outputs": [
    {
     "name": "stdin",
     "output_type": "stream",
     "text": [
      "Enter an integer:  3\n"
     ]
    },
    {
     "name": "stdout",
     "output_type": "stream",
     "text": [
      "The number is odd.\n"
     ]
    }
   ],
   "source": [
    "num = int(input(\"Enter an integer: \"))\n",
    "if num % 2 == 0:\n",
    "    print(\"The number is even.\")\n",
    "else:\n",
    "    print(\"The number is odd.\")"
   ]
  },
  {
   "cell_type": "markdown",
   "id": "61b3c543-90b7-4051-a086-ec49f2c75333",
   "metadata": {},
   "source": [
    "7.Login System:"
   ]
  },
  {
   "cell_type": "markdown",
   "id": "7a875725-b536-45a4-94ea-b5b2c8b381d1",
   "metadata": {},
   "source": [
    "Create a simple login system that asks for a username and password and checks if they match predefine values.Print\"Login Successful\" if correct,otherwise\n",
    "\"Login Failed\":"
   ]
  },
  {
   "cell_type": "code",
   "execution_count": 10,
   "id": "06ffc5d1-c2a3-4e6e-b51e-d64e38aa12be",
   "metadata": {},
   "outputs": [
    {
     "name": "stdin",
     "output_type": "stream",
     "text": [
      "Enter username:  Pratiksha\n",
      "Enter password:  1234\n"
     ]
    },
    {
     "name": "stdout",
     "output_type": "stream",
     "text": [
      "Login Successful\n"
     ]
    }
   ],
   "source": [
    "correct_username = \"Pratiksha\"\n",
    "correct_password = \"1234\"\n",
    "username = input(\"Enter username: \")\n",
    "password = input(\"Enter password: \")\n",
    "if username == correct_username and password == correct_password:\n",
    "    print(\"Login Successful\")\n",
    "else:\n",
    "    print(\"Login Failed\")"
   ]
  },
  {
   "cell_type": "markdown",
   "id": "c8746600-4a54-4a5c-8154-247348f5564f",
   "metadata": {},
   "source": [
    "8.Discount Calculation:"
   ]
  },
  {
   "cell_type": "markdown",
   "id": "efe0cab8-8e35-477b-ac50-29feac45a7e2",
   "metadata": {},
   "source": [
    "Write a program that calculates the final price of an item after applying a discount based on the price.\n",
    "1. Above $100: 20% discount. \n",
    "2. $50 - $100: 10% discount. \n",
    "3. Below $50: No discount."
   ]
  },
  {
   "cell_type": "code",
   "execution_count": 11,
   "id": "5cb0d97e-3b6c-416b-bfca-27cef8fc8e34",
   "metadata": {},
   "outputs": [
    {
     "name": "stdin",
     "output_type": "stream",
     "text": [
      "Enter the original price of the item: $ 49\n"
     ]
    },
    {
     "name": "stdout",
     "output_type": "stream",
     "text": [
      "Discount applied: $0.00\n",
      "Final price after discount: $49.00\n"
     ]
    }
   ],
   "source": [
    "price = float(input(\"Enter the original price of the item: $\"))\n",
    "if price > 100:\n",
    "    discount = 0.20  \n",
    "elif price >= 50:\n",
    "    discount = 0.1\n",
    "else:\n",
    "    discount = 0.0  \n",
    "discount_amount = price * discount\n",
    "final_price = price - discount_amount\n",
    "print(f\"Discount applied: ${discount_amount:.2f}\")\n",
    "print(f\"Final price after discount: ${final_price:.2f}\")"
   ]
  },
  {
   "cell_type": "code",
   "execution_count": null,
   "id": "b0f12d44-272d-4c67-877d-487e0730841a",
   "metadata": {},
   "outputs": [],
   "source": []
  }
 ],
 "metadata": {
  "kernelspec": {
   "display_name": "Python 3 (ipykernel)",
   "language": "python",
   "name": "python3"
  },
  "language_info": {
   "codemirror_mode": {
    "name": "ipython",
    "version": 3
   },
   "file_extension": ".py",
   "mimetype": "text/x-python",
   "name": "python",
   "nbconvert_exporter": "python",
   "pygments_lexer": "ipython3",
   "version": "3.12.7"
  }
 },
 "nbformat": 4,
 "nbformat_minor": 5
}
